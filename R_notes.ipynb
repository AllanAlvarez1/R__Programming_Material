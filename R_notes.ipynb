{
  "nbformat": 4,
  "nbformat_minor": 0,
  "metadata": {
    "colab": {
      "provenance": [],
      "authorship_tag": "ABX9TyOhW2x8jf4ii3MIFYfxzx43",
      "include_colab_link": true
    },
    "kernelspec": {
      "name": "ir",
      "display_name": "R"
    },
    "language_info": {
      "name": "R"
    }
  },
  "cells": [
    {
      "cell_type": "markdown",
      "metadata": {
        "id": "view-in-github",
        "colab_type": "text"
      },
      "source": [
        "<a href=\"https://colab.research.google.com/github/AllanAlvarez1/R__Programming_Material/blob/main/R_notes.ipynb\" target=\"_parent\"><img src=\"https://colab.research.google.com/assets/colab-badge.svg\" alt=\"Open In Colab\"/></a>"
      ]
    },
    {
      "cell_type": "markdown",
      "source": [
        "Check R version"
      ],
      "metadata": {
        "id": "_bM9vOnq8xmp"
      }
    },
    {
      "cell_type": "code",
      "execution_count": null,
      "metadata": {
        "colab": {
          "base_uri": "https://localhost:8080/",
          "height": 34
        },
        "id": "QgLSSM8n8L4z",
        "outputId": "5b00558b-c832-460d-f110-d5b9e4858d7e"
      },
      "outputs": [
        {
          "output_type": "display_data",
          "data": {
            "text/html": [
              "'R version 4.4.2 (2024-10-31)'"
            ],
            "text/markdown": "'R version 4.4.2 (2024-10-31)'",
            "text/latex": "'R version 4.4.2 (2024-10-31)'",
            "text/plain": [
              "[1] \"R version 4.4.2 (2024-10-31)\""
            ]
          },
          "metadata": {}
        }
      ],
      "source": [
        "R.version.string"
      ]
    },
    {
      "cell_type": "markdown",
      "source": [
        "Check available packages"
      ],
      "metadata": {
        "id": "_Hgr6jK68zpP"
      }
    },
    {
      "cell_type": "code",
      "source": [
        "print(installed.packages())"
      ],
      "metadata": {
        "colab": {
          "base_uri": "https://localhost:8080/"
        },
        "id": "3SCpN-MM8wvX",
        "outputId": "76b9071c-8b02-4a8a-853f-65d7c4fa527d"
      },
      "execution_count": null,
      "outputs": [
        {
          "output_type": "stream",
          "name": "stdout",
          "text": [
            "              Package         LibPath                         Version  \n",
            "IRdisplay     \"IRdisplay\"     \"/usr/local/lib/R/site-library\" \"1.1\"    \n",
            "IRkernel      \"IRkernel\"      \"/usr/local/lib/R/site-library\" \"1.3.2\"  \n",
            "pbdZMQ        \"pbdZMQ\"        \"/usr/local/lib/R/site-library\" \"0.3-13\" \n",
            "repr          \"repr\"          \"/usr/local/lib/R/site-library\" \"1.1.7\"  \n",
            "askpass       \"askpass\"       \"/usr/lib/R/site-library\"       \"1.2.1\"  \n",
            "backports     \"backports\"     \"/usr/lib/R/site-library\"       \"1.5.0\"  \n",
            "base64enc     \"base64enc\"     \"/usr/lib/R/site-library\"       \"0.1-3\"  \n",
            "bit           \"bit\"           \"/usr/lib/R/site-library\"       \"4.5.0.1\"\n",
            "bit64         \"bit64\"         \"/usr/lib/R/site-library\"       \"4.5.2\"  \n",
            "blob          \"blob\"          \"/usr/lib/R/site-library\"       \"1.2.4\"  \n",
            "boot          \"boot\"          \"/usr/lib/R/site-library\"       \"1.3-31\" \n",
            "brew          \"brew\"          \"/usr/lib/R/site-library\"       \"1.0-10\" \n",
            "brio          \"brio\"          \"/usr/lib/R/site-library\"       \"1.1.5\"  \n",
            "broom         \"broom\"         \"/usr/lib/R/site-library\"       \"1.0.7\"  \n",
            "bslib         \"bslib\"         \"/usr/lib/R/site-library\"       \"0.8.0\"  \n",
            "cachem        \"cachem\"        \"/usr/lib/R/site-library\"       \"1.1.0\"  \n",
            "callr         \"callr\"         \"/usr/lib/R/site-library\"       \"3.7.6\"  \n",
            "cellranger    \"cellranger\"    \"/usr/lib/R/site-library\"       \"1.1.0\"  \n",
            "class         \"class\"         \"/usr/lib/R/site-library\"       \"7.3-23\" \n",
            "cli           \"cli\"           \"/usr/lib/R/site-library\"       \"3.6.3\"  \n",
            "clipr         \"clipr\"         \"/usr/lib/R/site-library\"       \"0.8.0\"  \n",
            "cluster       \"cluster\"       \"/usr/lib/R/site-library\"       \"2.1.8\"  \n",
            "codetools     \"codetools\"     \"/usr/lib/R/site-library\"       \"0.2-20\" \n",
            "colorspace    \"colorspace\"    \"/usr/lib/R/site-library\"       \"2.1-1\"  \n",
            "commonmark    \"commonmark\"    \"/usr/lib/R/site-library\"       \"1.9.2\"  \n",
            "conflicted    \"conflicted\"    \"/usr/lib/R/site-library\"       \"1.2.0\"  \n",
            "cpp11         \"cpp11\"         \"/usr/lib/R/site-library\"       \"0.5.1\"  \n",
            "crayon        \"crayon\"        \"/usr/lib/R/site-library\"       \"1.5.3\"  \n",
            "credentials   \"credentials\"   \"/usr/lib/R/site-library\"       \"2.0.2\"  \n",
            "curl          \"curl\"          \"/usr/lib/R/site-library\"       \"6.1.0\"  \n",
            "data.table    \"data.table\"    \"/usr/lib/R/site-library\"       \"1.16.4\" \n",
            "DBI           \"DBI\"           \"/usr/lib/R/site-library\"       \"1.2.3\"  \n",
            "dbplyr        \"dbplyr\"        \"/usr/lib/R/site-library\"       \"2.5.0\"  \n",
            "desc          \"desc\"          \"/usr/lib/R/site-library\"       \"1.4.3\"  \n",
            "devtools      \"devtools\"      \"/usr/lib/R/site-library\"       \"2.4.5\"  \n",
            "diffobj       \"diffobj\"       \"/usr/lib/R/site-library\"       \"0.3.5\"  \n",
            "digest        \"digest\"        \"/usr/lib/R/site-library\"       \"0.6.37\" \n",
            "downlit       \"downlit\"       \"/usr/lib/R/site-library\"       \"0.4.4\"  \n",
            "dplyr         \"dplyr\"         \"/usr/lib/R/site-library\"       \"1.1.4\"  \n",
            "dtplyr        \"dtplyr\"        \"/usr/lib/R/site-library\"       \"1.3.1\"  \n",
            "ellipsis      \"ellipsis\"      \"/usr/lib/R/site-library\"       \"0.3.2\"  \n",
            "evaluate      \"evaluate\"      \"/usr/lib/R/site-library\"       \"1.0.3\"  \n",
            "fansi         \"fansi\"         \"/usr/lib/R/site-library\"       \"1.0.6\"  \n",
            "farver        \"farver\"        \"/usr/lib/R/site-library\"       \"2.1.2\"  \n",
            "fastmap       \"fastmap\"       \"/usr/lib/R/site-library\"       \"1.2.0\"  \n",
            "fontawesome   \"fontawesome\"   \"/usr/lib/R/site-library\"       \"0.5.3\"  \n",
            "forcats       \"forcats\"       \"/usr/lib/R/site-library\"       \"1.0.0\"  \n",
            "foreign       \"foreign\"       \"/usr/lib/R/site-library\"       \"0.8-88\" \n",
            "fs            \"fs\"            \"/usr/lib/R/site-library\"       \"1.6.5\"  \n",
            "gargle        \"gargle\"        \"/usr/lib/R/site-library\"       \"1.5.2\"  \n",
            "generics      \"generics\"      \"/usr/lib/R/site-library\"       \"0.1.3\"  \n",
            "gert          \"gert\"          \"/usr/lib/R/site-library\"       \"2.1.4\"  \n",
            "ggplot2       \"ggplot2\"       \"/usr/lib/R/site-library\"       \"3.5.1\"  \n",
            "gh            \"gh\"            \"/usr/lib/R/site-library\"       \"1.4.1\"  \n",
            "gitcreds      \"gitcreds\"      \"/usr/lib/R/site-library\"       \"0.1.2\"  \n",
            "glue          \"glue\"          \"/usr/lib/R/site-library\"       \"1.8.0\"  \n",
            "googledrive   \"googledrive\"   \"/usr/lib/R/site-library\"       \"2.1.1\"  \n",
            "googlesheets4 \"googlesheets4\" \"/usr/lib/R/site-library\"       \"1.1.1\"  \n",
            "gtable        \"gtable\"        \"/usr/lib/R/site-library\"       \"0.3.6\"  \n",
            "haven         \"haven\"         \"/usr/lib/R/site-library\"       \"2.5.4\"  \n",
            "highr         \"highr\"         \"/usr/lib/R/site-library\"       \"0.11\"   \n",
            "hms           \"hms\"           \"/usr/lib/R/site-library\"       \"1.1.3\"  \n",
            "htmltools     \"htmltools\"     \"/usr/lib/R/site-library\"       \"0.5.8.1\"\n",
            "htmlwidgets   \"htmlwidgets\"   \"/usr/lib/R/site-library\"       \"1.6.4\"  \n",
            "httpuv        \"httpuv\"        \"/usr/lib/R/site-library\"       \"1.6.15\" \n",
            "httr          \"httr\"          \"/usr/lib/R/site-library\"       \"1.4.7\"  \n",
            "httr2         \"httr2\"         \"/usr/lib/R/site-library\"       \"1.0.7\"  \n",
            "ids           \"ids\"           \"/usr/lib/R/site-library\"       \"1.0.1\"  \n",
            "ini           \"ini\"           \"/usr/lib/R/site-library\"       \"0.3.1\"  \n",
            "isoband       \"isoband\"       \"/usr/lib/R/site-library\"       \"0.2.7\"  \n",
            "jquerylib     \"jquerylib\"     \"/usr/lib/R/site-library\"       \"0.1.4\"  \n",
            "jsonlite      \"jsonlite\"      \"/usr/lib/R/site-library\"       \"1.8.9\"  \n",
            "KernSmooth    \"KernSmooth\"    \"/usr/lib/R/site-library\"       \"2.23-26\"\n",
            "knitr         \"knitr\"         \"/usr/lib/R/site-library\"       \"1.49\"   \n",
            "labeling      \"labeling\"      \"/usr/lib/R/site-library\"       \"0.4.3\"  \n",
            "later         \"later\"         \"/usr/lib/R/site-library\"       \"1.4.1\"  \n",
            "lattice       \"lattice\"       \"/usr/lib/R/site-library\"       \"0.22-6\" \n",
            "lifecycle     \"lifecycle\"     \"/usr/lib/R/site-library\"       \"1.0.4\"  \n",
            "lubridate     \"lubridate\"     \"/usr/lib/R/site-library\"       \"1.9.4\"  \n",
            "magrittr      \"magrittr\"      \"/usr/lib/R/site-library\"       \"2.0.3\"  \n",
            "MASS          \"MASS\"          \"/usr/lib/R/site-library\"       \"7.3-64\" \n",
            "Matrix        \"Matrix\"        \"/usr/lib/R/site-library\"       \"1.7-1\"  \n",
            "memoise       \"memoise\"       \"/usr/lib/R/site-library\"       \"2.0.1\"  \n",
            "mgcv          \"mgcv\"          \"/usr/lib/R/site-library\"       \"1.9-1\"  \n",
            "mime          \"mime\"          \"/usr/lib/R/site-library\"       \"0.12\"   \n",
            "miniUI        \"miniUI\"        \"/usr/lib/R/site-library\"       \"0.1.1.1\"\n",
            "modelr        \"modelr\"        \"/usr/lib/R/site-library\"       \"0.1.11\" \n",
            "munsell       \"munsell\"       \"/usr/lib/R/site-library\"       \"0.5.1\"  \n",
            "nlme          \"nlme\"          \"/usr/lib/R/site-library\"       \"3.1-166\"\n",
            "nnet          \"nnet\"          \"/usr/lib/R/site-library\"       \"7.3-20\" \n",
            "openssl       \"openssl\"       \"/usr/lib/R/site-library\"       \"2.3.1\"  \n",
            "pillar        \"pillar\"        \"/usr/lib/R/site-library\"       \"1.10.1\" \n",
            "pkgbuild      \"pkgbuild\"      \"/usr/lib/R/site-library\"       \"1.4.5\"  \n",
            "pkgconfig     \"pkgconfig\"     \"/usr/lib/R/site-library\"       \"2.0.3\"  \n",
            "pkgdown       \"pkgdown\"       \"/usr/lib/R/site-library\"       \"2.1.1\"  \n",
            "pkgload       \"pkgload\"       \"/usr/lib/R/site-library\"       \"1.4.0\"  \n",
            "praise        \"praise\"        \"/usr/lib/R/site-library\"       \"1.0.0\"  \n",
            "prettyunits   \"prettyunits\"   \"/usr/lib/R/site-library\"       \"1.2.0\"  \n",
            "processx      \"processx\"      \"/usr/lib/R/site-library\"       \"3.8.5\"  \n",
            "profvis       \"profvis\"       \"/usr/lib/R/site-library\"       \"0.4.0\"  \n",
            "progress      \"progress\"      \"/usr/lib/R/site-library\"       \"1.2.3\"  \n",
            "promises      \"promises\"      \"/usr/lib/R/site-library\"       \"1.3.2\"  \n",
            "ps            \"ps\"            \"/usr/lib/R/site-library\"       \"1.8.1\"  \n",
            "purrr         \"purrr\"         \"/usr/lib/R/site-library\"       \"1.0.2\"  \n",
            "R6            \"R6\"            \"/usr/lib/R/site-library\"       \"2.5.1\"  \n",
            "ragg          \"ragg\"          \"/usr/lib/R/site-library\"       \"1.3.3\"  \n",
            "rappdirs      \"rappdirs\"      \"/usr/lib/R/site-library\"       \"0.3.3\"  \n",
            "rcmdcheck     \"rcmdcheck\"     \"/usr/lib/R/site-library\"       \"1.4.0\"  \n",
            "RColorBrewer  \"RColorBrewer\"  \"/usr/lib/R/site-library\"       \"1.1-3\"  \n",
            "Rcpp          \"Rcpp\"          \"/usr/lib/R/site-library\"       \"1.0.14\" \n",
            "readr         \"readr\"         \"/usr/lib/R/site-library\"       \"2.1.5\"  \n",
            "readxl        \"readxl\"        \"/usr/lib/R/site-library\"       \"1.4.3\"  \n",
            "rematch       \"rematch\"       \"/usr/lib/R/site-library\"       \"2.0.0\"  \n",
            "rematch2      \"rematch2\"      \"/usr/lib/R/site-library\"       \"2.1.2\"  \n",
            "remotes       \"remotes\"       \"/usr/lib/R/site-library\"       \"2.5.0\"  \n",
            "reprex        \"reprex\"        \"/usr/lib/R/site-library\"       \"2.1.1\"  \n",
            "rlang         \"rlang\"         \"/usr/lib/R/site-library\"       \"1.1.4\"  \n",
            "rmarkdown     \"rmarkdown\"     \"/usr/lib/R/site-library\"       \"2.29\"   \n",
            "roxygen2      \"roxygen2\"      \"/usr/lib/R/site-library\"       \"7.3.2\"  \n",
            "rpart         \"rpart\"         \"/usr/lib/R/site-library\"       \"4.1.24\" \n",
            "rprojroot     \"rprojroot\"     \"/usr/lib/R/site-library\"       \"2.0.4\"  \n",
            "rstudioapi    \"rstudioapi\"    \"/usr/lib/R/site-library\"       \"0.17.1\" \n",
            "rversions     \"rversions\"     \"/usr/lib/R/site-library\"       \"2.1.2\"  \n",
            "rvest         \"rvest\"         \"/usr/lib/R/site-library\"       \"1.0.4\"  \n",
            "sass          \"sass\"          \"/usr/lib/R/site-library\"       \"0.4.9\"  \n",
            "scales        \"scales\"        \"/usr/lib/R/site-library\"       \"1.3.0\"  \n",
            "selectr       \"selectr\"       \"/usr/lib/R/site-library\"       \"0.4-2\"  \n",
            "sessioninfo   \"sessioninfo\"   \"/usr/lib/R/site-library\"       \"1.2.2\"  \n",
            "shiny         \"shiny\"         \"/usr/lib/R/site-library\"       \"1.10.0\" \n",
            "sourcetools   \"sourcetools\"   \"/usr/lib/R/site-library\"       \"0.1.7-1\"\n",
            "spatial       \"spatial\"       \"/usr/lib/R/site-library\"       \"7.3-18\" \n",
            "stringi       \"stringi\"       \"/usr/lib/R/site-library\"       \"1.8.4\"  \n",
            "stringr       \"stringr\"       \"/usr/lib/R/site-library\"       \"1.5.1\"  \n",
            "survival      \"survival\"      \"/usr/lib/R/site-library\"       \"3.8-3\"  \n",
            "sys           \"sys\"           \"/usr/lib/R/site-library\"       \"3.4.3\"  \n",
            "systemfonts   \"systemfonts\"   \"/usr/lib/R/site-library\"       \"1.1.0\"  \n",
            "testthat      \"testthat\"      \"/usr/lib/R/site-library\"       \"3.2.3\"  \n",
            "textshaping   \"textshaping\"   \"/usr/lib/R/site-library\"       \"0.4.1\"  \n",
            "tibble        \"tibble\"        \"/usr/lib/R/site-library\"       \"3.2.1\"  \n",
            "tidyr         \"tidyr\"         \"/usr/lib/R/site-library\"       \"1.3.1\"  \n",
            "tidyselect    \"tidyselect\"    \"/usr/lib/R/site-library\"       \"1.2.1\"  \n",
            "tidyverse     \"tidyverse\"     \"/usr/lib/R/site-library\"       \"2.0.0\"  \n",
            "timechange    \"timechange\"    \"/usr/lib/R/site-library\"       \"0.3.0\"  \n",
            "tinytex       \"tinytex\"       \"/usr/lib/R/site-library\"       \"0.54\"   \n",
            "tzdb          \"tzdb\"          \"/usr/lib/R/site-library\"       \"0.4.0\"  \n",
            "urlchecker    \"urlchecker\"    \"/usr/lib/R/site-library\"       \"1.0.1\"  \n",
            "usethis       \"usethis\"       \"/usr/lib/R/site-library\"       \"3.1.0\"  \n",
            "utf8          \"utf8\"          \"/usr/lib/R/site-library\"       \"1.2.4\"  \n",
            "uuid          \"uuid\"          \"/usr/lib/R/site-library\"       \"1.2-1\"  \n",
            "vctrs         \"vctrs\"         \"/usr/lib/R/site-library\"       \"0.6.5\"  \n",
            "viridisLite   \"viridisLite\"   \"/usr/lib/R/site-library\"       \"0.4.2\"  \n",
            "vroom         \"vroom\"         \"/usr/lib/R/site-library\"       \"1.6.5\"  \n",
            "waldo         \"waldo\"         \"/usr/lib/R/site-library\"       \"0.6.1\"  \n",
            "whisker       \"whisker\"       \"/usr/lib/R/site-library\"       \"0.4.1\"  \n",
            "withr         \"withr\"         \"/usr/lib/R/site-library\"       \"3.0.2\"  \n",
            "xfun          \"xfun\"          \"/usr/lib/R/site-library\"       \"0.50\"   \n",
            "xml2          \"xml2\"          \"/usr/lib/R/site-library\"       \"1.3.6\"  \n",
            "xopen         \"xopen\"         \"/usr/lib/R/site-library\"       \"1.0.1\"  \n",
            "xtable        \"xtable\"        \"/usr/lib/R/site-library\"       \"1.8-4\"  \n",
            "yaml          \"yaml\"          \"/usr/lib/R/site-library\"       \"2.3.10\" \n",
            "zip           \"zip\"           \"/usr/lib/R/site-library\"       \"2.3.1\"  \n",
            "base          \"base\"          \"/usr/lib/R/library\"            \"4.4.2\"  \n",
            "compiler      \"compiler\"      \"/usr/lib/R/library\"            \"4.4.2\"  \n",
            "datasets      \"datasets\"      \"/usr/lib/R/library\"            \"4.4.2\"  \n",
            "graphics      \"graphics\"      \"/usr/lib/R/library\"            \"4.4.2\"  \n",
            "grDevices     \"grDevices\"     \"/usr/lib/R/library\"            \"4.4.2\"  \n",
            "grid          \"grid\"          \"/usr/lib/R/library\"            \"4.4.2\"  \n",
            "methods       \"methods\"       \"/usr/lib/R/library\"            \"4.4.2\"  \n",
            "parallel      \"parallel\"      \"/usr/lib/R/library\"            \"4.4.2\"  \n",
            "splines       \"splines\"       \"/usr/lib/R/library\"            \"4.4.2\"  \n",
            "stats         \"stats\"         \"/usr/lib/R/library\"            \"4.4.2\"  \n",
            "stats4        \"stats4\"        \"/usr/lib/R/library\"            \"4.4.2\"  \n",
            "tcltk         \"tcltk\"         \"/usr/lib/R/library\"            \"4.4.2\"  \n",
            "tools         \"tools\"         \"/usr/lib/R/library\"            \"4.4.2\"  \n",
            "utils         \"utils\"         \"/usr/lib/R/library\"            \"4.4.2\"  \n",
            "              Priority     \n",
            "IRdisplay     NA           \n",
            "IRkernel      NA           \n",
            "pbdZMQ        NA           \n",
            "repr          NA           \n",
            "askpass       NA           \n",
            "backports     NA           \n",
            "base64enc     NA           \n",
            "bit           NA           \n",
            "bit64         NA           \n",
            "blob          NA           \n",
            "boot          \"recommended\"\n",
            "brew          NA           \n",
            "brio          NA           \n",
            "broom         NA           \n",
            "bslib         NA           \n",
            "cachem        NA           \n",
            "callr         NA           \n",
            "cellranger    NA           \n",
            "class         \"recommended\"\n",
            "cli           NA           \n",
            "clipr         NA           \n",
            "cluster       \"recommended\"\n",
            "codetools     \"recommended\"\n",
            "colorspace    NA           \n",
            "commonmark    NA           \n",
            "conflicted    NA           \n",
            "cpp11         NA           \n",
            "crayon        NA           \n",
            "credentials   NA           \n",
            "curl          NA           \n",
            "data.table    NA           \n",
            "DBI           NA           \n",
            "dbplyr        NA           \n",
            "desc          NA           \n",
            "devtools      NA           \n",
            "diffobj       NA           \n",
            "digest        NA           \n",
            "downlit       NA           \n",
            "dplyr         NA           \n",
            "dtplyr        NA           \n",
            "ellipsis      NA           \n",
            "evaluate      NA           \n",
            "fansi         NA           \n",
            "farver        NA           \n",
            "fastmap       NA           \n",
            "fontawesome   NA           \n",
            "forcats       NA           \n",
            "foreign       \"recommended\"\n",
            "fs            NA           \n",
            "gargle        NA           \n",
            "generics      NA           \n",
            "gert          NA           \n",
            "ggplot2       NA           \n",
            "gh            NA           \n",
            "gitcreds      NA           \n",
            "glue          NA           \n",
            "googledrive   NA           \n",
            "googlesheets4 NA           \n",
            "gtable        NA           \n",
            "haven         NA           \n",
            "highr         NA           \n",
            "hms           NA           \n",
            "htmltools     NA           \n",
            "htmlwidgets   NA           \n",
            "httpuv        NA           \n",
            "httr          NA           \n",
            "httr2         NA           \n",
            "ids           NA           \n",
            "ini           NA           \n",
            "isoband       NA           \n",
            "jquerylib     NA           \n",
            "jsonlite      NA           \n",
            "KernSmooth    \"recommended\"\n",
            "knitr         NA           \n",
            "labeling      NA           \n",
            "later         NA           \n",
            "lattice       \"recommended\"\n",
            "lifecycle     NA           \n",
            "lubridate     NA           \n",
            "magrittr      NA           \n",
            "MASS          \"recommended\"\n",
            "Matrix        \"recommended\"\n",
            "memoise       NA           \n",
            "mgcv          \"recommended\"\n",
            "mime          NA           \n",
            "miniUI        NA           \n",
            "modelr        NA           \n",
            "munsell       NA           \n",
            "nlme          \"recommended\"\n",
            "nnet          \"recommended\"\n",
            "openssl       NA           \n",
            "pillar        NA           \n",
            "pkgbuild      NA           \n",
            "pkgconfig     NA           \n",
            "pkgdown       NA           \n",
            "pkgload       NA           \n",
            "praise        NA           \n",
            "prettyunits   NA           \n",
            "processx      NA           \n",
            "profvis       NA           \n",
            "progress      NA           \n",
            "promises      NA           \n",
            "ps            NA           \n",
            "purrr         NA           \n",
            "R6            NA           \n",
            "ragg          NA           \n",
            "rappdirs      NA           \n",
            "rcmdcheck     NA           \n",
            "RColorBrewer  NA           \n",
            "Rcpp          NA           \n",
            "readr         NA           \n",
            "readxl        NA           \n",
            "rematch       NA           \n",
            "rematch2      NA           \n",
            "remotes       NA           \n",
            "reprex        NA           \n",
            "rlang         NA           \n",
            "rmarkdown     NA           \n",
            "roxygen2      NA           \n",
            "rpart         \"recommended\"\n",
            "rprojroot     NA           \n",
            "rstudioapi    NA           \n",
            "rversions     NA           \n",
            "rvest         NA           \n",
            "sass          NA           \n",
            "scales        NA           \n",
            "selectr       NA           \n",
            "sessioninfo   NA           \n",
            "shiny         NA           \n",
            "sourcetools   NA           \n",
            "spatial       \"recommended\"\n",
            "stringi       NA           \n",
            "stringr       NA           \n",
            "survival      \"recommended\"\n",
            "sys           NA           \n",
            "systemfonts   NA           \n",
            "testthat      NA           \n",
            "textshaping   NA           \n",
            "tibble        NA           \n",
            "tidyr         NA           \n",
            "tidyselect    NA           \n",
            "tidyverse     NA           \n",
            "timechange    NA           \n",
            "tinytex       NA           \n",
            "tzdb          NA           \n",
            "urlchecker    NA           \n",
            "usethis       NA           \n",
            "utf8          NA           \n",
            "uuid          NA           \n",
            "vctrs         NA           \n",
            "viridisLite   NA           \n",
            "vroom         NA           \n",
            "waldo         NA           \n",
            "whisker       NA           \n",
            "withr         NA           \n",
            "xfun          NA           \n",
            "xml2          NA           \n",
            "xopen         NA           \n",
            "xtable        NA           \n",
            "yaml          NA           \n",
            "zip           NA           \n",
            "base          \"base\"       \n",
            "compiler      \"base\"       \n",
            "datasets      \"base\"       \n",
            "graphics      \"base\"       \n",
            "grDevices     \"base\"       \n",
            "grid          \"base\"       \n",
            "methods       \"base\"       \n",
            "parallel      \"base\"       \n",
            "splines       \"base\"       \n",
            "stats         \"base\"       \n",
            "stats4        \"base\"       \n",
            "tcltk         \"base\"       \n",
            "tools         \"base\"       \n",
            "utils         \"base\"       \n",
            "              Depends                                              \n",
            "IRdisplay     \"R (>= 3.0.1)\"                                       \n",
            "IRkernel      \"R (>= 3.2.0)\"                                       \n",
            "pbdZMQ        \"R (>= 3.5.0)\"                                       \n",
            "repr          \"R (>= 3.0.1)\"                                       \n",
            "askpass       NA                                                   \n",
            "backports     \"R (>= 3.0.0)\"                                       \n",
            "base64enc     \"R (>= 2.9.0)\"                                       \n",
            "bit           \"R (>= 3.4.0)\"                                       \n",
            "bit64         \"R (>= 3.0.1), bit (>= 4.0.0), utils, methods, stats\"\n",
            "blob          NA                                                   \n",
            "boot          \"R (>= 3.0.0), graphics, stats\"                      \n",
            "brew          NA                                                   \n",
            "brio          \"R (>= 3.6)\"                                         \n",
            "broom         \"R (>= 3.5)\"                                         \n",
            "bslib         \"R (>= 2.10)\"                                        \n",
            "cachem        NA                                                   \n",
            "callr         \"R (>= 3.4)\"                                         \n",
            "cellranger    \"R (>= 3.0.0)\"                                       \n",
            "class         \"R (>= 3.0.0), stats, utils\"                         \n",
            "cli           \"R (>= 3.4)\"                                         \n",
            "clipr         NA                                                   \n",
            "cluster       \"R (>= 3.5.0)\"                                       \n",
            "codetools     \"R (>= 2.1)\"                                         \n",
            "colorspace    \"R (>= 3.0.0), methods\"                              \n",
            "commonmark    NA                                                   \n",
            "conflicted    \"R (>= 3.2)\"                                         \n",
            "cpp11         \"R (>= 4.0.0)\"                                       \n",
            "crayon        NA                                                   \n",
            "credentials   NA                                                   \n",
            "curl          \"R (>= 3.0.0)\"                                       \n",
            "data.table    \"R (>= 3.3.0)\"                                       \n",
            "DBI           \"methods, R (>= 3.0.0)\"                              \n",
            "dbplyr        \"R (>= 3.6)\"                                         \n",
            "desc          \"R (>= 3.4)\"                                         \n",
            "devtools      \"R (>= 3.0.2), usethis (>= 2.1.6)\"                   \n",
            "diffobj       \"R (>= 3.1.0)\"                                       \n",
            "digest        \"R (>= 3.3.0)\"                                       \n",
            "downlit       \"R (>= 4.0.0)\"                                       \n",
            "dplyr         \"R (>= 3.5.0)\"                                       \n",
            "dtplyr        \"R (>= 3.3)\"                                         \n",
            "ellipsis      \"R (>= 3.2)\"                                         \n",
            "evaluate      \"R (>= 3.6.0)\"                                       \n",
            "fansi         \"R (>= 3.1.0)\"                                       \n",
            "farver        NA                                                   \n",
            "fastmap       NA                                                   \n",
            "fontawesome   \"R (>= 3.3.0)\"                                       \n",
            "forcats       \"R (>= 3.4)\"                                         \n",
            "foreign       \"R (>= 4.0.0)\"                                       \n",
            "fs            \"R (>= 3.6)\"                                         \n",
            "gargle        \"R (>= 3.6)\"                                         \n",
            "generics      \"R (>= 3.2)\"                                         \n",
            "gert          NA                                                   \n",
            "ggplot2       \"R (>= 3.5)\"                                         \n",
            "gh            \"R (>= 3.6)\"                                         \n",
            "gitcreds      \"R (>= 3.4)\"                                         \n",
            "glue          \"R (>= 3.6)\"                                         \n",
            "googledrive   \"R (>= 3.6)\"                                         \n",
            "googlesheets4 \"R (>= 3.6)\"                                         \n",
            "gtable        \"R (>= 4.0)\"                                         \n",
            "haven         \"R (>= 3.6)\"                                         \n",
            "highr         \"R (>= 3.3.0)\"                                       \n",
            "hms           NA                                                   \n",
            "htmltools     \"R (>= 2.14.1)\"                                      \n",
            "htmlwidgets   NA                                                   \n",
            "httpuv        \"R (>= 2.15.1)\"                                      \n",
            "httr          \"R (>= 3.5)\"                                         \n",
            "httr2         \"R (>= 4.0)\"                                         \n",
            "ids           NA                                                   \n",
            "ini           NA                                                   \n",
            "isoband       NA                                                   \n",
            "jquerylib     NA                                                   \n",
            "jsonlite      \"methods\"                                            \n",
            "KernSmooth    \"R (>= 2.5.0), stats\"                                \n",
            "knitr         \"R (>= 3.6.0)\"                                       \n",
            "labeling      NA                                                   \n",
            "later         NA                                                   \n",
            "lattice       \"R (>= 4.0.0)\"                                       \n",
            "lifecycle     \"R (>= 3.6)\"                                         \n",
            "lubridate     \"methods, R (>= 3.2)\"                                \n",
            "magrittr      \"R (>= 3.4.0)\"                                       \n",
            "MASS          \"R (>= 4.4.0), grDevices, graphics, stats, utils\"    \n",
            "Matrix        \"R (>= 4.4.0), methods\"                              \n",
            "memoise       NA                                                   \n",
            "mgcv          \"R (>= 3.6.0), nlme (>= 3.1-64)\"                     \n",
            "mime          NA                                                   \n",
            "miniUI        NA                                                   \n",
            "modelr        \"R (>= 3.2)\"                                         \n",
            "munsell       NA                                                   \n",
            "nlme          \"R (>= 3.6.0)\"                                       \n",
            "nnet          \"R (>= 3.0.0), stats, utils\"                         \n",
            "openssl       NA                                                   \n",
            "pillar        NA                                                   \n",
            "pkgbuild      \"R (>= 3.5)\"                                         \n",
            "pkgconfig     NA                                                   \n",
            "pkgdown       \"R (>= 4.0.0)\"                                       \n",
            "pkgload       \"R (>= 3.4.0)\"                                       \n",
            "praise        NA                                                   \n",
            "prettyunits   \"R(>= 2.10)\"                                         \n",
            "processx      \"R (>= 3.4.0)\"                                       \n",
            "profvis       \"R (>= 4.0)\"                                         \n",
            "progress      \"R (>= 3.6)\"                                         \n",
            "promises      NA                                                   \n",
            "ps            \"R (>= 3.4)\"                                         \n",
            "purrr         \"R (>= 3.5.0)\"                                       \n",
            "R6            \"R (>= 3.0)\"                                         \n",
            "ragg          NA                                                   \n",
            "rappdirs      \"R (>= 3.2)\"                                         \n",
            "rcmdcheck     NA                                                   \n",
            "RColorBrewer  \"R (>= 2.0.0)\"                                       \n",
            "Rcpp          NA                                                   \n",
            "readr         \"R (>= 3.6)\"                                         \n",
            "readxl        \"R (>= 3.6)\"                                         \n",
            "rematch       NA                                                   \n",
            "rematch2      NA                                                   \n",
            "remotes       \"R (>= 3.0.0)\"                                       \n",
            "reprex        \"R (>= 3.6)\"                                         \n",
            "rlang         \"R (>= 3.5.0)\"                                       \n",
            "rmarkdown     \"R (>= 3.0)\"                                         \n",
            "roxygen2      \"R (>= 3.6)\"                                         \n",
            "rpart         \"R (>= 2.15.0), graphics, stats, grDevices\"          \n",
            "rprojroot     \"R (>= 3.0.0)\"                                       \n",
            "rstudioapi    NA                                                   \n",
            "rversions     NA                                                   \n",
            "rvest         \"R (>= 3.6)\"                                         \n",
            "sass          NA                                                   \n",
            "scales        \"R (>= 3.6)\"                                         \n",
            "selectr       \"R (>= 3.0)\"                                         \n",
            "sessioninfo   \"R (>= 2.10)\"                                        \n",
            "shiny         \"R (>= 3.0.2), methods\"                              \n",
            "sourcetools   \"R (>= 3.0.2)\"                                       \n",
            "spatial       \"R (>= 3.0.0), graphics, stats, utils\"               \n",
            "stringi       \"R (>= 3.4)\"                                         \n",
            "stringr       \"R (>= 3.6)\"                                         \n",
            "survival      \"R (>= 3.5.0)\"                                       \n",
            "sys           NA                                                   \n",
            "systemfonts   \"R (>= 3.2.0)\"                                       \n",
            "testthat      \"R (>= 3.6.0)\"                                       \n",
            "textshaping   \"R (>= 3.2.0)\"                                       \n",
            "tibble        \"R (>= 3.4.0)\"                                       \n",
            "tidyr         \"R (>= 3.6)\"                                         \n",
            "tidyselect    \"R (>= 3.4)\"                                         \n",
            "tidyverse     \"R (>= 3.3)\"                                         \n",
            "timechange    \"R (>= 3.3)\"                                         \n",
            "tinytex       NA                                                   \n",
            "tzdb          \"R (>= 3.5.0)\"                                       \n",
            "urlchecker    \"R (>= 3.3)\"                                         \n",
            "usethis       \"R (>= 3.6)\"                                         \n",
            "utf8          \"R (>= 2.10)\"                                        \n",
            "uuid          \"R (>= 2.9.0)\"                                       \n",
            "vctrs         \"R (>= 3.5.0)\"                                       \n",
            "viridisLite   \"R (>= 2.10)\"                                        \n",
            "vroom         \"R (>= 3.6)\"                                         \n",
            "waldo         \"R (>= 4.0)\"                                         \n",
            "whisker       NA                                                   \n",
            "withr         \"R (>= 3.6.0)\"                                       \n",
            "xfun          \"R (>= 3.2.0)\"                                       \n",
            "xml2          \"R (>= 3.6.0)\"                                       \n",
            "xopen         \"R (>= 3.1)\"                                         \n",
            "xtable        \"R (>= 2.10.0)\"                                      \n",
            "yaml          NA                                                   \n",
            "zip           NA                                                   \n",
            "base          NA                                                   \n",
            "compiler      NA                                                   \n",
            "datasets      NA                                                   \n",
            "graphics      NA                                                   \n",
            "grDevices     NA                                                   \n",
            "grid          NA                                                   \n",
            "methods       NA                                                   \n",
            "parallel      NA                                                   \n",
            "splines       NA                                                   \n",
            "stats         NA                                                   \n",
            "stats4        NA                                                   \n",
            "tcltk         NA                                                   \n",
            "tools         NA                                                   \n",
            "utils         NA                                                   \n",
            "              Imports                                                                                                                                                                                                                                                                                                                                                                                                                                                                                                                                                                                                      \n",
            "IRdisplay     \"methods, repr\"                                                                                                                                                                                                                                                                                                                                                                                                                                                                                                                                                                                              \n",
            "IRkernel      \"repr (>= 0.4.99), methods, evaluate (>= 0.10), IRdisplay (>=\\n0.3.0.9999), pbdZMQ (>= 0.2-1), crayon, jsonlite (>= 0.9.6),\\nuuid, digest\"                                                                                                                                                                                                                                                                                                                                                                                                                                                                   \n",
            "pbdZMQ        NA                                                                                                                                                                                                                                                                                                                                                                                                                                                                                                                                                                                                           \n",
            "repr          \"utils, grDevices, htmltools, jsonlite, pillar (>= 1.4.0),\\nbase64enc\"                                                                                                                                                                                                                                                                                                                                                                                                                                                                                                                                       \n",
            "askpass       \"sys (>= 2.1)\"                                                                                                                                                                                                                                                                                                                                                                                                                                                                                                                                                                                               \n",
            "backports     NA                                                                                                                                                                                                                                                                                                                                                                                                                                                                                                                                                                                                           \n",
            "base64enc     NA                                                                                                                                                                                                                                                                                                                                                                                                                                                                                                                                                                                                           \n",
            "bit           NA                                                                                                                                                                                                                                                                                                                                                                                                                                                                                                                                                                                                           \n",
            "bit64         NA                                                                                                                                                                                                                                                                                                                                                                                                                                                                                                                                                                                                           \n",
            "blob          \"methods, rlang, vctrs (>= 0.2.1)\"                                                                                                                                                                                                                                                                                                                                                                                                                                                                                                                                                                           \n",
            "boot          NA                                                                                                                                                                                                                                                                                                                                                                                                                                                                                                                                                                                                           \n",
            "brew          NA                                                                                                                                                                                                                                                                                                                                                                                                                                                                                                                                                                                                           \n",
            "brio          NA                                                                                                                                                                                                                                                                                                                                                                                                                                                                                                                                                                                                           \n",
            "broom         \"backports, dplyr (>= 1.0.0), generics (>= 0.0.2), glue,\\nlifecycle, purrr, rlang, stringr, tibble (>= 3.0.0), tidyr (>=\\n1.0.0)\"                                                                                                                                                                                                                                                                                                                                                                                                                                                                            \n",
            "bslib         \"base64enc, cachem, fastmap (>= 1.1.1), grDevices, htmltools\\n(>= 0.5.8), jquerylib (>= 0.1.3), jsonlite, lifecycle, memoise\\n(>= 2.0.1), mime, rlang, sass (>= 0.4.9)\"                                                                                                                                                                                                                                                                                                                                                                                                                                      \n",
            "cachem        \"rlang, fastmap (>= 1.2.0)\"                                                                                                                                                                                                                                                                                                                                                                                                                                                                                                                                                                                  \n",
            "callr         \"processx (>= 3.6.1), R6, utils\"                                                                                                                                                                                                                                                                                                                                                                                                                                                                                                                                                                             \n",
            "cellranger    \"rematch, tibble\"                                                                                                                                                                                                                                                                                                                                                                                                                                                                                                                                                                                            \n",
            "class         \"MASS\"                                                                                                                                                                                                                                                                                                                                                                                                                                                                                                                                                                                                       \n",
            "cli           \"utils\"                                                                                                                                                                                                                                                                                                                                                                                                                                                                                                                                                                                                      \n",
            "clipr         \"utils\"                                                                                                                                                                                                                                                                                                                                                                                                                                                                                                                                                                                                      \n",
            "cluster       \"graphics, grDevices, stats, utils\"                                                                                                                                                                                                                                                                                                                                                                                                                                                                                                                                                                          \n",
            "codetools     NA                                                                                                                                                                                                                                                                                                                                                                                                                                                                                                                                                                                                           \n",
            "colorspace    \"graphics, grDevices, stats\"                                                                                                                                                                                                                                                                                                                                                                                                                                                                                                                                                                                 \n",
            "commonmark    NA                                                                                                                                                                                                                                                                                                                                                                                                                                                                                                                                                                                                           \n",
            "conflicted    \"cli (>= 3.4.0), memoise, rlang (>= 1.0.0)\"                                                                                                                                                                                                                                                                                                                                                                                                                                                                                                                                                                  \n",
            "cpp11         NA                                                                                                                                                                                                                                                                                                                                                                                                                                                                                                                                                                                                           \n",
            "crayon        \"grDevices, methods, utils\"                                                                                                                                                                                                                                                                                                                                                                                                                                                                                                                                                                                  \n",
            "credentials   \"openssl (>= 1.3), sys (>= 2.1), curl, jsonlite, askpass\"                                                                                                                                                                                                                                                                                                                                                                                                                                                                                                                                                    \n",
            "curl          NA                                                                                                                                                                                                                                                                                                                                                                                                                                                                                                                                                                                                           \n",
            "data.table    \"methods\"                                                                                                                                                                                                                                                                                                                                                                                                                                                                                                                                                                                                    \n",
            "DBI           NA                                                                                                                                                                                                                                                                                                                                                                                                                                                                                                                                                                                                           \n",
            "dbplyr        \"blob (>= 1.2.0), cli (>= 3.6.1), DBI (>= 1.1.3), dplyr (>=\\n1.1.2), glue (>= 1.6.2), lifecycle (>= 1.0.3), magrittr,\\nmethods, pillar (>= 1.9.0), purrr (>= 1.0.1), R6 (>= 2.2.2),\\nrlang (>= 1.1.1), tibble (>= 3.2.1), tidyr (>= 1.3.0),\\ntidyselect (>= 1.2.1), utils, vctrs (>= 0.6.3), withr (>=\\n2.5.0)\"                                                                                                                                                                                                                                                                                              \n",
            "desc          \"cli, R6, utils\"                                                                                                                                                                                                                                                                                                                                                                                                                                                                                                                                                                                             \n",
            "devtools      \"cli (>= 3.3.0), desc (>= 1.4.1), ellipsis (>= 0.3.2), fs (>=\\n1.5.2), lifecycle (>= 1.0.1), memoise (>= 2.0.1), miniUI (>=\\n0.1.1.1), pkgbuild (>= 1.3.1), pkgdown (>= 2.0.6), pkgload (>=\\n1.3.0), profvis (>= 0.3.7), rcmdcheck (>= 1.4.0), remotes (>=\\n2.4.2), rlang (>= 1.0.4), roxygen2 (>= 7.2.1), rversions (>=\\n2.1.1), sessioninfo (>= 1.2.2), stats, testthat (>= 3.1.5),\\ntools, urlchecker (>= 1.0.1), utils, withr (>= 2.5.0)\"                                                                                                                                                                \n",
            "diffobj       \"crayon (>= 1.3.2), tools, methods, utils, stats\"                                                                                                                                                                                                                                                                                                                                                                                                                                                                                                                                                            \n",
            "digest        \"utils\"                                                                                                                                                                                                                                                                                                                                                                                                                                                                                                                                                                                                      \n",
            "downlit       \"brio, desc, digest, evaluate, fansi, memoise, rlang, vctrs,\\nwithr, yaml\"                                                                                                                                                                                                                                                                                                                                                                                                                                                                                                                                   \n",
            "dplyr         \"cli (>= 3.4.0), generics, glue (>= 1.3.2), lifecycle (>=\\n1.0.3), magrittr (>= 1.5), methods, pillar (>= 1.9.0), R6,\\nrlang (>= 1.1.0), tibble (>= 3.2.0), tidyselect (>= 1.2.0),\\nutils, vctrs (>= 0.6.4)\"                                                                                                                                                                                                                                                                                                                                                                                                 \n",
            "dtplyr        \"cli (>= 3.4.0), data.table (>= 1.13.0), dplyr (>= 1.1.0),\\nglue, lifecycle, rlang (>= 1.0.4), tibble, tidyselect (>=\\n1.2.0), vctrs (>= 0.4.1)\"                                                                                                                                                                                                                                                                                                                                                                                                                                                             \n",
            "ellipsis      \"rlang (>= 0.3.0)\"                                                                                                                                                                                                                                                                                                                                                                                                                                                                                                                                                                                           \n",
            "evaluate      NA                                                                                                                                                                                                                                                                                                                                                                                                                                                                                                                                                                                                           \n",
            "fansi         \"grDevices, utils\"                                                                                                                                                                                                                                                                                                                                                                                                                                                                                                                                                                                           \n",
            "farver        NA                                                                                                                                                                                                                                                                                                                                                                                                                                                                                                                                                                                                           \n",
            "fastmap       NA                                                                                                                                                                                                                                                                                                                                                                                                                                                                                                                                                                                                           \n",
            "fontawesome   \"rlang (>= 1.0.6), htmltools (>= 0.5.1.1)\"                                                                                                                                                                                                                                                                                                                                                                                                                                                                                                                                                                   \n",
            "forcats       \"cli (>= 3.4.0), glue, lifecycle, magrittr, rlang (>= 1.0.0),\\ntibble\"                                                                                                                                                                                                                                                                                                                                                                                                                                                                                                                                       \n",
            "foreign       \"methods, utils, stats\"                                                                                                                                                                                                                                                                                                                                                                                                                                                                                                                                                                                      \n",
            "fs            \"methods\"                                                                                                                                                                                                                                                                                                                                                                                                                                                                                                                                                                                                    \n",
            "gargle        \"cli (>= 3.0.1), fs (>= 1.3.1), glue (>= 1.3.0), httr (>=\\n1.4.5), jsonlite, lifecycle, openssl, rappdirs, rlang (>=\\n1.1.0), stats, utils, withr\"                                                                                                                                                                                                                                                                                                                                                                                                                                                           \n",
            "generics      \"methods\"                                                                                                                                                                                                                                                                                                                                                                                                                                                                                                                                                                                                    \n",
            "gert          \"askpass, credentials (>= 1.2.1), openssl (>= 2.0.3),\\nrstudioapi (>= 0.11), sys, zip (>= 2.1.0)\"                                                                                                                                                                                                                                                                                                                                                                                                                                                                                                            \n",
            "ggplot2       \"cli, glue, grDevices, grid, gtable (>= 0.1.1), isoband,\\nlifecycle (> 1.0.1), MASS, mgcv, rlang (>= 1.1.0), scales (>=\\n1.3.0), stats, tibble, vctrs (>= 0.6.0), withr (>= 2.5.0)\"                                                                                                                                                                                                                                                                                                                                                                                                                          \n",
            "gh            \"cli (>= 3.0.1), gitcreds, glue, httr2, ini, jsonlite,\\nlifecycle, rlang (>= 1.0.0)\"                                                                                                                                                                                                                                                                                                                                                                                                                                                                                                                         \n",
            "gitcreds      NA                                                                                                                                                                                                                                                                                                                                                                                                                                                                                                                                                                                                           \n",
            "glue          \"methods\"                                                                                                                                                                                                                                                                                                                                                                                                                                                                                                                                                                                                    \n",
            "googledrive   \"cli (>= 3.0.0), gargle (>= 1.5.0), glue (>= 1.4.2), httr,\\njsonlite, lifecycle, magrittr, pillar (>= 1.9.0), purrr (>=\\n1.0.1), rlang (>= 1.0.2), tibble (>= 2.0.0), utils, uuid, vctrs\\n(>= 0.3.0), withr\"                                                                                                                                                                                                                                                                                                                                                                                                 \n",
            "googlesheets4 \"cellranger, cli (>= 3.0.0), curl, gargle (>= 1.5.0), glue (>=\\n1.3.0), googledrive (>= 2.1.0), httr, ids, lifecycle, magrittr,\\nmethods, purrr, rematch2, rlang (>= 1.0.2), tibble (>= 2.1.1),\\nutils, vctrs (>= 0.2.3), withr\"                                                                                                                                                                                                                                                                                                                                                                             \n",
            "gtable        \"cli, glue, grid, lifecycle, rlang (>= 1.1.0), stats\"                                                                                                                                                                                                                                                                                                                                                                                                                                                                                                                                                        \n",
            "haven         \"cli (>= 3.0.0), forcats (>= 0.2.0), hms, lifecycle, methods,\\nreadr (>= 0.1.0), rlang (>= 0.4.0), tibble, tidyselect, vctrs\\n(>= 0.3.0)\"                                                                                                                                                                                                                                                                                                                                                                                                                                                                    \n",
            "highr         \"xfun (>= 0.18)\"                                                                                                                                                                                                                                                                                                                                                                                                                                                                                                                                                                                             \n",
            "hms           \"lifecycle, methods, pkgconfig, rlang (>= 1.0.2), vctrs (>=\\n0.3.8)\"                                                                                                                                                                                                                                                                                                                                                                                                                                                                                                                                         \n",
            "htmltools     \"base64enc, digest, fastmap (>= 1.1.0), grDevices, rlang (>=\\n1.0.0), utils\"                                                                                                                                                                                                                                                                                                                                                                                                                                                                                                                                 \n",
            "htmlwidgets   \"grDevices, htmltools (>= 0.5.7), jsonlite (>= 0.9.16), knitr\\n(>= 1.8), rmarkdown, yaml\"                                                                                                                                                                                                                                                                                                                                                                                                                                                                                                                    \n",
            "httpuv        \"later (>= 0.8.0), promises, R6, Rcpp (>= 1.0.7), utils\"                                                                                                                                                                                                                                                                                                                                                                                                                                                                                                                                                     \n",
            "httr          \"curl (>= 5.0.2), jsonlite, mime, openssl (>= 0.8), R6\"                                                                                                                                                                                                                                                                                                                                                                                                                                                                                                                                                      \n",
            "httr2         \"cli (>= 3.0.0), curl (>= 6.0.1), glue, lifecycle, magrittr,\\nopenssl, R6, rappdirs, rlang (>= 1.1.0), vctrs (>= 0.6.3),\\nwithr\"                                                                                                                                                                                                                                                                                                                                                                                                                                                                             \n",
            "ids           \"openssl, uuid\"                                                                                                                                                                                                                                                                                                                                                                                                                                                                                                                                                                                              \n",
            "ini           NA                                                                                                                                                                                                                                                                                                                                                                                                                                                                                                                                                                                                           \n",
            "isoband       \"grid, utils\"                                                                                                                                                                                                                                                                                                                                                                                                                                                                                                                                                                                                \n",
            "jquerylib     \"htmltools\"                                                                                                                                                                                                                                                                                                                                                                                                                                                                                                                                                                                                  \n",
            "jsonlite      NA                                                                                                                                                                                                                                                                                                                                                                                                                                                                                                                                                                                                           \n",
            "KernSmooth    NA                                                                                                                                                                                                                                                                                                                                                                                                                                                                                                                                                                                                           \n",
            "knitr         \"evaluate (>= 0.15), highr (>= 0.11), methods, tools, xfun (>=\\n0.48), yaml (>= 2.1.19)\"                                                                                                                                                                                                                                                                                                                                                                                                                                                                                                                     \n",
            "labeling      \"stats, graphics\"                                                                                                                                                                                                                                                                                                                                                                                                                                                                                                                                                                                            \n",
            "later         \"Rcpp (>= 0.12.9), rlang\"                                                                                                                                                                                                                                                                                                                                                                                                                                                                                                                                                                                    \n",
            "lattice       \"grid, grDevices, graphics, stats, utils\"                                                                                                                                                                                                                                                                                                                                                                                                                                                                                                                                                                    \n",
            "lifecycle     \"cli (>= 3.4.0), glue, rlang (>= 1.1.0)\"                                                                                                                                                                                                                                                                                                                                                                                                                                                                                                                                                                     \n",
            "lubridate     \"generics, timechange (>= 0.3.0)\"                                                                                                                                                                                                                                                                                                                                                                                                                                                                                                                                                                            \n",
            "magrittr      NA                                                                                                                                                                                                                                                                                                                                                                                                                                                                                                                                                                                                           \n",
            "MASS          \"methods\"                                                                                                                                                                                                                                                                                                                                                                                                                                                                                                                                                                                                    \n",
            "Matrix        \"grDevices, graphics, grid, lattice, stats, utils\"                                                                                                                                                                                                                                                                                                                                                                                                                                                                                                                                                           \n",
            "memoise       \"rlang (>= 0.4.10), cachem\"                                                                                                                                                                                                                                                                                                                                                                                                                                                                                                                                                                                  \n",
            "mgcv          \"methods, stats, graphics, Matrix, splines, utils\"                                                                                                                                                                                                                                                                                                                                                                                                                                                                                                                                                           \n",
            "mime          \"tools\"                                                                                                                                                                                                                                                                                                                                                                                                                                                                                                                                                                                                      \n",
            "miniUI        \"shiny (>= 0.13), htmltools (>= 0.3), utils\"                                                                                                                                                                                                                                                                                                                                                                                                                                                                                                                                                                 \n",
            "modelr        \"broom, magrittr, purrr (>= 0.2.2), rlang (>= 1.0.6), tibble,\\ntidyr (>= 0.8.0), tidyselect, vctrs\"                                                                                                                                                                                                                                                                                                                                                                                                                                                                                                          \n",
            "munsell       \"colorspace, methods\"                                                                                                                                                                                                                                                                                                                                                                                                                                                                                                                                                                                        \n",
            "nlme          \"graphics, stats, utils, lattice\"                                                                                                                                                                                                                                                                                                                                                                                                                                                                                                                                                                            \n",
            "nnet          NA                                                                                                                                                                                                                                                                                                                                                                                                                                                                                                                                                                                                           \n",
            "openssl       \"askpass\"                                                                                                                                                                                                                                                                                                                                                                                                                                                                                                                                                                                                    \n",
            "pillar        \"cli (>= 2.3.0), glue, lifecycle, rlang (>= 1.0.2), utf8 (>=\\n1.1.0), utils, vctrs (>= 0.5.0)\"                                                                                                                                                                                                                                                                                                                                                                                                                                                                                                               \n",
            "pkgbuild      \"callr (>= 3.2.0), cli (>= 3.4.0), desc, processx, R6\"                                                                                                                                                                                                                                                                                                                                                                                                                                                                                                                                                       \n",
            "pkgconfig     \"utils\"                                                                                                                                                                                                                                                                                                                                                                                                                                                                                                                                                                                                      \n",
            "pkgdown       \"bslib (>= 0.5.1), callr (>= 3.7.3), cli (>= 3.6.1), desc (>=\\n1.4.0), digest, downlit (>= 0.4.4), fontawesome, fs (>= 1.4.0),\\nhttr2 (>= 1.0.2), jsonlite, openssl, purrr (>= 1.0.0), ragg,\\nrlang (>= 1.1.0), rmarkdown (>= 2.27), tibble, whisker, withr\\n(>= 2.4.3), xml2 (>= 1.3.1), yaml\"                                                                                                                                                                                                                                                                                                              \n",
            "pkgload       \"cli (>= 3.3.0), desc, fs, glue, lifecycle, methods, pkgbuild,\\nprocessx, rlang (>= 1.1.1), rprojroot, utils, withr (>= 2.4.3)\"                                                                                                                                                                                                                                                                                                                                                                                                                                                                              \n",
            "praise        NA                                                                                                                                                                                                                                                                                                                                                                                                                                                                                                                                                                                                           \n",
            "prettyunits   NA                                                                                                                                                                                                                                                                                                                                                                                                                                                                                                                                                                                                           \n",
            "processx      \"ps (>= 1.2.0), R6, utils\"                                                                                                                                                                                                                                                                                                                                                                                                                                                                                                                                                                                   \n",
            "profvis       \"htmlwidgets (>= 0.3.2), rlang (>= 1.1.0), vctrs\"                                                                                                                                                                                                                                                                                                                                                                                                                                                                                                                                                            \n",
            "progress      \"crayon, hms, prettyunits, R6\"                                                                                                                                                                                                                                                                                                                                                                                                                                                                                                                                                                               \n",
            "promises      \"fastmap (>= 1.1.0), later, magrittr (>= 1.5), R6, Rcpp, rlang,\\nstats\"                                                                                                                                                                                                                                                                                                                                                                                                                                                                                                                                      \n",
            "ps            \"utils\"                                                                                                                                                                                                                                                                                                                                                                                                                                                                                                                                                                                                      \n",
            "purrr         \"cli (>= 3.6.1), lifecycle (>= 1.0.3), magrittr (>= 1.5.0),\\nrlang (>= 1.1.1), vctrs (>= 0.6.3)\"                                                                                                                                                                                                                                                                                                                                                                                                                                                                                                             \n",
            "R6            NA                                                                                                                                                                                                                                                                                                                                                                                                                                                                                                                                                                                                           \n",
            "ragg          \"systemfonts (>= 1.0.3), textshaping (>= 0.3.0)\"                                                                                                                                                                                                                                                                                                                                                                                                                                                                                                                                                             \n",
            "rappdirs      NA                                                                                                                                                                                                                                                                                                                                                                                                                                                                                                                                                                                                           \n",
            "rcmdcheck     \"callr (>= 3.1.1.9000), cli (>= 3.0.0), curl, desc (>= 1.2.0),\\ndigest, pkgbuild, prettyunits, R6, rprojroot, sessioninfo (>=\\n1.1.1), utils, withr, xopen\"                                                                                                                                                                                                                                                                                                                                                                                                                                                  \n",
            "RColorBrewer  NA                                                                                                                                                                                                                                                                                                                                                                                                                                                                                                                                                                                                           \n",
            "Rcpp          \"methods, utils\"                                                                                                                                                                                                                                                                                                                                                                                                                                                                                                                                                                                             \n",
            "readr         \"cli (>= 3.2.0), clipr, crayon, hms (>= 0.4.1), lifecycle (>=\\n0.2.0), methods, R6, rlang, tibble, utils, vroom (>= 1.6.0)\"                                                                                                                                                                                                                                                                                                                                                                                                                                                                                  \n",
            "readxl        \"cellranger, tibble (>= 2.0.1), utils\"                                                                                                                                                                                                                                                                                                                                                                                                                                                                                                                                                                       \n",
            "rematch       NA                                                                                                                                                                                                                                                                                                                                                                                                                                                                                                                                                                                                           \n",
            "rematch2      \"tibble\"                                                                                                                                                                                                                                                                                                                                                                                                                                                                                                                                                                                                     \n",
            "remotes       \"methods, stats, tools, utils\"                                                                                                                                                                                                                                                                                                                                                                                                                                                                                                                                                                               \n",
            "reprex        \"callr (>= 3.6.0), cli (>= 3.2.0), clipr (>= 0.4.0), fs, glue,\\nknitr (>= 1.23), lifecycle, rlang (>= 1.0.0), rmarkdown,\\nrstudioapi, utils, withr (>= 2.3.0)\"                                                                                                                                                                                                                                                                                                                                                                                                                                               \n",
            "rlang         \"utils\"                                                                                                                                                                                                                                                                                                                                                                                                                                                                                                                                                                                                      \n",
            "rmarkdown     \"bslib (>= 0.2.5.1), evaluate (>= 0.13), fontawesome (>=\\n0.5.0), htmltools (>= 0.5.1), jquerylib, jsonlite, knitr (>=\\n1.43), methods, tinytex (>= 0.31), tools, utils, xfun (>=\\n0.36), yaml (>= 2.1.19)\"                                                                                                                                                                                                                                                                                                                                                                                                  \n",
            "roxygen2      \"brew, cli (>= 3.3.0), commonmark, desc (>= 1.2.0), knitr,\\nmethods, pkgload (>= 1.0.2), purrr (>= 1.0.0), R6 (>= 2.1.2),\\nrlang (>= 1.0.6), stringi, stringr (>= 1.0.0), utils, withr,\\nxml2\"                                                                                                                                                                                                                                                                                                                                                                                                               \n",
            "rpart         NA                                                                                                                                                                                                                                                                                                                                                                                                                                                                                                                                                                                                           \n",
            "rprojroot     NA                                                                                                                                                                                                                                                                                                                                                                                                                                                                                                                                                                                                           \n",
            "rstudioapi    NA                                                                                                                                                                                                                                                                                                                                                                                                                                                                                                                                                                                                           \n",
            "rversions     \"curl, utils, xml2 (>= 1.0.0)\"                                                                                                                                                                                                                                                                                                                                                                                                                                                                                                                                                                               \n",
            "rvest         \"cli, glue, httr (>= 0.5), lifecycle (>= 1.0.3), magrittr,\\nrlang (>= 1.1.0), selectr, tibble, xml2 (>= 1.3)\"                                                                                                                                                                                                                                                                                                                                                                                                                                                                                                \n",
            "sass          \"fs (>= 1.2.4), rlang (>= 0.4.10), htmltools (>= 0.5.1), R6,\\nrappdirs\"                                                                                                                                                                                                                                                                                                                                                                                                                                                                                                                                      \n",
            "scales        \"cli, farver (>= 2.0.3), glue, labeling, lifecycle, munsell (>=\\n0.5), R6, RColorBrewer, rlang (>= 1.0.0), viridisLite\"                                                                                                                                                                                                                                                                                                                                                                                                                                                                                      \n",
            "selectr       \"methods, stringr, R6\"                                                                                                                                                                                                                                                                                                                                                                                                                                                                                                                                                                                       \n",
            "sessioninfo   \"cli (>= 3.1.0), tools, utils\"                                                                                                                                                                                                                                                                                                                                                                                                                                                                                                                                                                               \n",
            "shiny         \"utils, grDevices, httpuv (>= 1.5.2), mime (>= 0.3), jsonlite\\n(>= 0.9.16), xtable, fontawesome (>= 0.4.0), htmltools (>=\\n0.5.4), R6 (>= 2.0), sourcetools, later (>= 1.0.0), promises\\n(>= 1.3.2), tools, crayon, rlang (>= 0.4.10), fastmap (>=\\n1.1.1), withr, commonmark (>= 1.7), glue (>= 1.3.2), bslib (>=\\n0.6.0), cachem (>= 1.1.0), lifecycle (>= 0.2.0)\"                                                                                                                                                                                                                                         \n",
            "sourcetools   NA                                                                                                                                                                                                                                                                                                                                                                                                                                                                                                                                                                                                           \n",
            "spatial       NA                                                                                                                                                                                                                                                                                                                                                                                                                                                                                                                                                                                                           \n",
            "stringi       \"tools, utils, stats\"                                                                                                                                                                                                                                                                                                                                                                                                                                                                                                                                                                                        \n",
            "stringr       \"cli, glue (>= 1.6.1), lifecycle (>= 1.0.3), magrittr, rlang\\n(>= 1.0.0), stringi (>= 1.5.3), vctrs (>= 0.4.0)\"                                                                                                                                                                                                                                                                                                                                                                                                                                                                                              \n",
            "survival      \"graphics, Matrix, methods, splines, stats, utils\"                                                                                                                                                                                                                                                                                                                                                                                                                                                                                                                                                           \n",
            "sys           NA                                                                                                                                                                                                                                                                                                                                                                                                                                                                                                                                                                                                           \n",
            "systemfonts   \"lifecycle\"                                                                                                                                                                                                                                                                                                                                                                                                                                                                                                                                                                                                  \n",
            "testthat      \"brio (>= 1.1.3), callr (>= 3.7.3), cli (>= 3.6.1), desc (>=\\n1.4.2), digest (>= 0.6.33), evaluate (>= 1.0.1), jsonlite (>=\\n1.8.7), lifecycle (>= 1.0.3), magrittr (>= 2.0.3), methods,\\npkgload (>= 1.3.2.1), praise (>= 1.0.0), processx (>= 3.8.2),\\nps (>= 1.7.5), R6 (>= 2.5.1), rlang (>= 1.1.1), utils, waldo\\n(>= 0.6.0), withr (>= 3.0.2)\"                                                                                                                                                                                                                                                         \n",
            "textshaping   \"lifecycle, systemfonts (>= 1.1.0)\"                                                                                                                                                                                                                                                                                                                                                                                                                                                                                                                                                                          \n",
            "tibble        \"fansi (>= 0.4.0), lifecycle (>= 1.0.0), magrittr, methods,\\npillar (>= 1.8.1), pkgconfig, rlang (>= 1.0.2), utils, vctrs\\n(>= 0.4.2)\"                                                                                                                                                                                                                                                                                                                                                                                                                                                                       \n",
            "tidyr         \"cli (>= 3.4.1), dplyr (>= 1.0.10), glue, lifecycle (>= 1.0.3),\\nmagrittr, purrr (>= 1.0.1), rlang (>= 1.1.1), stringr (>=\\n1.5.0), tibble (>= 2.1.1), tidyselect (>= 1.2.0), utils, vctrs\\n(>= 0.5.2)\"                                                                                                                                                                                                                                                                                                                                                                                                      \n",
            "tidyselect    \"cli (>= 3.3.0), glue (>= 1.3.0), lifecycle (>= 1.0.3), rlang\\n(>= 1.0.4), vctrs (>= 0.5.2), withr\"                                                                                                                                                                                                                                                                                                                                                                                                                                                                                                          \n",
            "tidyverse     \"broom (>= 1.0.3), conflicted (>= 1.2.0), cli (>= 3.6.0),\\ndbplyr (>= 2.3.0), dplyr (>= 1.1.0), dtplyr (>= 1.2.2), forcats\\n(>= 1.0.0), ggplot2 (>= 3.4.1), googledrive (>= 2.0.0),\\ngooglesheets4 (>= 1.0.1), haven (>= 2.5.1), hms (>= 1.1.2),\\nhttr (>= 1.4.4), jsonlite (>= 1.8.4), lubridate (>= 1.9.2),\\nmagrittr (>= 2.0.3), modelr (>= 0.1.10), pillar (>= 1.8.1),\\npurrr (>= 1.0.1), ragg (>= 1.2.5), readr (>= 2.1.4), readxl (>=\\n1.4.2), reprex (>= 2.0.2), rlang (>= 1.0.6), rstudioapi (>=\\n0.14), rvest (>= 1.0.3), stringr (>= 1.5.0), tibble (>= 3.1.8),\\ntidyr (>= 1.3.0), xml2 (>= 1.3.3)\"\n",
            "timechange    NA                                                                                                                                                                                                                                                                                                                                                                                                                                                                                                                                                                                                           \n",
            "tinytex       \"xfun (>= 0.48)\"                                                                                                                                                                                                                                                                                                                                                                                                                                                                                                                                                                                             \n",
            "tzdb          NA                                                                                                                                                                                                                                                                                                                                                                                                                                                                                                                                                                                                           \n",
            "urlchecker    \"cli, curl, tools, xml2\"                                                                                                                                                                                                                                                                                                                                                                                                                                                                                                                                                                                     \n",
            "usethis       \"cli (>= 3.0.1), clipr (>= 0.3.0), crayon, curl (>= 2.7), desc\\n(>= 1.4.2), fs (>= 1.3.0), gert (>= 1.4.1), gh (>= 1.2.1), glue\\n(>= 1.3.0), jsonlite, lifecycle (>= 1.0.0), purrr, rappdirs,\\nrlang (>= 1.1.0), rprojroot (>= 1.2), rstudioapi, stats, tools,\\nutils, whisker, withr (>= 2.3.0), yaml\"                                                                                                                                                                                                                                                                                                      \n",
            "utf8          NA                                                                                                                                                                                                                                                                                                                                                                                                                                                                                                                                                                                                           \n",
            "uuid          NA                                                                                                                                                                                                                                                                                                                                                                                                                                                                                                                                                                                                           \n",
            "vctrs         \"cli (>= 3.4.0), glue, lifecycle (>= 1.0.3), rlang (>= 1.1.0)\"                                                                                                                                                                                                                                                                                                                                                                                                                                                                                                                                               \n",
            "viridisLite   NA                                                                                                                                                                                                                                                                                                                                                                                                                                                                                                                                                                                                           \n",
            "vroom         \"bit64, cli (>= 3.2.0), crayon, glue, hms, lifecycle (>=\\n1.0.3), methods, rlang (>= 0.4.2), stats, tibble (>= 2.0.0),\\ntidyselect, tzdb (>= 0.1.1), vctrs (>= 0.2.0), withr\"                                                                                                                                                                                                                                                                                                                                                                                                                                \n",
            "waldo         \"cli, diffobj (>= 0.3.4), glue, methods, rlang (>= 1.1.0)\"                                                                                                                                                                                                                                                                                                                                                                                                                                                                                                                                                   \n",
            "whisker       NA                                                                                                                                                                                                                                                                                                                                                                                                                                                                                                                                                                                                           \n",
            "withr         \"graphics, grDevices\"                                                                                                                                                                                                                                                                                                                                                                                                                                                                                                                                                                                        \n",
            "xfun          \"grDevices, stats, tools\"                                                                                                                                                                                                                                                                                                                                                                                                                                                                                                                                                                                    \n",
            "xml2          \"cli, methods, rlang (>= 1.1.0)\"                                                                                                                                                                                                                                                                                                                                                                                                                                                                                                                                                                             \n",
            "xopen         \"processx\"                                                                                                                                                                                                                                                                                                                                                                                                                                                                                                                                                                                                   \n",
            "xtable        \"stats, utils\"                                                                                                                                                                                                                                                                                                                                                                                                                                                                                                                                                                                               \n",
            "yaml          NA                                                                                                                                                                                                                                                                                                                                                                                                                                                                                                                                                                                                           \n",
            "zip           NA                                                                                                                                                                                                                                                                                                                                                                                                                                                                                                                                                                                                           \n",
            "base          NA                                                                                                                                                                                                                                                                                                                                                                                                                                                                                                                                                                                                           \n",
            "compiler      NA                                                                                                                                                                                                                                                                                                                                                                                                                                                                                                                                                                                                           \n",
            "datasets      NA                                                                                                                                                                                                                                                                                                                                                                                                                                                                                                                                                                                                           \n",
            "graphics      \"grDevices\"                                                                                                                                                                                                                                                                                                                                                                                                                                                                                                                                                                                                  \n",
            "grDevices     NA                                                                                                                                                                                                                                                                                                                                                                                                                                                                                                                                                                                                           \n",
            "grid          \"grDevices, utils\"                                                                                                                                                                                                                                                                                                                                                                                                                                                                                                                                                                                           \n",
            "methods       \"utils, stats\"                                                                                                                                                                                                                                                                                                                                                                                                                                                                                                                                                                                               \n",
            "parallel      \"tools, compiler\"                                                                                                                                                                                                                                                                                                                                                                                                                                                                                                                                                                                            \n",
            "splines       \"graphics, stats\"                                                                                                                                                                                                                                                                                                                                                                                                                                                                                                                                                                                            \n",
            "stats         \"utils, grDevices, graphics\"                                                                                                                                                                                                                                                                                                                                                                                                                                                                                                                                                                                 \n",
            "stats4        \"graphics, methods, stats\"                                                                                                                                                                                                                                                                                                                                                                                                                                                                                                                                                                                   \n",
            "tcltk         \"utils\"                                                                                                                                                                                                                                                                                                                                                                                                                                                                                                                                                                                                      \n",
            "tools         NA                                                                                                                                                                                                                                                                                                                                                                                                                                                                                                                                                                                                           \n",
            "utils         NA                                                                                                                                                                                                                                                                                                                                                                                                                                                                                                                                                                                                           \n",
            "              LinkingTo                                               \n",
            "IRdisplay     NA                                                      \n",
            "IRkernel      NA                                                      \n",
            "pbdZMQ        NA                                                      \n",
            "repr          NA                                                      \n",
            "askpass       NA                                                      \n",
            "backports     NA                                                      \n",
            "base64enc     NA                                                      \n",
            "bit           NA                                                      \n",
            "bit64         NA                                                      \n",
            "blob          NA                                                      \n",
            "boot          NA                                                      \n",
            "brew          NA                                                      \n",
            "brio          NA                                                      \n",
            "broom         NA                                                      \n",
            "bslib         NA                                                      \n",
            "cachem        NA                                                      \n",
            "callr         NA                                                      \n",
            "cellranger    NA                                                      \n",
            "class         NA                                                      \n",
            "cli           NA                                                      \n",
            "clipr         NA                                                      \n",
            "cluster       NA                                                      \n",
            "codetools     NA                                                      \n",
            "colorspace    NA                                                      \n",
            "commonmark    NA                                                      \n",
            "conflicted    NA                                                      \n",
            "cpp11         NA                                                      \n",
            "crayon        NA                                                      \n",
            "credentials   NA                                                      \n",
            "curl          NA                                                      \n",
            "data.table    NA                                                      \n",
            "DBI           NA                                                      \n",
            "dbplyr        NA                                                      \n",
            "desc          NA                                                      \n",
            "devtools      NA                                                      \n",
            "diffobj       NA                                                      \n",
            "digest        NA                                                      \n",
            "downlit       NA                                                      \n",
            "dplyr         NA                                                      \n",
            "dtplyr        NA                                                      \n",
            "ellipsis      NA                                                      \n",
            "evaluate      NA                                                      \n",
            "fansi         NA                                                      \n",
            "farver        NA                                                      \n",
            "fastmap       NA                                                      \n",
            "fontawesome   NA                                                      \n",
            "forcats       NA                                                      \n",
            "foreign       NA                                                      \n",
            "fs            NA                                                      \n",
            "gargle        NA                                                      \n",
            "generics      NA                                                      \n",
            "gert          NA                                                      \n",
            "ggplot2       NA                                                      \n",
            "gh            NA                                                      \n",
            "gitcreds      NA                                                      \n",
            "glue          NA                                                      \n",
            "googledrive   NA                                                      \n",
            "googlesheets4 NA                                                      \n",
            "gtable        NA                                                      \n",
            "haven         \"cpp11\"                                                 \n",
            "highr         NA                                                      \n",
            "hms           NA                                                      \n",
            "htmltools     NA                                                      \n",
            "htmlwidgets   NA                                                      \n",
            "httpuv        \"later, Rcpp\"                                           \n",
            "httr          NA                                                      \n",
            "httr2         NA                                                      \n",
            "ids           NA                                                      \n",
            "ini           NA                                                      \n",
            "isoband       NA                                                      \n",
            "jquerylib     NA                                                      \n",
            "jsonlite      NA                                                      \n",
            "KernSmooth    NA                                                      \n",
            "knitr         NA                                                      \n",
            "labeling      NA                                                      \n",
            "later         \"Rcpp\"                                                  \n",
            "lattice       NA                                                      \n",
            "lifecycle     NA                                                      \n",
            "lubridate     NA                                                      \n",
            "magrittr      NA                                                      \n",
            "MASS          NA                                                      \n",
            "Matrix        NA                                                      \n",
            "memoise       NA                                                      \n",
            "mgcv          NA                                                      \n",
            "mime          NA                                                      \n",
            "miniUI        NA                                                      \n",
            "modelr        NA                                                      \n",
            "munsell       NA                                                      \n",
            "nlme          NA                                                      \n",
            "nnet          NA                                                      \n",
            "openssl       NA                                                      \n",
            "pillar        NA                                                      \n",
            "pkgbuild      NA                                                      \n",
            "pkgconfig     NA                                                      \n",
            "pkgdown       NA                                                      \n",
            "pkgload       NA                                                      \n",
            "praise        NA                                                      \n",
            "prettyunits   NA                                                      \n",
            "processx      NA                                                      \n",
            "profvis       NA                                                      \n",
            "progress      NA                                                      \n",
            "promises      \"later, Rcpp\"                                           \n",
            "ps            NA                                                      \n",
            "purrr         \"cli\"                                                   \n",
            "R6            NA                                                      \n",
            "ragg          \"systemfonts, textshaping\"                              \n",
            "rappdirs      NA                                                      \n",
            "rcmdcheck     NA                                                      \n",
            "RColorBrewer  NA                                                      \n",
            "Rcpp          NA                                                      \n",
            "readr         \"cpp11, tzdb (>= 0.1.1)\"                                \n",
            "readxl        \"cpp11 (>= 0.4.0), progress\"                            \n",
            "rematch       NA                                                      \n",
            "rematch2      NA                                                      \n",
            "remotes       NA                                                      \n",
            "reprex        NA                                                      \n",
            "rlang         NA                                                      \n",
            "rmarkdown     NA                                                      \n",
            "roxygen2      \"cpp11\"                                                 \n",
            "rpart         NA                                                      \n",
            "rprojroot     NA                                                      \n",
            "rstudioapi    NA                                                      \n",
            "rversions     NA                                                      \n",
            "rvest         NA                                                      \n",
            "sass          NA                                                      \n",
            "scales        NA                                                      \n",
            "selectr       NA                                                      \n",
            "sessioninfo   NA                                                      \n",
            "shiny         NA                                                      \n",
            "sourcetools   NA                                                      \n",
            "spatial       NA                                                      \n",
            "stringi       NA                                                      \n",
            "stringr       NA                                                      \n",
            "survival      NA                                                      \n",
            "sys           NA                                                      \n",
            "systemfonts   \"cpp11 (>= 0.2.1)\"                                      \n",
            "testthat      NA                                                      \n",
            "textshaping   \"cpp11 (>= 0.2.1), systemfonts (>= 1.0.0)\"              \n",
            "tibble        NA                                                      \n",
            "tidyr         \"cpp11 (>= 0.4.0)\"                                      \n",
            "tidyselect    NA                                                      \n",
            "tidyverse     NA                                                      \n",
            "timechange    \"cpp11 (>= 0.2.7)\"                                      \n",
            "tinytex       NA                                                      \n",
            "tzdb          \"cpp11 (>= 0.4.2)\"                                      \n",
            "urlchecker    NA                                                      \n",
            "usethis       NA                                                      \n",
            "utf8          NA                                                      \n",
            "uuid          NA                                                      \n",
            "vctrs         NA                                                      \n",
            "viridisLite   NA                                                      \n",
            "vroom         \"cpp11 (>= 0.2.0), progress (>= 1.2.1), tzdb (>= 0.1.1)\"\n",
            "waldo         NA                                                      \n",
            "whisker       NA                                                      \n",
            "withr         NA                                                      \n",
            "xfun          NA                                                      \n",
            "xml2          NA                                                      \n",
            "xopen         NA                                                      \n",
            "xtable        NA                                                      \n",
            "yaml          NA                                                      \n",
            "zip           NA                                                      \n",
            "base          NA                                                      \n",
            "compiler      NA                                                      \n",
            "datasets      NA                                                      \n",
            "graphics      NA                                                      \n",
            "grDevices     NA                                                      \n",
            "grid          NA                                                      \n",
            "methods       NA                                                      \n",
            "parallel      NA                                                      \n",
            "splines       NA                                                      \n",
            "stats         NA                                                      \n",
            "stats4        NA                                                      \n",
            "tcltk         NA                                                      \n",
            "tools         NA                                                      \n",
            "utils         NA                                                      \n",
            "              Suggests                                                                                                                                                                                                                                                                                                                                                                                                                                                                                                                                                                                                                                                                                                                                                                                                                   \n",
            "IRdisplay     \"testthat, withr\"                                                                                                                                                                                                                                                                                                                                                                                                                                                                                                                                                                                                                                                                                                                                                                                                          \n",
            "IRkernel      \"testthat, roxygen2\"                                                                                                                                                                                                                                                                                                                                                                                                                                                                                                                                                                                                                                                                                                                                                                                                       \n",
            "pbdZMQ        NA                                                                                                                                                                                                                                                                                                                                                                                                                                                                                                                                                                                                                                                                                                                                                                                                                         \n",
            "repr          \"methods, highr, Cairo, stringr, testthat (>= 3.0.0), leaflet\"                                                                                                                                                                                                                                                                                                                                                                                                                                                                                                                                                                                                                                                                                                                                                             \n",
            "askpass       \"testthat\"                                                                                                                                                                                                                                                                                                                                                                                                                                                                                                                                                                                                                                                                                                                                                                                                                 \n",
            "backports     NA                                                                                                                                                                                                                                                                                                                                                                                                                                                                                                                                                                                                                                                                                                                                                                                                                         \n",
            "base64enc     NA                                                                                                                                                                                                                                                                                                                                                                                                                                                                                                                                                                                                                                                                                                                                                                                                                         \n",
            "bit           \"testthat (>= 0.11.0), roxygen2, knitr, markdown, rmarkdown,\\nmicrobenchmark, bit64 (>= 4.0.0), ff (>= 4.0.0)\"                                                                                                                                                                                                                                                                                                                                                                                                                                                                                                                                                                                                                                                                                                             \n",
            "bit64         NA                                                                                                                                                                                                                                                                                                                                                                                                                                                                                                                                                                                                                                                                                                                                                                                                                         \n",
            "blob          \"covr, crayon, pillar (>= 1.2.1), testthat\"                                                                                                                                                                                                                                                                                                                                                                                                                                                                                                                                                                                                                                                                                                                                                                                \n",
            "boot          \"MASS, survival\"                                                                                                                                                                                                                                                                                                                                                                                                                                                                                                                                                                                                                                                                                                                                                                                                           \n",
            "brew          \"testthat (>= 3.0.0)\"                                                                                                                                                                                                                                                                                                                                                                                                                                                                                                                                                                                                                                                                                                                                                                                                      \n",
            "brio          \"covr, testthat (>= 3.0.0)\"                                                                                                                                                                                                                                                                                                                                                                                                                                                                                                                                                                                                                                                                                                                                                                                                \n",
            "broom         \"AER, AUC, bbmle, betareg (>= 3.2-1), biglm, binGroup, boot,\\nbtergm (>= 1.10.6), car (>= 3.1-2), carData, caret, cluster,\\ncmprsk, coda, covr, drc, e1071, emmeans, epiR, ergm (>=\\n3.10.4), fixest (>= 0.9.0), gam (>= 1.15), gee, geepack,\\nggplot2, glmnet, glmnetUtils, gmm, Hmisc, irlba, interp,\\njoineRML, Kendall, knitr, ks, Lahman, lavaan (>= 0.6.18),\\nleaps, lfe, lm.beta, lme4, lmodel2, lmtest (>= 0.9.38),\\nlsmeans, maps, margins, MASS, mclust, mediation, metafor, mfx,\\nmgcv, mlogit, modeldata, modeltests (>= 0.1.6), muhaz,\\nmultcomp, network, nnet, orcutt (>= 2.2), ordinal, plm, poLCA,\\npsych, quantreg, rmarkdown, robust, robustbase, rsample,\\nsandwich, spdep (>= 1.1), spatialreg, speedglm, spelling,\\nsurvey, survival (>= 3.6-4), systemfit, testthat (>= 2.1.0),\\ntseries, vars, zoo\"\n",
            "bslib         \"bsicons, curl, fontawesome, future, ggplot2, knitr, magrittr,\\nrappdirs, rmarkdown (>= 2.7), shiny (> 1.8.1), testthat,\\nthematic, withr\"                                                                                                                                                                                                                                                                                                                                                                                                                                                                                                                                                                                                                                                                                 \n",
            "cachem        \"testthat\"                                                                                                                                                                                                                                                                                                                                                                                                                                                                                                                                                                                                                                                                                                                                                                                                                 \n",
            "callr         \"asciicast (>= 2.3.1), cli (>= 1.1.0), mockery, ps, rprojroot,\\nspelling, testthat (>= 3.2.0), withr (>= 2.3.0)\"                                                                                                                                                                                                                                                                                                                                                                                                                                                                                                                                                                                                                                                                                                           \n",
            "cellranger    \"covr, testthat (>= 1.0.0), knitr, rmarkdown\"                                                                                                                                                                                                                                                                                                                                                                                                                                                                                                                                                                                                                                                                                                                                                                              \n",
            "class         NA                                                                                                                                                                                                                                                                                                                                                                                                                                                                                                                                                                                                                                                                                                                                                                                                                         \n",
            "cli           \"callr, covr, crayon, digest, glue (>= 1.6.0), grDevices,\\nhtmltools, htmlwidgets, knitr, methods, mockery, processx, ps\\n(>= 1.3.4.9000), rlang (>= 1.0.2.9003), rmarkdown, rprojroot,\\nrstudioapi, testthat, tibble, whoami, withr\"                                                                                                                                                                                                                                                                                                                                                                                                                                                                                                                                                                                      \n",
            "clipr         \"covr, knitr, rmarkdown, rstudioapi (>= 0.5), testthat (>=\\n2.0.0)\"                                                                                                                                                                                                                                                                                                                                                                                                                                                                                                                                                                                                                                                                                                                                                        \n",
            "cluster       \"MASS, Matrix\"                                                                                                                                                                                                                                                                                                                                                                                                                                                                                                                                                                                                                                                                                                                                                                                                             \n",
            "codetools     NA                                                                                                                                                                                                                                                                                                                                                                                                                                                                                                                                                                                                                                                                                                                                                                                                                         \n",
            "colorspace    \"datasets, utils, KernSmooth, MASS, kernlab, mvtnorm, vcd,\\ntcltk, shiny, shinyjs, ggplot2, dplyr, scales, grid, png, jpeg,\\nknitr, rmarkdown, RColorBrewer, rcartocolor, scico, viridis,\\nwesanderson\"                                                                                                                                                                                                                                                                                                                                                                                                                                                                                                                                                                                                                    \n",
            "commonmark    \"curl, testthat, xml2\"                                                                                                                                                                                                                                                                                                                                                                                                                                                                                                                                                                                                                                                                                                                                                                                                     \n",
            "conflicted    \"callr, covr, dplyr, Matrix, methods, pkgload, testthat (>=\\n3.0.0), withr\"                                                                                                                                                                                                                                                                                                                                                                                                                                                                                                                                                                                                                                                                                                                                                \n",
            "cpp11         \"bench, brio, callr, cli, covr, decor, desc, ggplot2, glue,\\nknitr, lobstr, mockery, progress, rmarkdown, scales, Rcpp,\\ntestthat (>= 3.2.0), tibble, utils, vctrs, withr\"                                                                                                                                                                                                                                                                                                                                                                                                                                                                                                                                                                                                                                                 \n",
            "crayon        \"mockery, rstudioapi, testthat, withr\"                                                                                                                                                                                                                                                                                                                                                                                                                                                                                                                                                                                                                                                                                                                                                                                     \n",
            "credentials   \"testthat, knitr, rmarkdown\"                                                                                                                                                                                                                                                                                                                                                                                                                                                                                                                                                                                                                                                                                                                                                                                               \n",
            "curl          \"spelling, testthat (>= 1.0.0), knitr, jsonlite, later,\\nrmarkdown, httpuv (>= 1.4.4), webutils\"                                                                                                                                                                                                                                                                                                                                                                                                                                                                                                                                                                                                                                                                                                                           \n",
            "data.table    \"bit64 (>= 4.0.0), bit (>= 4.0.4), R.utils, xts, zoo (>=\\n1.8-1), yaml, knitr, markdown\"                                                                                                                                                                                                                                                                                                                                                                                                                                                                                                                                                                                                                                                                                                                                   \n",
            "DBI           \"arrow, blob, covr, DBItest, dbplyr, downlit, dplyr, glue,\\nhms, knitr, magrittr, nanoarrow (>= 0.3.0.1), RMariaDB,\\nrmarkdown, rprojroot, RSQLite (>= 1.1-2), testthat (>= 3.0.0),\\nvctrs, xml2\"                                                                                                                                                                                                                                                                                                                                                                                                                                                                                                                                                                                                                          \n",
            "dbplyr        \"bit64, covr, knitr, Lahman, nycflights13, odbc (>= 1.4.2),\\nRMariaDB (>= 1.2.2), rmarkdown, RPostgres (>= 1.4.5),\\nRPostgreSQL, RSQLite (>= 2.3.1), testthat (>= 3.1.10)\"                                                                                                                                                                                                                                                                                                                                                                                                                                                                                                                                                                                                                                                 \n",
            "desc          \"callr, covr, gh, spelling, testthat, whoami, withr\"                                                                                                                                                                                                                                                                                                                                                                                                                                                                                                                                                                                                                                                                                                                                                                       \n",
            "devtools      \"BiocManager (>= 1.30.18), callr (>= 3.7.1), covr (>= 3.5.1),\\ncurl (>= 4.3.2), digest (>= 0.6.29), DT (>= 0.23), foghorn (>=\\n1.4.2), gh (>= 1.3.0), gmailr (>= 1.0.1), httr (>= 1.4.3),\\nknitr (>= 1.39), lintr (>= 3.0.0), MASS, mockery (>= 0.4.3),\\npingr (>= 2.0.1), rhub (>= 1.1.1), rmarkdown (>= 2.14),\\nrstudioapi (>= 0.13), spelling (>= 2.2)\"                                                                                                                                                                                                                                                                                                                                                                                                                                                                 \n",
            "diffobj       \"knitr, rmarkdown\"                                                                                                                                                                                                                                                                                                                                                                                                                                                                                                                                                                                                                                                                                                                                                                                                         \n",
            "digest        \"tinytest, simplermarkdown\"                                                                                                                                                                                                                                                                                                                                                                                                                                                                                                                                                                                                                                                                                                                                                                                                \n",
            "downlit       \"covr, htmltools, jsonlite, MASS, MassSpecWavelet, pkgload,\\nrmarkdown, testthat (>= 3.0.0), xml2\"                                                                                                                                                                                                                                                                                                                                                                                                                                                                                                                                                                                                                                                                                                                         \n",
            "dplyr         \"bench, broom, callr, covr, DBI, dbplyr (>= 2.2.1), ggplot2,\\nknitr, Lahman, lobstr, microbenchmark, nycflights13, purrr,\\nrmarkdown, RMySQL, RPostgreSQL, RSQLite, stringi (>= 1.7.6),\\ntestthat (>= 3.1.5), tidyr (>= 1.3.0), withr\"                                                                                                                                                                                                                                                                                                                                                                                                                                                                                                                                                                                     \n",
            "dtplyr        \"bench, covr, knitr, rmarkdown, testthat (>= 3.1.2), tidyr (>=\\n1.1.0), waldo (>= 0.3.1)\"                                                                                                                                                                                                                                                                                                                                                                                                                                                                                                                                                                                                                                                                                                                                  \n",
            "ellipsis      \"covr, testthat\"                                                                                                                                                                                                                                                                                                                                                                                                                                                                                                                                                                                                                                                                                                                                                                                                           \n",
            "evaluate      \"callr, covr, ggplot2 (>= 3.3.6), lattice, methods, pkgload,\\nrlang, knitr, testthat (>= 3.0.0), withr\"                                                                                                                                                                                                                                                                                                                                                                                                                                                                                                                                                                                                                                                                                                                    \n",
            "fansi         \"unitizer, knitr, rmarkdown\"                                                                                                                                                                                                                                                                                                                                                                                                                                                                                                                                                                                                                                                                                                                                                                                               \n",
            "farver        \"covr, testthat (>= 3.0.0)\"                                                                                                                                                                                                                                                                                                                                                                                                                                                                                                                                                                                                                                                                                                                                                                                                \n",
            "fastmap       \"testthat (>= 2.1.1)\"                                                                                                                                                                                                                                                                                                                                                                                                                                                                                                                                                                                                                                                                                                                                                                                                      \n",
            "fontawesome   \"covr, dplyr (>= 1.0.8), gt (>= 0.9.0), knitr (>= 1.31),\\ntestthat (>= 3.0.0), rsvg\"                                                                                                                                                                                                                                                                                                                                                                                                                                                                                                                                                                                                                                                                                                                                       \n",
            "forcats       \"covr, dplyr, ggplot2, knitr, readr, rmarkdown, testthat (>=\\n3.0.0), withr\"                                                                                                                                                                                                                                                                                                                                                                                                                                                                                                                                                                                                                                                                                                                                               \n",
            "foreign       NA                                                                                                                                                                                                                                                                                                                                                                                                                                                                                                                                                                                                                                                                                                                                                                                                                         \n",
            "fs            \"covr, crayon, knitr, pillar (>= 1.0.0), rmarkdown, spelling,\\ntestthat (>= 3.0.0), tibble (>= 1.1.0), vctrs (>= 0.3.0), withr\"                                                                                                                                                                                                                                                                                                                                                                                                                                                                                                                                                                                                                                                                                            \n",
            "gargle        \"aws.ec2metadata, aws.signature, covr, httpuv, knitr,\\nrmarkdown, sodium, spelling, testthat (>= 3.1.7)\"                                                                                                                                                                                                                                                                                                                                                                                                                                                                                                                                                                                                                                                                                                                   \n",
            "generics      \"covr, pkgload, testthat (>= 3.0.0), tibble, withr\"                                                                                                                                                                                                                                                                                                                                                                                                                                                                                                                                                                                                                                                                                                                                                                        \n",
            "gert          \"spelling, knitr, rmarkdown, testthat\"                                                                                                                                                                                                                                                                                                                                                                                                                                                                                                                                                                                                                                                                                                                                                                                     \n",
            "ggplot2       \"covr, dplyr, ggplot2movies, hexbin, Hmisc, knitr, mapproj,\\nmaps, multcomp, munsell, nlme, profvis, quantreg, ragg (>=\\n1.2.6), RColorBrewer, rmarkdown, rpart, sf (>= 0.7-3), svglite\\n(>= 2.1.2), testthat (>= 3.1.2), vdiffr (>= 1.0.6), xml2\"                                                                                                                                                                                                                                                                                                                                                                                                                                                                                                                                                                         \n",
            "gh            \"covr, knitr, mockery, rmarkdown, rprojroot, spelling,\\ntestthat (>= 3.0.0), withr\"                                                                                                                                                                                                                                                                                                                                                                                                                                                                                                                                                                                                                                                                                                                                        \n",
            "gitcreds      \"codetools, covr, knitr, mockery, oskeyring, rmarkdown,\\ntestthat (>= 3.0.0), withr\"                                                                                                                                                                                                                                                                                                                                                                                                                                                                                                                                                                                                                                                                                                                                       \n",
            "glue          \"crayon, DBI (>= 1.2.0), dplyr, knitr, magrittr, rlang,\\nrmarkdown, RSQLite, testthat (>= 3.2.0), vctrs (>= 0.3.0),\\nwaldo (>= 0.5.3), withr\"                                                                                                                                                                                                                                                                                                                                                                                                                                                                                                                                                                                                                                                                              \n",
            "googledrive   \"curl, dplyr (>= 1.0.0), knitr, mockr, rmarkdown, spelling,\\ntestthat (>= 3.1.3)\"                                                                                                                                                                                                                                                                                                                                                                                                                                                                                                                                                                                                                                                                                                                                          \n",
            "googlesheets4 \"readr, rmarkdown, spelling, testthat (>= 3.1.7)\"                                                                                                                                                                                                                                                                                                                                                                                                                                                                                                                                                                                                                                                                                                                                                                          \n",
            "gtable        \"covr, ggplot2, knitr, profvis, rmarkdown, testthat (>= 3.0.0)\"                                                                                                                                                                                                                                                                                                                                                                                                                                                                                                                                                                                                                                                                                                                                                            \n",
            "haven         \"covr, crayon, fs, knitr, pillar (>= 1.4.0), rmarkdown,\\ntestthat (>= 3.0.0), utf8\"                                                                                                                                                                                                                                                                                                                                                                                                                                                                                                                                                                                                                                                                                                                                        \n",
            "highr         \"knitr, markdown, testit\"                                                                                                                                                                                                                                                                                                                                                                                                                                                                                                                                                                                                                                                                                                                                                                                                  \n",
            "hms           \"crayon, lubridate, pillar (>= 1.1.0), testthat (>= 3.0.0)\"                                                                                                                                                                                                                                                                                                                                                                                                                                                                                                                                                                                                                                                                                                                                                                \n",
            "htmltools     \"Cairo, markdown, ragg, shiny, testthat, withr\"                                                                                                                                                                                                                                                                                                                                                                                                                                                                                                                                                                                                                                                                                                                                                                            \n",
            "htmlwidgets   \"testthat\"                                                                                                                                                                                                                                                                                                                                                                                                                                                                                                                                                                                                                                                                                                                                                                                                                 \n",
            "httpuv        \"callr, curl, testthat, websocket\"                                                                                                                                                                                                                                                                                                                                                                                                                                                                                                                                                                                                                                                                                                                                                                                         \n",
            "httr          \"covr, httpuv, jpeg, knitr, png, readr, rmarkdown, testthat\\n(>= 0.8.0), xml2\"                                                                                                                                                                                                                                                                                                                                                                                                                                                                                                                                                                                                                                                                                                                                             \n",
            "httr2         \"askpass, bench, clipr, covr, docopt, httpuv, jose, jsonlite,\\nknitr, later (>= 1.4.0), paws.common, promises, rmarkdown,\\ntestthat (>= 3.1.8), tibble, webfakes, xml2\"                                                                                                                                                                                                                                                                                                                                                                                                                                                                                                                                                                                                                                                    \n",
            "ids           \"knitr, rcorpora, rmarkdown, testthat\"                                                                                                                                                                                                                                                                                                                                                                                                                                                                                                                                                                                                                                                                                                                                                                                     \n",
            "ini           \"testthat\"                                                                                                                                                                                                                                                                                                                                                                                                                                                                                                                                                                                                                                                                                                                                                                                                                 \n",
            "isoband       \"covr, ggplot2, knitr, magick, microbenchmark, rmarkdown, sf,\\ntestthat, xml2\"                                                                                                                                                                                                                                                                                                                                                                                                                                                                                                                                                                                                                                                                                                                                             \n",
            "jquerylib     \"testthat\"                                                                                                                                                                                                                                                                                                                                                                                                                                                                                                                                                                                                                                                                                                                                                                                                                 \n",
            "jsonlite      \"httr, vctrs, testthat, knitr, rmarkdown, R.rsp, sf\"                                                                                                                                                                                                                                                                                                                                                                                                                                                                                                                                                                                                                                                                                                                                                                       \n",
            "KernSmooth    \"MASS, carData\"                                                                                                                                                                                                                                                                                                                                                                                                                                                                                                                                                                                                                                                                                                                                                                                                            \n",
            "knitr         \"bslib, codetools, DBI (>= 0.4-1), digest, formatR, gifski,\\ngridSVG, htmlwidgets (>= 0.7), jpeg, JuliaCall (>= 0.11.1),\\nmagick, litedown, markdown (>= 1.3), png, ragg, reticulate (>=\\n1.4), rgl (>= 0.95.1201), rlang, rmarkdown, sass, showtext,\\nstyler (>= 1.2.0), targets (>= 0.6.0), testit, tibble,\\ntikzDevice (>= 0.10), tinytex (>= 0.46), webshot, rstudioapi,\\nsvglite\"                                                                                                                                                                                                                                                                                                                                                                                                                                     \n",
            "labeling      NA                                                                                                                                                                                                                                                                                                                                                                                                                                                                                                                                                                                                                                                                                                                                                                                                                         \n",
            "later         \"knitr, nanonext, R6, rmarkdown, testthat (>= 2.1.0)\"                                                                                                                                                                                                                                                                                                                                                                                                                                                                                                                                                                                                                                                                                                                                                                      \n",
            "lattice       \"KernSmooth, MASS, latticeExtra, colorspace\"                                                                                                                                                                                                                                                                                                                                                                                                                                                                                                                                                                                                                                                                                                                                                                               \n",
            "lifecycle     \"covr, crayon, knitr, lintr, rmarkdown, testthat (>= 3.0.1),\\ntibble, tidyverse, tools, vctrs, withr\"                                                                                                                                                                                                                                                                                                                                                                                                                                                                                                                                                                                                                                                                                                                      \n",
            "lubridate     \"covr, knitr, rmarkdown, testthat (>= 2.1.0), vctrs (>= 0.6.5)\"                                                                                                                                                                                                                                                                                                                                                                                                                                                                                                                                                                                                                                                                                                                                                            \n",
            "magrittr      \"covr, knitr, rlang, rmarkdown, testthat\"                                                                                                                                                                                                                                                                                                                                                                                                                                                                                                                                                                                                                                                                                                                                                                                  \n",
            "MASS          \"lattice, nlme, nnet, survival\"                                                                                                                                                                                                                                                                                                                                                                                                                                                                                                                                                                                                                                                                                                                                                                                            \n",
            "Matrix        \"MASS, datasets, sfsmisc, tools\"                                                                                                                                                                                                                                                                                                                                                                                                                                                                                                                                                                                                                                                                                                                                                                                           \n",
            "memoise       \"digest, aws.s3, covr, googleAuthR, googleCloudStorageR, httr,\\ntestthat\"                                                                                                                                                                                                                                                                                                                                                                                                                                                                                                                                                                                                                                                                                                                                                  \n",
            "mgcv          \"parallel, survival, MASS\"                                                                                                                                                                                                                                                                                                                                                                                                                                                                                                                                                                                                                                                                                                                                                                                                 \n",
            "mime          NA                                                                                                                                                                                                                                                                                                                                                                                                                                                                                                                                                                                                                                                                                                                                                                                                                         \n",
            "miniUI        NA                                                                                                                                                                                                                                                                                                                                                                                                                                                                                                                                                                                                                                                                                                                                                                                                                         \n",
            "modelr        \"compiler, covr, ggplot2, testthat (>= 3.0.0)\"                                                                                                                                                                                                                                                                                                                                                                                                                                                                                                                                                                                                                                                                                                                                                                             \n",
            "munsell       \"ggplot2, testthat\"                                                                                                                                                                                                                                                                                                                                                                                                                                                                                                                                                                                                                                                                                                                                                                                                        \n",
            "nlme          \"MASS, SASmixed\"                                                                                                                                                                                                                                                                                                                                                                                                                                                                                                                                                                                                                                                                                                                                                                                                           \n",
            "nnet          \"MASS\"                                                                                                                                                                                                                                                                                                                                                                                                                                                                                                                                                                                                                                                                                                                                                                                                                     \n",
            "openssl       \"curl, testthat (>= 2.1.0), digest, knitr, rmarkdown,\\njsonlite, jose, sodium\"                                                                                                                                                                                                                                                                                                                                                                                                                                                                                                                                                                                                                                                                                                                                             \n",
            "pillar        \"bit64, DBI, debugme, DiagrammeR, dplyr, formattable, ggplot2,\\nknitr, lubridate, nanotime, nycflights13, palmerpenguins,\\nrmarkdown, scales, stringi, survival, testthat (>= 3.1.1),\\ntibble, units (>= 0.7.2), vdiffr, withr\"                                                                                                                                                                                                                                                                                                                                                                                                                                                                                                                                                                                            \n",
            "pkgbuild      \"covr, cpp11, knitr, Rcpp, rmarkdown, testthat (>= 3.2.0),\\nwithr (>= 2.3.0)\"                                                                                                                                                                                                                                                                                                                                                                                                                                                                                                                                                                                                                                                                                                                                              \n",
            "pkgconfig     \"covr, testthat, disposables (>= 1.0.3)\"                                                                                                                                                                                                                                                                                                                                                                                                                                                                                                                                                                                                                                                                                                                                                                                   \n",
            "pkgdown       \"covr, diffviewer, evaluate (>= 0.24.0), gert, gt, htmltools,\\nhtmlwidgets, knitr, lifecycle, magick, methods, pkgload (>=\\n1.0.2), quarto, rsconnect, rstudioapi, rticles, sass, testthat\\n(>= 3.1.3), tools\"                                                                                                                                                                                                                                                                                                                                                                                                                                                                                                                                                                                                             \n",
            "pkgload       \"bitops, jsonlite, mathjaxr, pak, Rcpp, remotes, rstudioapi,\\ntestthat (>= 3.2.1.1), usethis\"                                                                                                                                                                                                                                                                                                                                                                                                                                                                                                                                                                                                                                                                                                                              \n",
            "praise        \"testthat\"                                                                                                                                                                                                                                                                                                                                                                                                                                                                                                                                                                                                                                                                                                                                                                                                                 \n",
            "prettyunits   \"codetools, covr, testthat\"                                                                                                                                                                                                                                                                                                                                                                                                                                                                                                                                                                                                                                                                                                                                                                                                \n",
            "processx      \"callr (>= 3.7.3), cli (>= 3.3.0), codetools, covr, curl,\\ndebugme, parallel, rlang (>= 1.0.2), testthat (>= 3.0.0),\\nwebfakes, withr\"                                                                                                                                                                                                                                                                                                                                                                                                                                                                                                                                                                                                                                                                                     \n",
            "profvis       \"htmltools, knitr, rmarkdown, shiny, testthat (>= 3.0.0)\"                                                                                                                                                                                                                                                                                                                                                                                                                                                                                                                                                                                                                                                                                                                                                                  \n",
            "progress      \"Rcpp, testthat (>= 3.0.0), withr\"                                                                                                                                                                                                                                                                                                                                                                                                                                                                                                                                                                                                                                                                                                                                                                                         \n",
            "promises      \"future (>= 1.21.0), knitr, purrr, rmarkdown, spelling,\\ntestthat, vembedr\"                                                                                                                                                                                                                                                                                                                                                                                                                                                                                                                                                                                                                                                                                                                                                \n",
            "ps            \"callr, covr, curl, pillar, pingr, processx (>= 3.1.0), R6,\\nrlang, testthat (>= 3.0.0), webfakes, withr\"                                                                                                                                                                                                                                                                                                                                                                                                                                                                                                                                                                                                                                                                                                                  \n",
            "purrr         \"covr, dplyr (>= 0.7.8), httr, knitr, lubridate, rmarkdown,\\ntestthat (>= 3.0.0), tibble, tidyselect\"                                                                                                                                                                                                                                                                                                                                                                                                                                                                                                                                                                                                                                                                                                                      \n",
            "R6            \"testthat, pryr\"                                                                                                                                                                                                                                                                                                                                                                                                                                                                                                                                                                                                                                                                                                                                                                                                           \n",
            "ragg          \"covr, graphics, grid, testthat (>= 3.0.0)\"                                                                                                                                                                                                                                                                                                                                                                                                                                                                                                                                                                                                                                                                                                                                                                                \n",
            "rappdirs      \"roxygen2, testthat (>= 3.0.0), covr, withr\"                                                                                                                                                                                                                                                                                                                                                                                                                                                                                                                                                                                                                                                                                                                                                                               \n",
            "rcmdcheck     \"covr, knitr, mockery, processx, ps, rmarkdown, svglite,\\ntestthat, webfakes\"                                                                                                                                                                                                                                                                                                                                                                                                                                                                                                                                                                                                                                                                                                                                              \n",
            "RColorBrewer  NA                                                                                                                                                                                                                                                                                                                                                                                                                                                                                                                                                                                                                                                                                                                                                                                                                         \n",
            "Rcpp          \"tinytest, inline, rbenchmark, pkgKitten (>= 0.1.2)\"                                                                                                                                                                                                                                                                                                                                                                                                                                                                                                                                                                                                                                                                                                                                                                       \n",
            "readr         \"covr, curl, datasets, knitr, rmarkdown, spelling, stringi,\\ntestthat (>= 3.2.0), tzdb (>= 0.1.1), waldo, withr, xml2\"                                                                                                                                                                                                                                                                                                                                                                                                                                                                                                                                                                                                                                                                                                     \n",
            "readxl        \"covr, knitr, rmarkdown, testthat (>= 3.1.6), withr\"                                                                                                                                                                                                                                                                                                                                                                                                                                                                                                                                                                                                                                                                                                                                                                       \n",
            "rematch       \"covr, testthat\"                                                                                                                                                                                                                                                                                                                                                                                                                                                                                                                                                                                                                                                                                                                                                                                                           \n",
            "rematch2      \"covr, testthat\"                                                                                                                                                                                                                                                                                                                                                                                                                                                                                                                                                                                                                                                                                                                                                                                                           \n",
            "remotes       \"brew, callr, codetools, covr, curl, git2r (>= 0.23.0), knitr,\\nmockery, pingr, pkgbuild (>= 1.0.1), rmarkdown, rprojroot,\\ntestthat (>= 3.0.0), webfakes, withr\"                                                                                                                                                                                                                                                                                                                                                                                                                                                                                                                                                                                                                                                          \n",
            "reprex        \"covr, fortunes, miniUI, rprojroot, sessioninfo, shiny,\\nspelling, styler (>= 1.2.0), testthat (>= 3.2.1)\"                                                                                                                                                                                                                                                                                                                                                                                                                                                                                                                                                                                                                                                                                                                 \n",
            "rlang         \"cli (>= 3.1.0), covr, crayon, fs, glue, knitr, magrittr,\\nmethods, pillar, rmarkdown, stats, testthat (>= 3.0.0), tibble,\\nusethis, vctrs (>= 0.2.3), withr\"                                                                                                                                                                                                                                                                                                                                                                                                                                                                                                                                                                                                                                                              \n",
            "rmarkdown     \"digest, dygraphs, fs, rsconnect, downlit (>= 0.4.0), katex\\n(>= 1.4.0), sass (>= 0.4.0), shiny (>= 1.6.0), testthat (>=\\n3.0.3), tibble, vctrs, cleanrmd, withr (>= 2.4.2), xml2\"                                                                                                                                                                                                                                                                                                                                                                                                                                                                                                                                                                                                                                         \n",
            "roxygen2      \"covr, R.methodsS3, R.oo, rmarkdown (>= 2.16), testthat (>=\\n3.1.2), yaml\"                                                                                                                                                                                                                                                                                                                                                                                                                                                                                                                                                                                                                                                                                                                                                 \n",
            "rpart         \"survival\"                                                                                                                                                                                                                                                                                                                                                                                                                                                                                                                                                                                                                                                                                                                                                                                                                 \n",
            "rprojroot     \"covr, knitr, lifecycle, mockr, rlang, rmarkdown, testthat (>=\\n3.0.0), withr\"                                                                                                                                                                                                                                                                                                                                                                                                                                                                                                                                                                                                                                                                                                                                             \n",
            "rstudioapi    \"testthat, knitr, rmarkdown, clipr, covr\"                                                                                                                                                                                                                                                                                                                                                                                                                                                                                                                                                                                                                                                                                                                                                                                  \n",
            "rversions     \"covr, mockery, testthat\"                                                                                                                                                                                                                                                                                                                                                                                                                                                                                                                                                                                                                                                                                                                                                                                                  \n",
            "rvest         \"chromote, covr, knitr, R6, readr, repurrrsive, rmarkdown,\\nspelling, stringi (>= 0.3.1), testthat (>= 3.0.2), webfakes\"                                                                                                                                                                                                                                                                                                                                                                                                                                                                                                                                                                                                                                                                                                   \n",
            "sass          \"testthat, knitr, rmarkdown, withr, shiny, curl\"                                                                                                                                                                                                                                                                                                                                                                                                                                                                                                                                                                                                                                                                                                                                                                           \n",
            "scales        \"bit64, covr, dichromat, ggplot2, hms (>= 0.5.0), stringi,\\ntestthat (>= 3.0.0)\"                                                                                                                                                                                                                                                                                                                                                                                                                                                                                                                                                                                                                                                                                                                                           \n",
            "selectr       \"testthat, XML, xml2\"                                                                                                                                                                                                                                                                                                                                                                                                                                                                                                                                                                                                                                                                                                                                                                                                      \n",
            "sessioninfo   \"callr, covr, mockery, reticulate, rmarkdown, testthat, withr\"                                                                                                                                                                                                                                                                                                                                                                                                                                                                                                                                                                                                                                                                                                                                                             \n",
            "shiny         \"coro (>= 1.1.0), datasets, DT, Cairo (>= 1.5-5), testthat (>=\\n3.0.0), knitr (>= 1.6), markdown, rmarkdown, ggplot2, reactlog\\n(>= 1.0.0), magrittr, yaml, future, dygraphs, ragg, showtext,\\nsass\"                                                                                                                                                                                                                                                                                                                                                                                                                                                                                                                                                                                                                       \n",
            "sourcetools   \"testthat\"                                                                                                                                                                                                                                                                                                                                                                                                                                                                                                                                                                                                                                                                                                                                                                                                                 \n",
            "spatial       \"MASS\"                                                                                                                                                                                                                                                                                                                                                                                                                                                                                                                                                                                                                                                                                                                                                                                                                     \n",
            "stringi       NA                                                                                                                                                                                                                                                                                                                                                                                                                                                                                                                                                                                                                                                                                                                                                                                                                         \n",
            "stringr       \"covr, dplyr, gt, htmltools, htmlwidgets, knitr, rmarkdown,\\ntestthat (>= 3.0.0), tibble\"                                                                                                                                                                                                                                                                                                                                                                                                                                                                                                                                                                                                                                                                                                                                  \n",
            "survival      NA                                                                                                                                                                                                                                                                                                                                                                                                                                                                                                                                                                                                                                                                                                                                                                                                                         \n",
            "sys           \"unix (>= 1.4), spelling, testthat\"                                                                                                                                                                                                                                                                                                                                                                                                                                                                                                                                                                                                                                                                                                                                                                                        \n",
            "systemfonts   \"covr, knitr, rmarkdown, testthat (>= 2.1.0), tools\"                                                                                                                                                                                                                                                                                                                                                                                                                                                                                                                                                                                                                                                                                                                                                                       \n",
            "testthat      \"covr, curl (>= 0.9.5), diffviewer (>= 0.1.0), knitr,\\nrmarkdown, rstudioapi, S7, shiny, usethis, vctrs (>= 0.1.0),\\nxml2\"                                                                                                                                                                                                                                                                                                                                                                                                                                                                                                                                                                                                                                                                                                 \n",
            "textshaping   \"covr, knitr, rmarkdown\"                                                                                                                                                                                                                                                                                                                                                                                                                                                                                                                                                                                                                                                                                                                                                                                                   \n",
            "tibble        \"bench, bit64, blob, brio, callr, cli, covr, crayon (>=\\n1.3.4), DiagrammeR, dplyr, evaluate, formattable, ggplot2,\\nhere, hms, htmltools, knitr, lubridate, mockr, nycflights13,\\npkgbuild, pkgload, purrr, rmarkdown, stringi, testthat (>=\\n3.0.2), tidyr, withr\"                                                                                                                                                                                                                                                                                                                                                                                                                                                                                                                                                       \n",
            "tidyr         \"covr, data.table, knitr, readr, repurrrsive (>= 1.1.0),\\nrmarkdown, testthat (>= 3.0.0)\"                                                                                                                                                                                                                                                                                                                                                                                                                                                                                                                                                                                                                                                                                                                                  \n",
            "tidyselect    \"covr, crayon, dplyr, knitr, magrittr, rmarkdown, stringr,\\ntestthat (>= 3.1.1), tibble (>= 2.1.3)\"                                                                                                                                                                                                                                                                                                                                                                                                                                                                                                                                                                                                                                                                                                                        \n",
            "tidyverse     \"covr (>= 3.6.1), feather (>= 0.3.5), glue (>= 1.6.2), mockr\\n(>= 0.2.0), knitr (>= 1.41), rmarkdown (>= 2.20), testthat (>=\\n3.1.6)\"                                                                                                                                                                                                                                                                                                                                                                                                                                                                                                                                                                                                                                                                                      \n",
            "timechange    \"testthat (>= 0.7.1.99), knitr\"                                                                                                                                                                                                                                                                                                                                                                                                                                                                                                                                                                                                                                                                                                                                                                                            \n",
            "tinytex       \"testit, rstudioapi\"                                                                                                                                                                                                                                                                                                                                                                                                                                                                                                                                                                                                                                                                                                                                                                                                       \n",
            "tzdb          \"covr, testthat (>= 3.0.0)\"                                                                                                                                                                                                                                                                                                                                                                                                                                                                                                                                                                                                                                                                                                                                                                                                \n",
            "urlchecker    \"covr\"                                                                                                                                                                                                                                                                                                                                                                                                                                                                                                                                                                                                                                                                                                                                                                                                                     \n",
            "usethis       \"covr, knitr, magick, pkgload (>= 1.3.2.1), rmarkdown,\\nroxygen2 (>= 7.1.2), spelling (>= 1.2), styler (>= 1.2.0),\\ntestthat (>= 3.1.8)\"                                                                                                                                                                                                                                                                                                                                                                                                                                                                                                                                                                                                                                                                                   \n",
            "utf8          \"cli, covr, knitr, rlang, rmarkdown, testthat (>= 3.0.0),\\nwithr\"                                                                                                                                                                                                                                                                                                                                                                                                                                                                                                                                                                                                                                                                                                                                                          \n",
            "uuid          NA                                                                                                                                                                                                                                                                                                                                                                                                                                                                                                                                                                                                                                                                                                                                                                                                                         \n",
            "vctrs         \"bit64, covr, crayon, dplyr (>= 0.8.5), generics, knitr,\\npillar (>= 1.4.4), pkgdown (>= 2.0.1), rmarkdown, testthat (>=\\n3.0.0), tibble (>= 3.1.3), waldo (>= 0.2.0), withr, xml2,\\nzeallot\"                                                                                                                                                                                                                                                                                                                                                                                                                                                                                                                                                                                                                              \n",
            "viridisLite   \"hexbin (>= 1.27.0), ggplot2 (>= 1.0.1), testthat, covr\"                                                                                                                                                                                                                                                                                                                                                                                                                                                                                                                                                                                                                                                                                                                                                                   \n",
            "vroom         \"archive, bench (>= 1.1.0), covr, curl, dplyr, forcats, fs,\\nggplot2, knitr, patchwork, prettyunits, purrr, rmarkdown,\\nrstudioapi, scales, spelling, testthat (>= 2.1.0), tidyr,\\nutils, waldo, xml2\"                                                                                                                                                                                                                                                                                                                                                                                                                                                                                                                                                                                                                     \n",
            "waldo         \"bit64, R6, S7, testthat (>= 3.0.0), withr, xml2\"                                                                                                                                                                                                                                                                                                                                                                                                                                                                                                                                                                                                                                                                                                                                                                          \n",
            "whisker       \"markdown\"                                                                                                                                                                                                                                                                                                                                                                                                                                                                                                                                                                                                                                                                                                                                                                                                                 \n",
            "withr         \"callr, DBI, knitr, methods, rlang, rmarkdown (>= 2.12),\\nRSQLite, testthat (>= 3.0.0)\"                                                                                                                                                                                                                                                                                                                                                                                                                                                                                                                                                                                                                                                                                                                                    \n",
            "xfun          \"testit, parallel, codetools, methods, rstudioapi, tinytex (>=\\n0.30), mime, litedown (>= 0.4), commonmark, knitr (>= 1.47),\\nremotes, pak, rhub, renv, curl, xml2, jsonlite, magick, yaml,\\nqs, rmarkdown\"                                                                                                                                                                                                                                                                                                                                                                                                                                                                                                                                                                                                                \n",
            "xml2          \"covr, curl, httr, knitr, magrittr, mockery, rmarkdown,\\ntestthat (>= 3.0.0)\"                                                                                                                                                                                                                                                                                                                                                                                                                                                                                                                                                                                                                                                                                                                                              \n",
            "xopen         \"ps, testthat (>= 3.0.0)\"                                                                                                                                                                                                                                                                                                                                                                                                                                                                                                                                                                                                                                                                                                                                                                                                  \n",
            "xtable        \"knitr, plm, zoo, survival\"                                                                                                                                                                                                                                                                                                                                                                                                                                                                                                                                                                                                                                                                                                                                                                                                \n",
            "yaml          \"RUnit\"                                                                                                                                                                                                                                                                                                                                                                                                                                                                                                                                                                                                                                                                                                                                                                                                                    \n",
            "zip           \"covr, processx, R6, testthat, withr\"                                                                                                                                                                                                                                                                                                                                                                                                                                                                                                                                                                                                                                                                                                                                                                                      \n",
            "base          \"methods\"                                                                                                                                                                                                                                                                                                                                                                                                                                                                                                                                                                                                                                                                                                                                                                                                                  \n",
            "compiler      NA                                                                                                                                                                                                                                                                                                                                                                                                                                                                                                                                                                                                                                                                                                                                                                                                                         \n",
            "datasets      NA                                                                                                                                                                                                                                                                                                                                                                                                                                                                                                                                                                                                                                                                                                                                                                                                                         \n",
            "graphics      NA                                                                                                                                                                                                                                                                                                                                                                                                                                                                                                                                                                                                                                                                                                                                                                                                                         \n",
            "grDevices     \"KernSmooth\"                                                                                                                                                                                                                                                                                                                                                                                                                                                                                                                                                                                                                                                                                                                                                                                                               \n",
            "grid          NA                                                                                                                                                                                                                                                                                                                                                                                                                                                                                                                                                                                                                                                                                                                                                                                                                         \n",
            "methods       \"codetools\"                                                                                                                                                                                                                                                                                                                                                                                                                                                                                                                                                                                                                                                                                                                                                                                                                \n",
            "parallel      \"methods\"                                                                                                                                                                                                                                                                                                                                                                                                                                                                                                                                                                                                                                                                                                                                                                                                                  \n",
            "splines       \"Matrix, methods\"                                                                                                                                                                                                                                                                                                                                                                                                                                                                                                                                                                                                                                                                                                                                                                                                          \n",
            "stats         \"MASS, Matrix, SuppDists, methods, stats4\"                                                                                                                                                                                                                                                                                                                                                                                                                                                                                                                                                                                                                                                                                                                                                                                 \n",
            "stats4        NA                                                                                                                                                                                                                                                                                                                                                                                                                                                                                                                                                                                                                                                                                                                                                                                                                         \n",
            "tcltk         NA                                                                                                                                                                                                                                                                                                                                                                                                                                                                                                                                                                                                                                                                                                                                                                                                                         \n",
            "tools         \"codetools, methods, xml2, curl, commonmark, knitr, xfun, mathjaxr, V8\"                                                                                                                                                                                                                                                                                                                                                                                                                                                                                                                                                                                                                                                                                                                                                    \n",
            "utils         \"methods, xml2, commonmark, knitr, jsonlite\"                                                                                                                                                                                                                                                                                                                                                                                                                                                                                                                                                                                                                                                                                                                                                                               \n",
            "              Enhances                                                      \n",
            "IRdisplay     NA                                                            \n",
            "IRkernel      NA                                                            \n",
            "pbdZMQ        NA                                                            \n",
            "repr          \"data.table, tibble, htmlwidgets, vegalite, plotly, geojsonio\"\n",
            "askpass       NA                                                            \n",
            "backports     NA                                                            \n",
            "base64enc     \"png\"                                                         \n",
            "bit           NA                                                            \n",
            "bit64         NA                                                            \n",
            "blob          NA                                                            \n",
            "boot          NA                                                            \n",
            "brew          NA                                                            \n",
            "brio          NA                                                            \n",
            "broom         NA                                                            \n",
            "bslib         NA                                                            \n",
            "cachem        NA                                                            \n",
            "callr         NA                                                            \n",
            "cellranger    NA                                                            \n",
            "class         NA                                                            \n",
            "cli           NA                                                            \n",
            "clipr         NA                                                            \n",
            "cluster       \"mvoutlier, fpc, ellipse, sfsmisc\"                            \n",
            "codetools     NA                                                            \n",
            "colorspace    NA                                                            \n",
            "commonmark    NA                                                            \n",
            "conflicted    NA                                                            \n",
            "cpp11         NA                                                            \n",
            "crayon        NA                                                            \n",
            "credentials   NA                                                            \n",
            "curl          NA                                                            \n",
            "data.table    NA                                                            \n",
            "DBI           NA                                                            \n",
            "dbplyr        NA                                                            \n",
            "desc          NA                                                            \n",
            "devtools      NA                                                            \n",
            "diffobj       NA                                                            \n",
            "digest        NA                                                            \n",
            "downlit       NA                                                            \n",
            "dplyr         NA                                                            \n",
            "dtplyr        NA                                                            \n",
            "ellipsis      NA                                                            \n",
            "evaluate      NA                                                            \n",
            "fansi         NA                                                            \n",
            "farver        NA                                                            \n",
            "fastmap       NA                                                            \n",
            "fontawesome   NA                                                            \n",
            "forcats       NA                                                            \n",
            "foreign       NA                                                            \n",
            "fs            NA                                                            \n",
            "gargle        NA                                                            \n",
            "generics      NA                                                            \n",
            "gert          NA                                                            \n",
            "ggplot2       \"sp\"                                                          \n",
            "gh            NA                                                            \n",
            "gitcreds      NA                                                            \n",
            "glue          NA                                                            \n",
            "googledrive   NA                                                            \n",
            "googlesheets4 NA                                                            \n",
            "gtable        NA                                                            \n",
            "haven         NA                                                            \n",
            "highr         NA                                                            \n",
            "hms           NA                                                            \n",
            "htmltools     \"knitr\"                                                       \n",
            "htmlwidgets   \"shiny (>= 1.1)\"                                              \n",
            "httpuv        NA                                                            \n",
            "httr          NA                                                            \n",
            "httr2         NA                                                            \n",
            "ids           NA                                                            \n",
            "ini           NA                                                            \n",
            "isoband       NA                                                            \n",
            "jquerylib     NA                                                            \n",
            "jsonlite      NA                                                            \n",
            "KernSmooth    NA                                                            \n",
            "knitr         NA                                                            \n",
            "labeling      NA                                                            \n",
            "later         NA                                                            \n",
            "lattice       \"chron, zoo\"                                                  \n",
            "lifecycle     NA                                                            \n",
            "lubridate     \"chron, data.table, timeDate, tis, zoo\"                       \n",
            "magrittr      NA                                                            \n",
            "MASS          NA                                                            \n",
            "Matrix        \"SparseM, graph\"                                              \n",
            "memoise       NA                                                            \n",
            "mgcv          NA                                                            \n",
            "mime          NA                                                            \n",
            "miniUI        NA                                                            \n",
            "modelr        NA                                                            \n",
            "munsell       NA                                                            \n",
            "nlme          NA                                                            \n",
            "nnet          NA                                                            \n",
            "openssl       NA                                                            \n",
            "pillar        NA                                                            \n",
            "pkgbuild      NA                                                            \n",
            "pkgconfig     NA                                                            \n",
            "pkgdown       NA                                                            \n",
            "pkgload       NA                                                            \n",
            "praise        NA                                                            \n",
            "prettyunits   NA                                                            \n",
            "processx      NA                                                            \n",
            "profvis       NA                                                            \n",
            "progress      NA                                                            \n",
            "promises      NA                                                            \n",
            "ps            NA                                                            \n",
            "purrr         NA                                                            \n",
            "R6            NA                                                            \n",
            "ragg          NA                                                            \n",
            "rappdirs      NA                                                            \n",
            "rcmdcheck     NA                                                            \n",
            "RColorBrewer  NA                                                            \n",
            "Rcpp          NA                                                            \n",
            "readr         NA                                                            \n",
            "readxl        NA                                                            \n",
            "rematch       NA                                                            \n",
            "rematch2      NA                                                            \n",
            "remotes       NA                                                            \n",
            "reprex        NA                                                            \n",
            "rlang         \"winch\"                                                       \n",
            "rmarkdown     NA                                                            \n",
            "roxygen2      NA                                                            \n",
            "rpart         NA                                                            \n",
            "rprojroot     NA                                                            \n",
            "rstudioapi    NA                                                            \n",
            "rversions     NA                                                            \n",
            "rvest         NA                                                            \n",
            "sass          NA                                                            \n",
            "scales        NA                                                            \n",
            "selectr       NA                                                            \n",
            "sessioninfo   NA                                                            \n",
            "shiny         NA                                                            \n",
            "sourcetools   NA                                                            \n",
            "spatial       NA                                                            \n",
            "stringi       NA                                                            \n",
            "stringr       NA                                                            \n",
            "survival      NA                                                            \n",
            "sys           NA                                                            \n",
            "systemfonts   NA                                                            \n",
            "testthat      NA                                                            \n",
            "textshaping   NA                                                            \n",
            "tibble        NA                                                            \n",
            "tidyr         NA                                                            \n",
            "tidyselect    NA                                                            \n",
            "tidyverse     NA                                                            \n",
            "timechange    NA                                                            \n",
            "tinytex       NA                                                            \n",
            "tzdb          NA                                                            \n",
            "urlchecker    NA                                                            \n",
            "usethis       NA                                                            \n",
            "utf8          NA                                                            \n",
            "uuid          NA                                                            \n",
            "vctrs         NA                                                            \n",
            "viridisLite   NA                                                            \n",
            "vroom         NA                                                            \n",
            "waldo         NA                                                            \n",
            "whisker       NA                                                            \n",
            "withr         NA                                                            \n",
            "xfun          NA                                                            \n",
            "xml2          NA                                                            \n",
            "xopen         NA                                                            \n",
            "xtable        NA                                                            \n",
            "yaml          NA                                                            \n",
            "zip           NA                                                            \n",
            "base          \"chron, date, round\"                                          \n",
            "compiler      NA                                                            \n",
            "datasets      NA                                                            \n",
            "graphics      \"vcd\"                                                         \n",
            "grDevices     NA                                                            \n",
            "grid          NA                                                            \n",
            "methods       NA                                                            \n",
            "parallel      \"snow, Rmpi\"                                                  \n",
            "splines       NA                                                            \n",
            "stats         \"Kendall, coin, multcomp, pcaPP, pspearman, robustbase\"       \n",
            "stats4        NA                                                            \n",
            "tcltk         NA                                                            \n",
            "tools         NA                                                            \n",
            "utils         NA                                                            \n",
            "              License                                  License_is_FOSS\n",
            "IRdisplay     \"MIT + file LICENSE\"                     NA             \n",
            "IRkernel      \"MIT + file LICENSE\"                     NA             \n",
            "pbdZMQ        \"GPL-3\"                                  NA             \n",
            "repr          \"GPL (>= 3)\"                             NA             \n",
            "askpass       \"MIT + file LICENSE\"                     NA             \n",
            "backports     \"GPL-2 | GPL-3\"                          NA             \n",
            "base64enc     \"GPL-2 | GPL-3\"                          NA             \n",
            "bit           \"GPL-2 | GPL-3\"                          NA             \n",
            "bit64         \"GPL-2 | GPL-3\"                          NA             \n",
            "blob          \"MIT + file LICENSE\"                     NA             \n",
            "boot          \"Unlimited\"                              NA             \n",
            "brew          \"GPL (>= 2)\"                             NA             \n",
            "brio          \"MIT + file LICENSE\"                     NA             \n",
            "broom         \"MIT + file LICENSE\"                     NA             \n",
            "bslib         \"MIT + file LICENSE\"                     NA             \n",
            "cachem        \"MIT + file LICENSE\"                     NA             \n",
            "callr         \"MIT + file LICENSE\"                     NA             \n",
            "cellranger    \"MIT + file LICENSE\"                     NA             \n",
            "class         \"GPL-2 | GPL-3\"                          NA             \n",
            "cli           \"MIT + file LICENSE\"                     NA             \n",
            "clipr         \"GPL-3\"                                  NA             \n",
            "cluster       \"GPL (>= 2)\"                             NA             \n",
            "codetools     \"GPL\"                                    NA             \n",
            "colorspace    \"BSD_3_clause + file LICENSE\"            NA             \n",
            "commonmark    \"BSD_2_clause + file LICENSE\"            NA             \n",
            "conflicted    \"MIT + file LICENSE\"                     NA             \n",
            "cpp11         \"MIT + file LICENSE\"                     NA             \n",
            "crayon        \"MIT + file LICENSE\"                     NA             \n",
            "credentials   \"MIT + file LICENSE\"                     NA             \n",
            "curl          \"MIT + file LICENSE\"                     NA             \n",
            "data.table    \"MPL-2.0 | file LICENSE\"                 NA             \n",
            "DBI           \"LGPL (>= 2.1)\"                          NA             \n",
            "dbplyr        \"MIT + file LICENSE\"                     NA             \n",
            "desc          \"MIT + file LICENSE\"                     NA             \n",
            "devtools      \"MIT + file LICENSE\"                     NA             \n",
            "diffobj       \"GPL-2 | GPL-3\"                          NA             \n",
            "digest        \"GPL (>= 2)\"                             NA             \n",
            "downlit       \"MIT + file LICENSE\"                     NA             \n",
            "dplyr         \"MIT + file LICENSE\"                     NA             \n",
            "dtplyr        \"MIT + file LICENSE\"                     NA             \n",
            "ellipsis      \"MIT + file LICENSE\"                     NA             \n",
            "evaluate      \"MIT + file LICENSE\"                     NA             \n",
            "fansi         \"GPL-2 | GPL-3\"                          NA             \n",
            "farver        \"MIT + file LICENSE\"                     NA             \n",
            "fastmap       \"MIT + file LICENSE\"                     NA             \n",
            "fontawesome   \"MIT + file LICENSE\"                     NA             \n",
            "forcats       \"MIT + file LICENSE\"                     NA             \n",
            "foreign       \"GPL (>= 2)\"                             NA             \n",
            "fs            \"MIT + file LICENSE\"                     NA             \n",
            "gargle        \"MIT + file LICENSE\"                     NA             \n",
            "generics      \"MIT + file LICENSE\"                     NA             \n",
            "gert          \"MIT + file LICENSE\"                     NA             \n",
            "ggplot2       \"MIT + file LICENSE\"                     NA             \n",
            "gh            \"MIT + file LICENSE\"                     NA             \n",
            "gitcreds      \"MIT + file LICENSE\"                     NA             \n",
            "glue          \"MIT + file LICENSE\"                     NA             \n",
            "googledrive   \"MIT + file LICENSE\"                     NA             \n",
            "googlesheets4 \"MIT + file LICENSE\"                     NA             \n",
            "gtable        \"MIT + file LICENSE\"                     NA             \n",
            "haven         \"MIT + file LICENSE\"                     NA             \n",
            "highr         \"GPL\"                                    NA             \n",
            "hms           \"MIT + file LICENSE\"                     NA             \n",
            "htmltools     \"GPL (>= 2)\"                             NA             \n",
            "htmlwidgets   \"MIT + file LICENSE\"                     NA             \n",
            "httpuv        \"GPL (>= 2) | file LICENSE\"              NA             \n",
            "httr          \"MIT + file LICENSE\"                     NA             \n",
            "httr2         \"MIT + file LICENSE\"                     NA             \n",
            "ids           \"MIT + file LICENSE\"                     NA             \n",
            "ini           \"GPL-3\"                                  NA             \n",
            "isoband       \"MIT + file LICENSE\"                     NA             \n",
            "jquerylib     \"MIT + file LICENSE\"                     NA             \n",
            "jsonlite      \"MIT + file LICENSE\"                     NA             \n",
            "KernSmooth    \"Unlimited\"                              NA             \n",
            "knitr         \"GPL\"                                    NA             \n",
            "labeling      \"MIT + file LICENSE | Unlimited\"         NA             \n",
            "later         \"MIT + file LICENSE\"                     NA             \n",
            "lattice       \"GPL (>= 2)\"                             NA             \n",
            "lifecycle     \"MIT + file LICENSE\"                     NA             \n",
            "lubridate     \"GPL (>= 2)\"                             NA             \n",
            "magrittr      \"MIT + file LICENSE\"                     NA             \n",
            "MASS          \"GPL-2 | GPL-3\"                          NA             \n",
            "Matrix        \"GPL (>= 2) | file LICENCE\"              NA             \n",
            "memoise       \"MIT + file LICENSE\"                     NA             \n",
            "mgcv          \"GPL (>= 2)\"                             NA             \n",
            "mime          \"GPL\"                                    NA             \n",
            "miniUI        \"GPL-3\"                                  NA             \n",
            "modelr        \"GPL-3\"                                  NA             \n",
            "munsell       \"MIT + file LICENSE\"                     NA             \n",
            "nlme          \"GPL (>= 2)\"                             NA             \n",
            "nnet          \"GPL-2 | GPL-3\"                          NA             \n",
            "openssl       \"MIT + file LICENSE\"                     NA             \n",
            "pillar        \"MIT + file LICENSE\"                     NA             \n",
            "pkgbuild      \"MIT + file LICENSE\"                     NA             \n",
            "pkgconfig     \"MIT + file LICENSE\"                     NA             \n",
            "pkgdown       \"MIT + file LICENSE\"                     NA             \n",
            "pkgload       \"GPL-3\"                                  NA             \n",
            "praise        \"MIT + file LICENSE\"                     NA             \n",
            "prettyunits   \"MIT + file LICENSE\"                     NA             \n",
            "processx      \"MIT + file LICENSE\"                     NA             \n",
            "profvis       \"MIT + file LICENSE\"                     NA             \n",
            "progress      \"MIT + file LICENSE\"                     NA             \n",
            "promises      \"MIT + file LICENSE\"                     NA             \n",
            "ps            \"MIT + file LICENSE\"                     NA             \n",
            "purrr         \"MIT + file LICENSE\"                     NA             \n",
            "R6            \"MIT + file LICENSE\"                     NA             \n",
            "ragg          \"MIT + file LICENSE\"                     NA             \n",
            "rappdirs      \"MIT + file LICENSE\"                     NA             \n",
            "rcmdcheck     \"MIT + file LICENSE\"                     NA             \n",
            "RColorBrewer  \"Apache License 2.0\"                     NA             \n",
            "Rcpp          \"GPL (>= 2)\"                             NA             \n",
            "readr         \"MIT + file LICENSE\"                     NA             \n",
            "readxl        \"MIT + file LICENSE\"                     NA             \n",
            "rematch       \"MIT + file LICENSE\"                     NA             \n",
            "rematch2      \"MIT + file LICENSE\"                     NA             \n",
            "remotes       \"MIT + file LICENSE\"                     NA             \n",
            "reprex        \"MIT + file LICENSE\"                     NA             \n",
            "rlang         \"MIT + file LICENSE\"                     NA             \n",
            "rmarkdown     \"GPL-3\"                                  NA             \n",
            "roxygen2      \"MIT + file LICENSE\"                     NA             \n",
            "rpart         \"GPL-2 | GPL-3\"                          NA             \n",
            "rprojroot     \"MIT + file LICENSE\"                     NA             \n",
            "rstudioapi    \"MIT + file LICENSE\"                     NA             \n",
            "rversions     \"MIT + file LICENSE\"                     NA             \n",
            "rvest         \"MIT + file LICENSE\"                     NA             \n",
            "sass          \"MIT + file LICENSE\"                     NA             \n",
            "scales        \"MIT + file LICENSE\"                     NA             \n",
            "selectr       \"BSD_3_clause + file LICENCE\"            NA             \n",
            "sessioninfo   \"GPL-2\"                                  NA             \n",
            "shiny         \"GPL-3 | file LICENSE\"                   NA             \n",
            "sourcetools   \"MIT + file LICENSE\"                     NA             \n",
            "spatial       \"GPL-2 | GPL-3\"                          NA             \n",
            "stringi       \"file LICENSE\"                           \"yes\"          \n",
            "stringr       \"MIT + file LICENSE\"                     NA             \n",
            "survival      \"LGPL (>= 2)\"                            NA             \n",
            "sys           \"MIT + file LICENSE\"                     NA             \n",
            "systemfonts   \"MIT + file LICENSE\"                     NA             \n",
            "testthat      \"MIT + file LICENSE\"                     NA             \n",
            "textshaping   \"MIT + file LICENSE\"                     NA             \n",
            "tibble        \"MIT + file LICENSE\"                     NA             \n",
            "tidyr         \"MIT + file LICENSE\"                     NA             \n",
            "tidyselect    \"MIT + file LICENSE\"                     NA             \n",
            "tidyverse     \"MIT + file LICENSE\"                     NA             \n",
            "timechange    \"GPL (>= 3)\"                             NA             \n",
            "tinytex       \"MIT + file LICENSE\"                     NA             \n",
            "tzdb          \"MIT + file LICENSE\"                     NA             \n",
            "urlchecker    \"GPL-3\"                                  NA             \n",
            "usethis       \"MIT + file LICENSE\"                     NA             \n",
            "utf8          \"Apache License (== 2.0) | file LICENSE\" NA             \n",
            "uuid          \"MIT + file LICENSE\"                     NA             \n",
            "vctrs         \"MIT + file LICENSE\"                     NA             \n",
            "viridisLite   \"MIT + file LICENSE\"                     NA             \n",
            "vroom         \"MIT + file LICENSE\"                     NA             \n",
            "waldo         \"MIT + file LICENSE\"                     NA             \n",
            "whisker       \"GPL-3\"                                  NA             \n",
            "withr         \"MIT + file LICENSE\"                     NA             \n",
            "xfun          \"MIT + file LICENSE\"                     NA             \n",
            "xml2          \"MIT + file LICENSE\"                     NA             \n",
            "xopen         \"MIT + file LICENSE\"                     NA             \n",
            "xtable        \"GPL (>= 2)\"                             NA             \n",
            "yaml          \"BSD_3_clause + file LICENSE\"            NA             \n",
            "zip           \"MIT + file LICENSE\"                     NA             \n",
            "base          \"Part of R 4.4.2\"                        NA             \n",
            "compiler      \"Part of R 4.4.2\"                        NA             \n",
            "datasets      \"Part of R 4.4.2\"                        NA             \n",
            "graphics      \"Part of R 4.4.2\"                        NA             \n",
            "grDevices     \"Part of R 4.4.2\"                        NA             \n",
            "grid          \"Part of R 4.4.2\"                        NA             \n",
            "methods       \"Part of R 4.4.2\"                        NA             \n",
            "parallel      \"Part of R 4.4.2\"                        NA             \n",
            "splines       \"Part of R 4.4.2\"                        NA             \n",
            "stats         \"Part of R 4.4.2\"                        NA             \n",
            "stats4        \"Part of R 4.4.2\"                        NA             \n",
            "tcltk         \"Part of R 4.4.2\"                        NA             \n",
            "tools         \"Part of R 4.4.2\"                        NA             \n",
            "utils         \"Part of R 4.4.2\"                        NA             \n",
            "              License_restricts_use OS_type MD5sum NeedsCompilation Built  \n",
            "IRdisplay     NA                    NA      NA     \"no\"             \"4.4.2\"\n",
            "IRkernel      NA                    NA      NA     \"no\"             \"4.4.2\"\n",
            "pbdZMQ        NA                    NA      NA     \"yes\"            \"4.4.2\"\n",
            "repr          NA                    NA      NA     \"no\"             \"4.4.2\"\n",
            "askpass       NA                    NA      NA     \"yes\"            \"4.4.0\"\n",
            "backports     NA                    NA      NA     \"yes\"            \"4.4.0\"\n",
            "base64enc     NA                    NA      NA     \"yes\"            \"4.0.2\"\n",
            "bit           NA                    NA      NA     \"yes\"            \"4.4.0\"\n",
            "bit64         NA                    NA      NA     \"yes\"            \"4.4.0\"\n",
            "blob          NA                    NA      NA     \"no\"             \"4.2.0\"\n",
            "boot          NA                    NA      NA     \"no\"             \"4.4.0\"\n",
            "brew          NA                    NA      NA     \"no\"             \"4.3.0\"\n",
            "brio          NA                    NA      NA     \"yes\"            \"4.3.0\"\n",
            "broom         NA                    NA      NA     \"no\"             \"4.4.0\"\n",
            "bslib         NA                    NA      NA     \"no\"             \"4.4.0\"\n",
            "cachem        NA                    NA      NA     \"yes\"            \"4.4.0\"\n",
            "callr         NA                    NA      NA     \"no\"             \"4.3.0\"\n",
            "cellranger    NA                    NA      NA     \"no\"             \"4.0.1\"\n",
            "class         NA                    NA      NA     \"yes\"            \"4.4.0\"\n",
            "cli           NA                    NA      NA     \"yes\"            \"4.4.0\"\n",
            "clipr         NA                    NA      NA     \"no\"             \"4.2.0\"\n",
            "cluster       NA                    NA      NA     \"yes\"            \"4.4.0\"\n",
            "codetools     NA                    NA      NA     \"no\"             \"4.3.0\"\n",
            "colorspace    NA                    NA      NA     \"yes\"            \"4.4.0\"\n",
            "commonmark    NA                    NA      NA     \"yes\"            \"4.4.0\"\n",
            "conflicted    NA                    NA      NA     \"no\"             \"4.2.0\"\n",
            "cpp11         NA                    NA      NA     \"no\"             \"4.4.0\"\n",
            "crayon        NA                    NA      NA     \"no\"             \"4.4.0\"\n",
            "credentials   NA                    NA      NA     \"no\"             \"4.4.0\"\n",
            "curl          NA                    NA      NA     \"yes\"            \"4.4.0\"\n",
            "data.table    NA                    NA      NA     \"yes\"            \"4.4.0\"\n",
            "DBI           NA                    NA      NA     \"no\"             \"4.4.0\"\n",
            "dbplyr        NA                    NA      NA     \"no\"             \"4.3.0\"\n",
            "desc          NA                    NA      NA     \"no\"             \"4.3.0\"\n",
            "devtools      NA                    NA      NA     \"no\"             \"4.2.0\"\n",
            "diffobj       NA                    NA      NA     \"yes\"            \"4.2.0\"\n",
            "digest        NA                    NA      NA     \"yes\"            \"4.4.0\"\n",
            "downlit       NA                    NA      NA     \"no\"             \"4.4.0\"\n",
            "dplyr         NA                    NA      NA     \"yes\"            \"4.3.0\"\n",
            "dtplyr        NA                    NA      NA     \"no\"             \"4.2.0\"\n",
            "ellipsis      NA                    NA      NA     \"yes\"            \"4.1.1\"\n",
            "evaluate      NA                    NA      NA     \"no\"             \"4.4.0\"\n",
            "fansi         NA                    NA      NA     \"yes\"            \"4.3.0\"\n",
            "farver        NA                    NA      NA     \"yes\"            \"4.4.0\"\n",
            "fastmap       NA                    NA      NA     \"yes\"            \"4.4.0\"\n",
            "fontawesome   NA                    NA      NA     \"no\"             \"4.4.0\"\n",
            "forcats       NA                    NA      NA     \"no\"             \"4.2.0\"\n",
            "foreign       NA                    NA      NA     \"yes\"            \"4.4.0\"\n",
            "fs            NA                    NA      NA     \"yes\"            \"4.4.0\"\n",
            "gargle        NA                    NA      NA     \"no\"             \"4.2.0\"\n",
            "generics      NA                    NA      NA     \"no\"             \"4.2.0\"\n",
            "gert          NA                    NA      NA     \"yes\"            \"4.4.0\"\n",
            "ggplot2       NA                    NA      NA     \"no\"             \"4.3.0\"\n",
            "gh            NA                    NA      NA     \"no\"             \"4.3.0\"\n",
            "gitcreds      NA                    NA      NA     \"no\"             \"4.2.0\"\n",
            "glue          NA                    NA      NA     \"yes\"            \"4.4.0\"\n",
            "googledrive   NA                    NA      NA     \"no\"             \"4.2.0\"\n",
            "googlesheets4 NA                    NA      NA     \"no\"             \"4.2.0\"\n",
            "gtable        NA                    NA      NA     \"no\"             \"4.4.0\"\n",
            "haven         NA                    NA      NA     \"yes\"            \"4.3.0\"\n",
            "highr         NA                    NA      NA     \"no\"             \"4.4.0\"\n",
            "hms           NA                    NA      NA     \"no\"             \"4.2.0\"\n",
            "htmltools     NA                    NA      NA     \"yes\"            \"4.3.0\"\n",
            "htmlwidgets   NA                    NA      NA     \"no\"             \"4.3.0\"\n",
            "httpuv        NA                    NA      NA     \"yes\"            \"4.3.0\"\n",
            "httr          NA                    NA      NA     \"no\"             \"4.2.0\"\n",
            "httr2         NA                    NA      NA     \"no\"             \"4.4.0\"\n",
            "ids           NA                    NA      NA     \"no\"             \"4.1.1\"\n",
            "ini           NA                    NA      NA     \"no\"             \"4.0.1\"\n",
            "isoband       NA                    NA      NA     \"yes\"            \"4.2.0\"\n",
            "jquerylib     NA                    NA      NA     \"no\"             \"4.3.2\"\n",
            "jsonlite      NA                    NA      NA     \"yes\"            \"4.4.0\"\n",
            "KernSmooth    NA                    NA      NA     \"yes\"            \"4.4.0\"\n",
            "knitr         NA                    NA      NA     \"no\"             \"4.4.0\"\n",
            "labeling      NA                    NA      NA     \"no\"             \"4.2.0\"\n",
            "later         NA                    NA      NA     \"yes\"            \"4.4.0\"\n",
            "lattice       NA                    NA      NA     \"yes\"            \"4.3.0\"\n",
            "lifecycle     NA                    NA      NA     \"no\"             \"4.3.0\"\n",
            "lubridate     NA                    NA      NA     \"yes\"            \"4.4.0\"\n",
            "magrittr      NA                    NA      NA     \"yes\"            \"4.2.0\"\n",
            "MASS          NA                    NA      NA     \"yes\"            \"4.4.0\"\n",
            "Matrix        NA                    NA      NA     \"yes\"            \"4.4.0\"\n",
            "memoise       NA                    NA      NA     \"no\"             \"4.2.0\"\n",
            "mgcv          NA                    NA      NA     \"yes\"            \"4.3.0\"\n",
            "mime          NA                    NA      NA     \"yes\"            \"4.2.0\"\n",
            "miniUI        NA                    NA      NA     \"no\"             \"4.0.1\"\n",
            "modelr        NA                    NA      NA     \"no\"             \"4.2.0\"\n",
            "munsell       NA                    NA      NA     \"no\"             \"4.3.0\"\n",
            "nlme          NA                    NA      NA     \"yes\"            \"4.4.0\"\n",
            "nnet          NA                    NA      NA     \"yes\"            \"4.4.0\"\n",
            "openssl       NA                    NA      NA     \"yes\"            \"4.4.0\"\n",
            "pillar        NA                    NA      NA     \"no\"             \"4.4.0\"\n",
            "pkgbuild      NA                    NA      NA     \"no\"             \"4.4.0\"\n",
            "pkgconfig     NA                    NA      NA     \"no\"             \"4.0.1\"\n",
            "pkgdown       NA                    NA      NA     \"no\"             \"4.4.0\"\n",
            "pkgload       NA                    NA      NA     \"no\"             \"4.4.0\"\n",
            "praise        NA                    NA      NA     \"no\"             \"4.0.1\"\n",
            "prettyunits   NA                    NA      NA     \"no\"             \"4.3.0\"\n",
            "processx      NA                    NA      NA     \"yes\"            \"4.4.0\"\n",
            "profvis       NA                    NA      NA     \"yes\"            \"4.4.0\"\n",
            "progress      NA                    NA      NA     \"no\"             \"4.3.0\"\n",
            "promises      NA                    NA      NA     \"yes\"            \"4.4.0\"\n",
            "ps            NA                    NA      NA     \"yes\"            \"4.4.0\"\n",
            "purrr         NA                    NA      NA     \"yes\"            \"4.2.0\"\n",
            "R6            NA                    NA      NA     \"no\"             \"4.2.0\"\n",
            "ragg          NA                    NA      NA     \"yes\"            \"4.4.0\"\n",
            "rappdirs      NA                    NA      NA     \"yes\"            \"4.2.0\"\n",
            "rcmdcheck     NA                    NA      NA     \"no\"             \"4.1.1\"\n",
            "RColorBrewer  NA                    NA      NA     \"no\"             \"4.2.0\"\n",
            "Rcpp          NA                    NA      NA     \"yes\"            \"4.4.0\"\n",
            "readr         NA                    NA      NA     \"yes\"            \"4.3.0\"\n",
            "readxl        NA                    NA      NA     \"yes\"            \"4.2.0\"\n",
            "rematch       NA                    NA      NA     \"no\"             \"4.3.0\"\n",
            "rematch2      NA                    NA      NA     \"no\"             \"4.0.1\"\n",
            "remotes       NA                    NA      NA     \"no\"             \"4.3.0\"\n",
            "reprex        NA                    NA      NA     \"no\"             \"4.4.0\"\n",
            "rlang         NA                    NA      NA     \"yes\"            \"4.4.0\"\n",
            "rmarkdown     NA                    NA      NA     \"no\"             \"4.4.0\"\n",
            "roxygen2      NA                    NA      NA     \"yes\"            \"4.4.0\"\n",
            "rpart         NA                    NA      NA     \"yes\"            \"4.4.0\"\n",
            "rprojroot     NA                    NA      NA     \"no\"             \"4.3.0\"\n",
            "rstudioapi    NA                    NA      NA     \"no\"             \"4.4.0\"\n",
            "rversions     NA                    NA      NA     \"no\"             \"4.2.0\"\n",
            "rvest         NA                    NA      NA     \"no\"             \"4.3.0\"\n",
            "sass          NA                    NA      NA     \"yes\"            \"4.3.0\"\n",
            "scales        NA                    NA      NA     \"yes\"            \"4.3.0\"\n",
            "selectr       NA                    NA      NA     \"no\"             \"4.0.1\"\n",
            "sessioninfo   NA                    NA      NA     \"no\"             \"4.2.0\"\n",
            "shiny         NA                    NA      NA     \"no\"             \"4.4.0\"\n",
            "sourcetools   NA                    NA      NA     \"yes\"            \"4.2.0\"\n",
            "spatial       NA                    NA      NA     \"yes\"            \"4.4.0\"\n",
            "stringi       NA                    NA      NA     \"yes\"            \"4.4.0\"\n",
            "stringr       NA                    NA      NA     \"no\"             \"4.3.0\"\n",
            "survival      NA                    NA      NA     \"yes\"            \"4.4.0\"\n",
            "sys           NA                    NA      NA     \"yes\"            \"4.4.0\"\n",
            "systemfonts   NA                    NA      NA     \"yes\"            \"4.4.0\"\n",
            "testthat      NA                    NA      NA     \"yes\"            \"4.4.0\"\n",
            "textshaping   NA                    NA      NA     \"yes\"            \"4.4.0\"\n",
            "tibble        NA                    NA      NA     \"yes\"            \"4.3.0\"\n",
            "tidyr         NA                    NA      NA     \"yes\"            \"4.3.0\"\n",
            "tidyselect    NA                    NA      NA     \"yes\"            \"4.3.0\"\n",
            "tidyverse     NA                    NA      NA     \"no\"             \"4.2.0\"\n",
            "timechange    NA                    NA      NA     \"yes\"            \"4.3.0\"\n",
            "tinytex       NA                    NA      NA     \"no\"             \"4.4.0\"\n",
            "tzdb          NA                    NA      NA     \"yes\"            \"4.2.0\"\n",
            "urlchecker    NA                    NA      NA     \"no\"             \"4.2.0\"\n",
            "usethis       NA                    NA      NA     \"no\"             \"4.4.0\"\n",
            "utf8          NA                    NA      NA     \"yes\"            \"4.3.0\"\n",
            "uuid          NA                    NA      NA     \"yes\"            \"4.4.0\"\n",
            "vctrs         NA                    NA      NA     \"yes\"            \"4.3.0\"\n",
            "viridisLite   NA                    NA      NA     \"no\"             \"4.2.0\"\n",
            "vroom         NA                    NA      NA     \"yes\"            \"4.3.0\"\n",
            "waldo         NA                    NA      NA     \"no\"             \"4.4.0\"\n",
            "whisker       NA                    NA      NA     \"no\"             \"4.2.0\"\n",
            "withr         NA                    NA      NA     \"no\"             \"4.4.0\"\n",
            "xfun          NA                    NA      NA     \"yes\"            \"4.4.0\"\n",
            "xml2          NA                    NA      NA     \"yes\"            \"4.3.0\"\n",
            "xopen         NA                    NA      NA     \"no\"             \"4.3.0\"\n",
            "xtable        NA                    NA      NA     \"no\"             \"4.0.1\"\n",
            "yaml          NA                    NA      NA     \"yes\"            \"4.4.0\"\n",
            "zip           NA                    NA      NA     \"yes\"            \"4.3.0\"\n",
            "base          NA                    NA      NA     NA               \"4.4.2\"\n",
            "compiler      NA                    NA      NA     NA               \"4.4.2\"\n",
            "datasets      NA                    NA      NA     NA               \"4.4.2\"\n",
            "graphics      NA                    NA      NA     \"yes\"            \"4.4.2\"\n",
            "grDevices     NA                    NA      NA     \"yes\"            \"4.4.2\"\n",
            "grid          NA                    NA      NA     \"yes\"            \"4.4.2\"\n",
            "methods       NA                    NA      NA     \"yes\"            \"4.4.2\"\n",
            "parallel      NA                    NA      NA     \"yes\"            \"4.4.2\"\n",
            "splines       NA                    NA      NA     \"yes\"            \"4.4.2\"\n",
            "stats         NA                    NA      NA     \"yes\"            \"4.4.2\"\n",
            "stats4        NA                    NA      NA     NA               \"4.4.2\"\n",
            "tcltk         NA                    NA      NA     \"yes\"            \"4.4.2\"\n",
            "tools         NA                    NA      NA     \"yes\"            \"4.4.2\"\n",
            "utils         NA                    NA      NA     \"yes\"            \"4.4.2\"\n"
          ]
        }
      ]
    },
    {
      "cell_type": "code",
      "source": [
        "\"Hello World!\""
      ],
      "metadata": {
        "colab": {
          "base_uri": "https://localhost:8080/",
          "height": 34
        },
        "id": "mMy1uKmJ89tm",
        "outputId": "d12666da-1249-4783-e6fb-821a0f655cf0"
      },
      "execution_count": null,
      "outputs": [
        {
          "output_type": "display_data",
          "data": {
            "text/html": [
              "'Hello World!'"
            ],
            "text/markdown": "'Hello World!'",
            "text/latex": "'Hello World!'",
            "text/plain": [
              "[1] \"Hello World!\""
            ]
          },
          "metadata": {}
        }
      ]
    },
    {
      "cell_type": "code",
      "source": [
        "10 + 20"
      ],
      "metadata": {
        "colab": {
          "base_uri": "https://localhost:8080/",
          "height": 34
        },
        "id": "ODOkMAFf9LAF",
        "outputId": "be037ed5-3c87-4a82-cf03-8794c7d47290"
      },
      "execution_count": null,
      "outputs": [
        {
          "output_type": "display_data",
          "data": {
            "text/html": [
              "30"
            ],
            "text/markdown": "30",
            "text/latex": "30",
            "text/plain": [
              "[1] 30"
            ]
          },
          "metadata": {}
        }
      ]
    },
    {
      "cell_type": "markdown",
      "source": [
        "Use R to create a graph by using the plot function"
      ],
      "metadata": {
        "id": "7mknD-ss9Nfd"
      }
    },
    {
      "cell_type": "code",
      "source": [
        "plot(1:10)"
      ],
      "metadata": {
        "colab": {
          "base_uri": "https://localhost:8080/",
          "height": 437
        },
        "id": "H20Et1qk9Mms",
        "outputId": "6d0fc812-d179-4fff-f8ae-17882b673575"
      },
      "execution_count": null,
      "outputs": [
        {
          "output_type": "display_data",
          "data": {
            "text/plain": [
              "plot without title"
            ],
            "image/png": "[encoded data removed]"
          },
          "metadata": {
            "image/png": {
              "width": 420,
              "height": 420
            }
          }
        }
      ]
    },
    {
      "cell_type": "markdown",
      "source": [
        "Text in R uses double or single quotes.\n",
        "Numbers don't require any quotes."
      ],
      "metadata": {
        "id": "MaimspLeKswY"
      }
    },
    {
      "cell_type": "markdown",
      "source": [
        "You can even use print() if you are more comfortable with it."
      ],
      "metadata": {
        "id": "XEjsnk_6LM5R"
      }
    },
    {
      "cell_type": "code",
      "source": [
        "print(\"Hello there buddy\")\n",
        "print(5 + 9)"
      ],
      "metadata": {
        "colab": {
          "base_uri": "https://localhost:8080/"
        },
        "id": "RJK2xnFVLGIr",
        "outputId": "a6fcbf98-0945-445c-88ef-9c4ec4f8787f"
      },
      "execution_count": null,
      "outputs": [
        {
          "output_type": "stream",
          "name": "stdout",
          "text": [
            "[1] \"Hello there buddy\"\n",
            "[1] 14\n"
          ]
        }
      ]
    },
    {
      "cell_type": "markdown",
      "source": [
        "You can use the print method in a for loop too"
      ],
      "metadata": {
        "id": "hU1p_k2aLkur"
      }
    },
    {
      "cell_type": "code",
      "source": [
        "for(x in 1:10) {\n",
        "  print(x)\n",
        "}"
      ],
      "metadata": {
        "colab": {
          "base_uri": "https://localhost:8080/"
        },
        "id": "NeFF-KpBLkKB",
        "outputId": "389dc2c4-4841-4486-cbb8-d56dbf7acd7c"
      },
      "execution_count": null,
      "outputs": [
        {
          "output_type": "stream",
          "name": "stdout",
          "text": [
            "[1] 1\n",
            "[1] 2\n",
            "[1] 3\n",
            "[1] 4\n",
            "[1] 5\n",
            "[1] 6\n",
            "[1] 7\n",
            "[1] 8\n",
            "[1] 9\n",
            "[1] 10\n"
          ]
        }
      ]
    },
    {
      "cell_type": "markdown",
      "source": [
        "The comments start with a pound symbol, #."
      ],
      "metadata": {
        "id": "1EUh5Z2ML_oN"
      }
    },
    {
      "cell_type": "code",
      "source": [
        "#This is a comment"
      ],
      "metadata": {
        "id": "YsL7IygfMJFv"
      },
      "execution_count": null,
      "outputs": []
    },
    {
      "cell_type": "markdown",
      "source": [
        "In order to declare a variable in R you can use '<-' like an arrow symbol. This is like the = sign in other languages where you declare a variable."
      ],
      "metadata": {
        "id": "ah1FEZIkMYll"
      }
    },
    {
      "cell_type": "code",
      "source": [
        "name <- \"Brian\"\n",
        "age <- 30\n",
        "\n",
        "name\n",
        "age"
      ],
      "metadata": {
        "colab": {
          "base_uri": "https://localhost:8080/",
          "height": 52
        },
        "id": "e9vZq5jtMt4h",
        "outputId": "0d444781-8e79-4666-cde7-fb2c09ec54a0"
      },
      "execution_count": null,
      "outputs": [
        {
          "output_type": "display_data",
          "data": {
            "text/html": [
              "'Brian'"
            ],
            "text/markdown": "'Brian'",
            "text/latex": "'Brian'",
            "text/plain": [
              "[1] \"Brian\""
            ]
          },
          "metadata": {}
        },
        {
          "output_type": "display_data",
          "data": {
            "text/html": [
              "30"
            ],
            "text/markdown": "30",
            "text/latex": "30",
            "text/plain": [
              "[1] 30"
            ]
          },
          "metadata": {}
        }
      ]
    },
    {
      "cell_type": "markdown",
      "source": [
        "You can join two or more elements using the paste() function. To combine both a text and a variable in R, use a comma ','."
      ],
      "metadata": {
        "id": "48cGVY_ZM-Df"
      }
    },
    {
      "cell_type": "code",
      "source": [
        "firstPhrase <- \"And over here is where I would put my trophy\"\n",
        "secondPhrase <- \"if I had one.\"\n",
        "\n",
        "paste(firstPhrase, secondPhrase)"
      ],
      "metadata": {
        "colab": {
          "base_uri": "https://localhost:8080/",
          "height": 34
        },
        "id": "2j6b9m3yODPV",
        "outputId": "060df1e9-45a6-4f85-d9d6-948a8476a639"
      },
      "execution_count": null,
      "outputs": [
        {
          "output_type": "display_data",
          "data": {
            "text/html": [
              "'And over here is where I would put my trophy if I had one.'"
            ],
            "text/markdown": "'And over here is where I would put my trophy if I had one.'",
            "text/latex": "'And over here is where I would put my trophy if I had one.'",
            "text/plain": [
              "[1] \"And over here is where I would put my trophy if I had one.\""
            ]
          },
          "metadata": {}
        }
      ]
    },
    {
      "cell_type": "markdown",
      "source": [
        "You can even perform mathematical operations on variables"
      ],
      "metadata": {
        "id": "tooQSWCROYST"
      }
    },
    {
      "cell_type": "code",
      "source": [
        "number1 <- 5\n",
        "number2 <- 10\n",
        "\n",
        "number1 + number2\n",
        "number1 * number2\n",
        "number1 - number2\n",
        "number1 / number2"
      ],
      "metadata": {
        "colab": {
          "base_uri": "https://localhost:8080/",
          "height": 86
        },
        "id": "m7Wax8HbOc14",
        "outputId": "6fe58369-d299-4465-ab5f-f89bc717626d"
      },
      "execution_count": null,
      "outputs": [
        {
          "output_type": "display_data",
          "data": {
            "text/html": [
              "15"
            ],
            "text/markdown": "15",
            "text/latex": "15",
            "text/plain": [
              "[1] 15"
            ]
          },
          "metadata": {}
        },
        {
          "output_type": "display_data",
          "data": {
            "text/html": [
              "50"
            ],
            "text/markdown": "50",
            "text/latex": "50",
            "text/plain": [
              "[1] 50"
            ]
          },
          "metadata": {}
        },
        {
          "output_type": "display_data",
          "data": {
            "text/html": [
              "-5"
            ],
            "text/markdown": "-5",
            "text/latex": "-5",
            "text/plain": [
              "[1] -5"
            ]
          },
          "metadata": {}
        },
        {
          "output_type": "display_data",
          "data": {
            "text/html": [
              "0.5"
            ],
            "text/markdown": "0.5",
            "text/latex": "0.5",
            "text/plain": [
              "[1] 0.5"
            ]
          },
          "metadata": {}
        }
      ]
    },
    {
      "cell_type": "markdown",
      "source": [
        "Trying to combine a string and a number will give an error."
      ],
      "metadata": {
        "id": "qegREUEiOsiT"
      }
    },
    {
      "cell_type": "markdown",
      "source": [
        "You can even assign the same value to multiple variables in one line."
      ],
      "metadata": {
        "id": "sUkt_ICyQcFB"
      }
    },
    {
      "cell_type": "code",
      "source": [
        "var1 <- var2 <- var3 <- \"Apples\"\n",
        "\n",
        "#Print the values\n",
        "var1\n",
        "var2\n",
        "var3"
      ],
      "metadata": {
        "colab": {
          "base_uri": "https://localhost:8080/",
          "height": 69
        },
        "id": "PByB5Q5HQgzQ",
        "outputId": "f0648abc-fa5f-4d8b-bc81-a0c75bbe084f"
      },
      "execution_count": null,
      "outputs": [
        {
          "output_type": "display_data",
          "data": {
            "text/html": [
              "'Apples'"
            ],
            "text/markdown": "'Apples'",
            "text/latex": "'Apples'",
            "text/plain": [
              "[1] \"Apples\""
            ]
          },
          "metadata": {}
        },
        {
          "output_type": "display_data",
          "data": {
            "text/html": [
              "'Apples'"
            ],
            "text/markdown": "'Apples'",
            "text/latex": "'Apples'",
            "text/plain": [
              "[1] \"Apples\""
            ]
          },
          "metadata": {}
        },
        {
          "output_type": "display_data",
          "data": {
            "text/html": [
              "'Apples'"
            ],
            "text/markdown": "'Apples'",
            "text/latex": "'Apples'",
            "text/plain": [
              "[1] \"Apples\""
            ]
          },
          "metadata": {}
        }
      ]
    },
    {
      "cell_type": "markdown",
      "source": [
        "Data types in R are interesting as one variable can change between a string and an integer"
      ],
      "metadata": {
        "id": "kFGQ3QNySF4m"
      }
    },
    {
      "cell_type": "code",
      "source": [
        "variable <- 20\n",
        "variable <- \"Please Excuse My Dear Aunt Sally\"\n",
        "\n",
        "variable"
      ],
      "metadata": {
        "colab": {
          "base_uri": "https://localhost:8080/",
          "height": 34
        },
        "id": "lvdoJUAVQ4GB",
        "outputId": "958f5bf2-26b8-4297-807b-a3ac9be039fc"
      },
      "execution_count": null,
      "outputs": [
        {
          "output_type": "display_data",
          "data": {
            "text/html": [
              "'Please Excuse My Dear Aunt Sally'"
            ],
            "text/markdown": "'Please Excuse My Dear Aunt Sally'",
            "text/latex": "'Please Excuse My Dear Aunt Sally'",
            "text/plain": [
              "[1] \"Please Excuse My Dear Aunt Sally\""
            ]
          },
          "metadata": {}
        }
      ]
    },
    {
      "cell_type": "markdown",
      "source": [
        "#Data Types\n",
        "Data types in R can be divided into the following:\n",
        "\n",
        "\n",
        "*  numeric = 18.5, 76, 1000\n",
        "*  integer = 1L, 55L, 800L\n",
        "*  complex- 9 + 3i\n",
        "*  character- string like \"I like     \n",
        "   learning\"\n",
        "* logical- TRUE or FALSE"
      ],
      "metadata": {
        "id": "EWtPiuFiSUUr"
      }
    },
    {
      "cell_type": "markdown",
      "source": [
        "You can check the datatype with the class() function"
      ],
      "metadata": {
        "id": "RPxByh5mg320"
      }
    },
    {
      "cell_type": "code",
      "source": [
        "x <- 20\n",
        "class(x)\n",
        "b <- \"TRUE\"\n",
        "class(b)"
      ],
      "metadata": {
        "colab": {
          "base_uri": "https://localhost:8080/",
          "height": 52
        },
        "id": "JRvyYjoogpsz",
        "outputId": "ed59745a-f0d2-4609-fb4c-f1419ef85da0"
      },
      "execution_count": null,
      "outputs": [
        {
          "output_type": "display_data",
          "data": {
            "text/html": [
              "'numeric'"
            ],
            "text/markdown": "'numeric'",
            "text/latex": "'numeric'",
            "text/plain": [
              "[1] \"numeric\""
            ]
          },
          "metadata": {}
        },
        {
          "output_type": "display_data",
          "data": {
            "text/html": [
              "'character'"
            ],
            "text/markdown": "'character'",
            "text/latex": "'character'",
            "text/plain": [
              "[1] \"character\""
            ]
          },
          "metadata": {}
        }
      ]
    },
    {
      "cell_type": "markdown",
      "source": [
        "The L in 20L is what makes it an integer"
      ],
      "metadata": {
        "id": "EM25kH8tjNSU"
      }
    },
    {
      "cell_type": "markdown",
      "source": [
        "# Numeric\n",
        "This is the most common data type that contains any number with or without a decimal."
      ],
      "metadata": {
        "id": "TSwUtITzjkFo"
      }
    },
    {
      "cell_type": "code",
      "source": [
        "x <- 20.5\n",
        "y <- 33\n",
        "\n",
        "x\n",
        "y\n",
        "\n",
        "class(x)\n",
        "class(y)"
      ],
      "metadata": {
        "colab": {
          "base_uri": "https://localhost:8080/",
          "height": 86
        },
        "id": "2ciFnV12l2wm",
        "outputId": "73083cbb-5a8b-4856-e333-eee047828088"
      },
      "execution_count": null,
      "outputs": [
        {
          "output_type": "display_data",
          "data": {
            "text/html": [
              "20.5"
            ],
            "text/markdown": "20.5",
            "text/latex": "20.5",
            "text/plain": [
              "[1] 20.5"
            ]
          },
          "metadata": {}
        },
        {
          "output_type": "display_data",
          "data": {
            "text/html": [
              "33"
            ],
            "text/markdown": "33",
            "text/latex": "33",
            "text/plain": [
              "[1] 33"
            ]
          },
          "metadata": {}
        },
        {
          "output_type": "display_data",
          "data": {
            "text/html": [
              "'numeric'"
            ],
            "text/markdown": "'numeric'",
            "text/latex": "'numeric'",
            "text/plain": [
              "[1] \"numeric\""
            ]
          },
          "metadata": {}
        },
        {
          "output_type": "display_data",
          "data": {
            "text/html": [
              "'numeric'"
            ],
            "text/markdown": "'numeric'",
            "text/latex": "'numeric'",
            "text/plain": [
              "[1] \"numeric\""
            ]
          },
          "metadata": {}
        }
      ]
    },
    {
      "cell_type": "markdown",
      "source": [
        "# Integer\n",
        "Integers are numeric data without decimals. You have to use the letter L after the integer value"
      ],
      "metadata": {
        "id": "dT_Ag23jl_aY"
      }
    },
    {
      "cell_type": "code",
      "source": [
        "x <- 5000L\n",
        "y <- 300L\n",
        "\n",
        "x\n",
        "y\n",
        "\n",
        "class(x)\n",
        "class(y)"
      ],
      "metadata": {
        "colab": {
          "base_uri": "https://localhost:8080/",
          "height": 86
        },
        "id": "dcf8sjhWmJPB",
        "outputId": "3aa5bfc2-a427-4238-caf6-010bc8e9bf9b"
      },
      "execution_count": null,
      "outputs": [
        {
          "output_type": "display_data",
          "data": {
            "text/html": [
              "5000"
            ],
            "text/markdown": "5000",
            "text/latex": "5000",
            "text/plain": [
              "[1] 5000"
            ]
          },
          "metadata": {}
        },
        {
          "output_type": "display_data",
          "data": {
            "text/html": [
              "300"
            ],
            "text/markdown": "300",
            "text/latex": "300",
            "text/plain": [
              "[1] 300"
            ]
          },
          "metadata": {}
        },
        {
          "output_type": "display_data",
          "data": {
            "text/html": [
              "'integer'"
            ],
            "text/markdown": "'integer'",
            "text/latex": "'integer'",
            "text/plain": [
              "[1] \"integer\""
            ]
          },
          "metadata": {}
        },
        {
          "output_type": "display_data",
          "data": {
            "text/html": [
              "'integer'"
            ],
            "text/markdown": "'integer'",
            "text/latex": "'integer'",
            "text/plain": [
              "[1] \"integer\""
            ]
          },
          "metadata": {}
        }
      ]
    },
    {
      "cell_type": "markdown",
      "source": [
        "# Complex\n",
        "Complex numbers are written with the imaginary 'i'"
      ],
      "metadata": {
        "id": "98g3q1oxKwAY"
      }
    },
    {
      "cell_type": "code",
      "source": [
        "x <- 3 + 10i\n",
        "y <- 4i\n",
        "\n",
        "x\n",
        "y\n",
        "\n",
        "class(x)\n",
        "class(y)"
      ],
      "metadata": {
        "colab": {
          "base_uri": "https://localhost:8080/",
          "height": 86
        },
        "id": "kSpMXfbfK7wC",
        "outputId": "4520982e-9c4f-4082-8941-c24209b5a2b8"
      },
      "execution_count": null,
      "outputs": [
        {
          "output_type": "display_data",
          "data": {
            "text/html": [
              "3+10i"
            ],
            "text/markdown": "3+10i",
            "text/latex": "3+10i",
            "text/plain": [
              "[1] 3+10i"
            ]
          },
          "metadata": {}
        },
        {
          "output_type": "display_data",
          "data": {
            "text/html": [
              "0+4i"
            ],
            "text/markdown": "0+4i",
            "text/latex": "0+4i",
            "text/plain": [
              "[1] 0+4i"
            ]
          },
          "metadata": {}
        },
        {
          "output_type": "display_data",
          "data": {
            "text/html": [
              "'complex'"
            ],
            "text/markdown": "'complex'",
            "text/latex": "'complex'",
            "text/plain": [
              "[1] \"complex\""
            ]
          },
          "metadata": {}
        },
        {
          "output_type": "display_data",
          "data": {
            "text/html": [
              "'complex'"
            ],
            "text/markdown": "'complex'",
            "text/latex": "'complex'",
            "text/plain": [
              "[1] \"complex\""
            ]
          },
          "metadata": {}
        }
      ]
    },
    {
      "cell_type": "markdown",
      "source": [
        "You can convert one number data type to another using the as. function"
      ],
      "metadata": {
        "id": "cpzAzcA0LJ69"
      }
    },
    {
      "cell_type": "code",
      "source": [
        "x <- 5L #integer\n",
        "y <- 3 + 5i #complex\n",
        "z <- 2.5 #numeric\n",
        "\n",
        "a <- as.complex(x)\n",
        "b <- as.numeric(y)\n",
        "c <- as.integer(z)\n",
        "\n",
        "x\n",
        "y\n",
        "z\n",
        "\n",
        "a\n",
        "b\n",
        "c\n",
        "\n",
        "class(x)\n",
        "class(y)\n",
        "class(z)\n",
        "class(a)\n",
        "class(b)\n",
        "class(c)"
      ],
      "metadata": {
        "colab": {
          "base_uri": "https://localhost:8080/",
          "height": 262
        },
        "id": "vEpTTuLyLPDo",
        "outputId": "c052183b-f902-421e-8828-057b95075b4d"
      },
      "execution_count": null,
      "outputs": [
        {
          "output_type": "stream",
          "name": "stderr",
          "text": [
            "Warning message:\n",
            "“imaginary parts discarded in coercion”\n"
          ]
        },
        {
          "output_type": "display_data",
          "data": {
            "text/html": [
              "5"
            ],
            "text/markdown": "5",
            "text/latex": "5",
            "text/plain": [
              "[1] 5"
            ]
          },
          "metadata": {}
        },
        {
          "output_type": "display_data",
          "data": {
            "text/html": [
              "3+5i"
            ],
            "text/markdown": "3+5i",
            "text/latex": "3+5i",
            "text/plain": [
              "[1] 3+5i"
            ]
          },
          "metadata": {}
        },
        {
          "output_type": "display_data",
          "data": {
            "text/html": [
              "2.5"
            ],
            "text/markdown": "2.5",
            "text/latex": "2.5",
            "text/plain": [
              "[1] 2.5"
            ]
          },
          "metadata": {}
        },
        {
          "output_type": "display_data",
          "data": {
            "text/html": [
              "5+0i"
            ],
            "text/markdown": "5+0i",
            "text/latex": "5+0i",
            "text/plain": [
              "[1] 5+0i"
            ]
          },
          "metadata": {}
        },
        {
          "output_type": "display_data",
          "data": {
            "text/html": [
              "3"
            ],
            "text/markdown": "3",
            "text/latex": "3",
            "text/plain": [
              "[1] 3"
            ]
          },
          "metadata": {}
        },
        {
          "output_type": "display_data",
          "data": {
            "text/html": [
              "2"
            ],
            "text/markdown": "2",
            "text/latex": "2",
            "text/plain": [
              "[1] 2"
            ]
          },
          "metadata": {}
        },
        {
          "output_type": "display_data",
          "data": {
            "text/html": [
              "'integer'"
            ],
            "text/markdown": "'integer'",
            "text/latex": "'integer'",
            "text/plain": [
              "[1] \"integer\""
            ]
          },
          "metadata": {}
        },
        {
          "output_type": "display_data",
          "data": {
            "text/html": [
              "'complex'"
            ],
            "text/markdown": "'complex'",
            "text/latex": "'complex'",
            "text/plain": [
              "[1] \"complex\""
            ]
          },
          "metadata": {}
        },
        {
          "output_type": "display_data",
          "data": {
            "text/html": [
              "'numeric'"
            ],
            "text/markdown": "'numeric'",
            "text/latex": "'numeric'",
            "text/plain": [
              "[1] \"numeric\""
            ]
          },
          "metadata": {}
        },
        {
          "output_type": "display_data",
          "data": {
            "text/html": [
              "'complex'"
            ],
            "text/markdown": "'complex'",
            "text/latex": "'complex'",
            "text/plain": [
              "[1] \"complex\""
            ]
          },
          "metadata": {}
        },
        {
          "output_type": "display_data",
          "data": {
            "text/html": [
              "'numeric'"
            ],
            "text/markdown": "'numeric'",
            "text/latex": "'numeric'",
            "text/plain": [
              "[1] \"numeric\""
            ]
          },
          "metadata": {}
        },
        {
          "output_type": "display_data",
          "data": {
            "text/html": [
              "'integer'"
            ],
            "text/markdown": "'integer'",
            "text/latex": "'integer'",
            "text/plain": [
              "[1] \"integer\""
            ]
          },
          "metadata": {}
        }
      ]
    },
    {
      "cell_type": "markdown",
      "source": [
        "Mathematical Operations are simple when using R.\n",
        "\n",
        "*   Addition uses the **+** sign\n",
        "*   Subtraction uses the **-** sign"
      ],
      "metadata": {
        "id": "Mbd9aXw0MJ7R"
      }
    },
    {
      "cell_type": "code",
      "source": [
        "5 + 5\n",
        "5 - 5"
      ],
      "metadata": {
        "colab": {
          "base_uri": "https://localhost:8080/",
          "height": 52
        },
        "id": "KnCNn1F_MfrW",
        "outputId": "0c712e7c-f63a-49bb-9220-f123a5083ffd"
      },
      "execution_count": null,
      "outputs": [
        {
          "output_type": "display_data",
          "data": {
            "text/html": [
              "10"
            ],
            "text/markdown": "10",
            "text/latex": "10",
            "text/plain": [
              "[1] 10"
            ]
          },
          "metadata": {}
        },
        {
          "output_type": "display_data",
          "data": {
            "text/html": [
              "0"
            ],
            "text/markdown": "0",
            "text/latex": "0",
            "text/plain": [
              "[1] 0"
            ]
          },
          "metadata": {}
        }
      ]
    },
    {
      "cell_type": "markdown",
      "source": [
        "# Min and Max\n",
        "the min() function can be used to find the lowest number in a set.\n",
        "\n",
        "The max() function can be used to the find the largest number in a set."
      ],
      "metadata": {
        "id": "U8VW1FGhMkh5"
      }
    },
    {
      "cell_type": "code",
      "source": [
        "max(2, 4, 6, 8, 10)\n",
        "min(2, 4, 6, 8, 10)"
      ],
      "metadata": {
        "colab": {
          "base_uri": "https://localhost:8080/",
          "height": 52
        },
        "id": "Chqd8RtTM3Ye",
        "outputId": "99039545-abfc-45a5-80a1-452972c8d069"
      },
      "execution_count": null,
      "outputs": [
        {
          "output_type": "display_data",
          "data": {
            "text/html": [
              "10"
            ],
            "text/markdown": "10",
            "text/latex": "10",
            "text/plain": [
              "[1] 10"
            ]
          },
          "metadata": {}
        },
        {
          "output_type": "display_data",
          "data": {
            "text/html": [
              "2"
            ],
            "text/markdown": "2",
            "text/latex": "2",
            "text/plain": [
              "[1] 2"
            ]
          },
          "metadata": {}
        }
      ]
    },
    {
      "cell_type": "markdown",
      "source": [
        "# Square root of a number\n",
        "You can use the sqrt() function to return the square root of a number"
      ],
      "metadata": {
        "id": "vFmkU2tGM_3Y"
      }
    },
    {
      "cell_type": "code",
      "source": [
        "sqrt(4)\n",
        "sqrt(9)\n",
        "sqrt(16)"
      ],
      "metadata": {
        "colab": {
          "base_uri": "https://localhost:8080/",
          "height": 69
        },
        "id": "Ilnqap06NGUb",
        "outputId": "8eaacdf9-cdc8-414c-fbc9-7f699f59ce98"
      },
      "execution_count": null,
      "outputs": [
        {
          "output_type": "display_data",
          "data": {
            "text/html": [
              "2"
            ],
            "text/markdown": "2",
            "text/latex": "2",
            "text/plain": [
              "[1] 2"
            ]
          },
          "metadata": {}
        },
        {
          "output_type": "display_data",
          "data": {
            "text/html": [
              "3"
            ],
            "text/markdown": "3",
            "text/latex": "3",
            "text/plain": [
              "[1] 3"
            ]
          },
          "metadata": {}
        },
        {
          "output_type": "display_data",
          "data": {
            "text/html": [
              "4"
            ],
            "text/markdown": "4",
            "text/latex": "4",
            "text/plain": [
              "[1] 4"
            ]
          },
          "metadata": {}
        }
      ]
    },
    {
      "cell_type": "markdown",
      "source": [
        "# Absolute Value\n",
        "You can use the abs() function to return the absolute value of a number"
      ],
      "metadata": {
        "id": "8qGygfjcNLeR"
      }
    },
    {
      "cell_type": "code",
      "source": [
        "abs(-5)\n",
        "abs(-10.8)\n",
        "abs(-40L)\n",
        "abs(3-4i)"
      ],
      "metadata": {
        "colab": {
          "base_uri": "https://localhost:8080/",
          "height": 86
        },
        "id": "WZT16yzxNSkk",
        "outputId": "6af7da3f-4516-4511-ca4c-c466f893f564"
      },
      "execution_count": null,
      "outputs": [
        {
          "output_type": "display_data",
          "data": {
            "text/html": [
              "5"
            ],
            "text/markdown": "5",
            "text/latex": "5",
            "text/plain": [
              "[1] 5"
            ]
          },
          "metadata": {}
        },
        {
          "output_type": "display_data",
          "data": {
            "text/html": [
              "10.8"
            ],
            "text/markdown": "10.8",
            "text/latex": "10.8",
            "text/plain": [
              "[1] 10.8"
            ]
          },
          "metadata": {}
        },
        {
          "output_type": "display_data",
          "data": {
            "text/html": [
              "40"
            ],
            "text/markdown": "40",
            "text/latex": "40",
            "text/plain": [
              "[1] 40"
            ]
          },
          "metadata": {}
        },
        {
          "output_type": "display_data",
          "data": {
            "text/html": [
              "5"
            ],
            "text/markdown": "5",
            "text/latex": "5",
            "text/plain": [
              "[1] 5"
            ]
          },
          "metadata": {}
        }
      ]
    },
    {
      "cell_type": "markdown",
      "source": [
        "# Ceiling and Floor\n",
        "The ceiling() function rounds a number up to the nearest integer.\n",
        "\n",
        "The floor() function rounds a number downwards to the nearest integer."
      ],
      "metadata": {
        "id": "YYTSQIAqNfL1"
      }
    },
    {
      "cell_type": "code",
      "source": [
        "ceiling(2.3)\n",
        "floor(2.3)"
      ],
      "metadata": {
        "colab": {
          "base_uri": "https://localhost:8080/",
          "height": 52
        },
        "id": "yT46VBwgNsX_",
        "outputId": "3e5a9fae-eafe-48bc-cab5-ae20c1932068"
      },
      "execution_count": null,
      "outputs": [
        {
          "output_type": "display_data",
          "data": {
            "text/html": [
              "3"
            ],
            "text/markdown": "3",
            "text/latex": "3",
            "text/plain": [
              "[1] 3"
            ]
          },
          "metadata": {}
        },
        {
          "output_type": "display_data",
          "data": {
            "text/html": [
              "2"
            ],
            "text/markdown": "2",
            "text/latex": "2",
            "text/plain": [
              "[1] 2"
            ]
          },
          "metadata": {}
        }
      ]
    },
    {
      "cell_type": "markdown",
      "source": [
        "#Strings\n",
        "\n",
        "Just like how you can assign a number to a variable, you can also assign a string to a variable.\n",
        "\n",
        "You can even do multiple lines in one variable. R will automatically add a new line at the end of each line break or you can use the cat() function to make the line breaks be at the same positions as the code."
      ],
      "metadata": {
        "id": "OQl7Hz94OISY"
      }
    },
    {
      "cell_type": "code",
      "source": [
        "string <- \"Hey, what's up guys it's your boy\n",
        "big Pete over here coming at you with another\n",
        "Pokemon Emerald playthrough and today we are\n",
        "going to choose our starter. I think I will choose...\n",
        "Treecko!\"\n",
        "cat(string)"
      ],
      "metadata": {
        "colab": {
          "base_uri": "https://localhost:8080/"
        },
        "id": "1lclGQb4OkTr",
        "outputId": "b7049c7b-e5fd-4395-b7b0-355617fccbd5"
      },
      "execution_count": null,
      "outputs": [
        {
          "output_type": "stream",
          "name": "stdout",
          "text": [
            "Hey, what's up guys it's your boy\n",
            "big Pete over here coming at you with another\n",
            "Pokemon Emerald playthrough and today we are\n",
            "going to choose our starter. I think I will choose...\n",
            "Treecko!"
          ]
        }
      ]
    },
    {
      "cell_type": "markdown",
      "source": [
        "# String Length\n",
        "To find out the number of characters in a string you can use the nchar() function."
      ],
      "metadata": {
        "id": "YH5RKAEYO7xm"
      }
    },
    {
      "cell_type": "code",
      "source": [
        "string <- \"What's up guys\"\n",
        "nchar(string)"
      ],
      "metadata": {
        "colab": {
          "base_uri": "https://localhost:8080/",
          "height": 34
        },
        "id": "KUTrAme8PFUy",
        "outputId": "e40daec8-9da3-4f5e-b7fb-338a5843e1a5"
      },
      "execution_count": null,
      "outputs": [
        {
          "output_type": "display_data",
          "data": {
            "text/html": [
              "14"
            ],
            "text/markdown": "14",
            "text/latex": "14",
            "text/plain": [
              "[1] 14"
            ]
          },
          "metadata": {}
        }
      ]
    },
    {
      "cell_type": "markdown",
      "source": [
        "# Check a String for Characters or Sequences\n",
        "You can use the grepl() function to check if a character or sequence of characters are in a string"
      ],
      "metadata": {
        "id": "qjPNlyf9PYDX"
      }
    },
    {
      "cell_type": "code",
      "source": [
        "string <- \"What's up guys!\"\n",
        "grepl(\"u\", string)\n",
        "grepl(\"guys\", string)\n",
        "grepl(\" \", string)\n",
        "grepl(\"!\", string)\n",
        "grepl(\"B\", string)"
      ],
      "metadata": {
        "colab": {
          "base_uri": "https://localhost:8080/",
          "height": 104
        },
        "id": "v7qnrZdoP99W",
        "outputId": "956ff82b-229e-4dff-d4c6-7652827b428e"
      },
      "execution_count": null,
      "outputs": [
        {
          "output_type": "display_data",
          "data": {
            "text/html": [
              "TRUE"
            ],
            "text/markdown": "TRUE",
            "text/latex": "TRUE",
            "text/plain": [
              "[1] TRUE"
            ]
          },
          "metadata": {}
        },
        {
          "output_type": "display_data",
          "data": {
            "text/html": [
              "TRUE"
            ],
            "text/markdown": "TRUE",
            "text/latex": "TRUE",
            "text/plain": [
              "[1] TRUE"
            ]
          },
          "metadata": {}
        },
        {
          "output_type": "display_data",
          "data": {
            "text/html": [
              "TRUE"
            ],
            "text/markdown": "TRUE",
            "text/latex": "TRUE",
            "text/plain": [
              "[1] TRUE"
            ]
          },
          "metadata": {}
        },
        {
          "output_type": "display_data",
          "data": {
            "text/html": [
              "TRUE"
            ],
            "text/markdown": "TRUE",
            "text/latex": "TRUE",
            "text/plain": [
              "[1] TRUE"
            ]
          },
          "metadata": {}
        },
        {
          "output_type": "display_data",
          "data": {
            "text/html": [
              "FALSE"
            ],
            "text/markdown": "FALSE",
            "text/latex": "FALSE",
            "text/plain": [
              "[1] FALSE"
            ]
          },
          "metadata": {}
        }
      ]
    },
    {
      "cell_type": "markdown",
      "source": [
        "# Combining Strings\n",
        "You can use the paste() function to merge two strings"
      ],
      "metadata": {
        "id": "otOQss1GQZTZ"
      }
    },
    {
      "cell_type": "code",
      "source": [
        "string1 <- \"Hello\"\n",
        "string2 <- \"World\"\n",
        "\n",
        "paste(string1, string2)"
      ],
      "metadata": {
        "colab": {
          "base_uri": "https://localhost:8080/",
          "height": 34
        },
        "id": "_MpZyGYTQgvu",
        "outputId": "a5d96668-7eaa-48b9-ada0-3a6e13aa885b"
      },
      "execution_count": null,
      "outputs": [
        {
          "output_type": "display_data",
          "data": {
            "text/html": [
              "'Hello World'"
            ],
            "text/markdown": "'Hello World'",
            "text/latex": "'Hello World'",
            "text/plain": [
              "[1] \"Hello World\""
            ]
          },
          "metadata": {}
        }
      ]
    },
    {
      "cell_type": "markdown",
      "source": [
        "# Escape Characters\n",
        "You can use an escape character to insert an illegal chatacter into a string. You can use the backslash '\\' and then put the character that you want. One example is using a double quote inside of a string surrounded by double quotes."
      ],
      "metadata": {
        "id": "oe8aAZF0QuBQ"
      }
    },
    {
      "cell_type": "code",
      "source": [
        "string <- \"I am the God of War... \\\"KRATOS\\\" and I want my son.\"\n",
        "string"
      ],
      "metadata": {
        "colab": {
          "base_uri": "https://localhost:8080/",
          "height": 34
        },
        "id": "25YOHX5eRk0G",
        "outputId": "70adba37-e8c2-494f-e41a-5ef7b8746102"
      },
      "execution_count": null,
      "outputs": [
        {
          "output_type": "display_data",
          "data": {
            "text/html": [
              "'I am the God of War... \"KRATOS\" and I want my son.'"
            ],
            "text/markdown": "'I am the God of War... \"KRATOS\" and I want my son.'",
            "text/latex": "'I am the God of War... \"KRATOS\" and I want my son.'",
            "text/plain": [
              "[1] \"I am the God of War... \\\"KRATOS\\\" and I want my son.\""
            ]
          },
          "metadata": {}
        }
      ]
    },
    {
      "cell_type": "markdown",
      "source": [
        "# Other Escape Characters\n",
        "* \\\\\\ results in a backslash\n",
        "* \\n results in a new line\n",
        "* \\r results in a carriage return\n",
        "* \\t results in a tab\n",
        "* \\b results in a backspace"
      ],
      "metadata": {
        "id": "_gOFTJ1QR5qU"
      }
    }
  ]
}