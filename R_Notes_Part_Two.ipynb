{
  "nbformat": 4,
  "nbformat_minor": 0,
  "metadata": {
    "colab": {
      "provenance": [],
      "authorship_tag": "ABX9TyNU2GdiFi9Fhfa8fmVhU67l",
      "include_colab_link": true
    },
    "kernelspec": {
      "name": "ir",
      "display_name": "R"
    },
    "language_info": {
      "name": "R"
    }
  },
  "cells": [
    {
      "cell_type": "markdown",
      "metadata": {
        "id": "view-in-github",
        "colab_type": "text"
      },
      "source": [
        "<a href=\"https://colab.research.google.com/github/AllanAlvarez1/R__Programming_Material/blob/main/R_Notes_Part_Two.ipynb\" target=\"_parent\"><img src=\"https://colab.research.google.com/assets/colab-badge.svg\" alt=\"Open In Colab\"/></a>"
      ]
    },
    {
      "cell_type": "markdown",
      "source": [
        "# Booleans\n",
        "\n",
        "An expression can be either true or false. To evaluate an expression in R you can compare two values to get a logical answer of either TRUE or FALSE"
      ],
      "metadata": {
        "id": "NHbX7SJCecjT"
      }
    },
    {
      "cell_type": "code",
      "execution_count": null,
      "metadata": {
        "colab": {
          "base_uri": "https://localhost:8080/",
          "height": 86
        },
        "id": "OqnseU6ueZG1",
        "outputId": "8bf3b05d-7d5b-4d1d-c417-d3694d270436"
      },
      "outputs": [
        {
          "output_type": "display_data",
          "data": {
            "text/html": [
              "TRUE"
            ],
            "text/markdown": "TRUE",
            "text/latex": "TRUE",
            "text/plain": [
              "[1] TRUE"
            ]
          },
          "metadata": {}
        },
        {
          "output_type": "display_data",
          "data": {
            "text/html": [
              "FALSE"
            ],
            "text/markdown": "FALSE",
            "text/latex": "FALSE",
            "text/plain": [
              "[1] FALSE"
            ]
          },
          "metadata": {}
        },
        {
          "output_type": "display_data",
          "data": {
            "text/html": [
              "TRUE"
            ],
            "text/markdown": "TRUE",
            "text/latex": "TRUE",
            "text/plain": [
              "[1] TRUE"
            ]
          },
          "metadata": {}
        },
        {
          "output_type": "display_data",
          "data": {
            "text/html": [
              "FALSE"
            ],
            "text/markdown": "FALSE",
            "text/latex": "FALSE",
            "text/plain": [
              "[1] FALSE"
            ]
          },
          "metadata": {}
        }
      ],
      "source": [
        "10 > 9\n",
        "2 < 1\n",
        "5 == 5\n",
        "5 == 6"
      ]
    },
    {
      "cell_type": "code",
      "source": [
        "#Compare two variables\n",
        "a <- 5\n",
        "b <- 6\n",
        "\n",
        "a > b\n",
        "a < b"
      ],
      "metadata": {
        "colab": {
          "base_uri": "https://localhost:8080/",
          "height": 52
        },
        "id": "UUg4dopve39f",
        "outputId": "ff0681e8-4bab-4375-f99f-3e763ce22a17"
      },
      "execution_count": null,
      "outputs": [
        {
          "output_type": "display_data",
          "data": {
            "text/html": [
              "FALSE"
            ],
            "text/markdown": "FALSE",
            "text/latex": "FALSE",
            "text/plain": [
              "[1] FALSE"
            ]
          },
          "metadata": {}
        },
        {
          "output_type": "display_data",
          "data": {
            "text/html": [
              "TRUE"
            ],
            "text/markdown": "TRUE",
            "text/latex": "TRUE",
            "text/plain": [
              "[1] TRUE"
            ]
          },
          "metadata": {}
        }
      ]
    },
    {
      "cell_type": "markdown",
      "source": [
        "You can also run conditions in an if statement"
      ],
      "metadata": {
        "id": "ti_ETsaVfBrt"
      }
    },
    {
      "cell_type": "code",
      "source": [
        "a <- 100\n",
        "b <- 50\n",
        "\n",
        "if(a > b){\n",
        "  print(\"A is greater than B!\")\n",
        "} else {\n",
        "  print(\"B is greater than A!\")\n",
        "}"
      ],
      "metadata": {
        "colab": {
          "base_uri": "https://localhost:8080/"
        },
        "id": "TPG2O_wjfEhl",
        "outputId": "d46b6b37-4f79-4d63-f864-4e9f11d48800"
      },
      "execution_count": null,
      "outputs": [
        {
          "output_type": "stream",
          "name": "stdout",
          "text": [
            "[1] \"A is greater than B!\"\n"
          ]
        }
      ]
    },
    {
      "cell_type": "markdown",
      "source": [
        "# Arithmetic Operators\n",
        "* Addition is a + sign\n",
        "* Subtraction is a - sign\n",
        "* Multiplication is a * sign\n",
        "* Division is a / sign\n",
        "* Exponents are a ^ sign\n",
        "* The remainder of a number is a %% sign\n",
        "* Integer Division is a %/% sign"
      ],
      "metadata": {
        "id": "KikItuk1fm15"
      }
    },
    {
      "cell_type": "markdown",
      "source": [
        "#Assignment Operators\n",
        "* <-\n",
        "* <<-\n",
        "* ->\n",
        "* ->>"
      ],
      "metadata": {
        "id": "-mHmK63KgQvA"
      }
    },
    {
      "cell_type": "markdown",
      "source": [
        "#R Comparison Operators\n",
        "* The Equal sign is ==\n",
        "* The Not Equal sign is !=\n",
        "* The Greater Than sign is >\n",
        "* The Less Than sign is <\n",
        "* Greater Than or Equal to sign is >=\n",
        "* The Less Than or Equal to sign is <="
      ],
      "metadata": {
        "id": "hqJr2E9BgZeN"
      }
    },
    {
      "cell_type": "markdown",
      "source": [
        "#Logical Operators\n",
        "* & returns TRUE if both elements are TRUE\n",
        "* && returns TRUE if both statements are TRUE\n",
        "* | is the OR operator. Returns TRUE if one of the statements is TRUE\n",
        "* || is the OR operator that returns TRUE if one of the statements is TRUE\n",
        "* ! is the NOT statement that returns FALSE if the statement is TRUE"
      ],
      "metadata": {
        "id": "QudqoFNOhbS0"
      }
    },
    {
      "cell_type": "markdown",
      "source": [
        "#Other Operators\n",
        "* : creates a series of numbers in a sequence like 1:10\n",
        "* %in% finds out if an element belongs in a vector\n",
        "* %*% is the operator for Matrix Multiplication"
      ],
      "metadata": {
        "id": "P-ae6IzziITm"
      }
    },
    {
      "cell_type": "markdown",
      "source": [
        "#If Statements\n",
        "The 'if' keyword is used to specify if a condition is TRUE"
      ],
      "metadata": {
        "id": "xAwTdjtXkFuS"
      }
    },
    {
      "cell_type": "code",
      "source": [
        "a <- 50\n",
        "b <- 100\n",
        "\n",
        "if(b %% a == 0){\n",
        "   TRUE\n",
        "}else {\n",
        "   FALSE\n",
        "}\n"
      ],
      "metadata": {
        "colab": {
          "base_uri": "https://localhost:8080/",
          "height": 34
        },
        "id": "CJbo6-j0kOPA",
        "outputId": "6f09de36-acae-42f9-cf73-8d09ad003279"
      },
      "execution_count": null,
      "outputs": [
        {
          "output_type": "display_data",
          "data": {
            "text/html": [
              "TRUE"
            ],
            "text/markdown": "TRUE",
            "text/latex": "TRUE",
            "text/plain": [
              "[1] TRUE"
            ]
          },
          "metadata": {}
        }
      ]
    },
    {
      "cell_type": "markdown",
      "source": [
        "#Else If\n",
        "The 'else if' keyword means \"If the previous condition was not true, then try this condition."
      ],
      "metadata": {
        "id": "osAzUBj0ljT8"
      }
    },
    {
      "cell_type": "code",
      "source": [
        "a <- 50\n",
        "b <- 100\n",
        "\n",
        "if(a == b){\n",
        "  print(\"They are equal\")\n",
        "} else if(a < b){\n",
        "  print(\"A is less than B.\")\n",
        "}"
      ],
      "metadata": {
        "colab": {
          "base_uri": "https://localhost:8080/"
        },
        "id": "RrfMgb4Qlr-a",
        "outputId": "b8e9b91e-2791-42fb-dc8d-0169554ca84c"
      },
      "execution_count": null,
      "outputs": [
        {
          "output_type": "stream",
          "name": "stdout",
          "text": [
            "[1] \"A is less than B.\"\n"
          ]
        }
      ]
    },
    {
      "cell_type": "markdown",
      "source": [
        "#Else Statement\n",
        "The 'else' statement catches anything not caught by the conditions made prior."
      ],
      "metadata": {
        "id": "Wztm5h6emcao"
      }
    },
    {
      "cell_type": "code",
      "source": [
        "a <- 50\n",
        "b <- 100\n",
        "\n",
        "if(a > b){\n",
        "  print(\"A is Greater than B\")\n",
        "} else{\n",
        "  print(\"A is Less than B\")\n",
        "}"
      ],
      "metadata": {
        "colab": {
          "base_uri": "https://localhost:8080/"
        },
        "id": "tlMP86c6mtlG",
        "outputId": "deda6490-8f0a-4359-d434-6c48b90b26ad"
      },
      "execution_count": null,
      "outputs": [
        {
          "output_type": "stream",
          "name": "stdout",
          "text": [
            "[1] \"A is Less than B\"\n"
          ]
        }
      ]
    },
    {
      "cell_type": "markdown",
      "source": [
        "#Nested If Statements\n",
        "You can have if statements inside of other if statements which is called a nested if statement"
      ],
      "metadata": {
        "id": "smqhP3UWnwk4"
      }
    },
    {
      "cell_type": "code",
      "source": [
        "x <- 100\n",
        "\n",
        "if(x > 10){\n",
        "  print(\"X is above 10\")\n",
        "  if(x > 101){\n",
        "    print(\"X is above 50\")\n",
        "  } else{\n",
        "    print(\"X is not above 101\")\n",
        "  }\n",
        "\n",
        "} else{\n",
        "  print(\"X is not above 10\")\n",
        "}"
      ],
      "metadata": {
        "colab": {
          "base_uri": "https://localhost:8080/"
        },
        "id": "3kJtnRMon_9m",
        "outputId": "612cf93d-86dc-4ee3-e9e1-3e2188a583b0"
      },
      "execution_count": null,
      "outputs": [
        {
          "output_type": "stream",
          "name": "stdout",
          "text": [
            "[1] \"X is above 10\"\n",
            "[1] \"X is not above 101\"\n"
          ]
        }
      ]
    },
    {
      "cell_type": "markdown",
      "source": [
        "#AND Operator\n",
        "You can use the '&' operator to combine conditional statements."
      ],
      "metadata": {
        "id": "r26rZMDhpd_8"
      }
    },
    {
      "cell_type": "code",
      "source": [
        "a <- 50\n",
        "b <- 100\n",
        "c <- 200\n",
        "\n",
        "if(a < b & c %% a == 0){\n",
        "  print(\"Both of these statements are true.\")\n",
        "} else {\n",
        "  print(\"One or both of these statements is false.\")\n",
        "}"
      ],
      "metadata": {
        "colab": {
          "base_uri": "https://localhost:8080/"
        },
        "id": "R5hNGJQApx_G",
        "outputId": "6b7bbbb9-194b-43fd-c5c5-09d1ef0a538a"
      },
      "execution_count": null,
      "outputs": [
        {
          "output_type": "stream",
          "name": "stdout",
          "text": [
            "[1] \"Both of these statements are true.\"\n"
          ]
        }
      ]
    },
    {
      "cell_type": "markdown",
      "source": [
        "#Or Operator\n",
        "the '|' operator is the or operator used to combine conditional statements.\n"
      ],
      "metadata": {
        "id": "e4OMdvpsrFpW"
      }
    },
    {
      "cell_type": "code",
      "source": [
        "a <- 50\n",
        "b <- 100\n",
        "\n",
        "if(a < b | a * 3 < b){\n",
        "  print(\"One of these statements is true\")\n",
        "} else{\n",
        "  print(\"Both of these statements are false\")\n",
        "}"
      ],
      "metadata": {
        "colab": {
          "base_uri": "https://localhost:8080/"
        },
        "id": "Pgb60Vd0rZOv",
        "outputId": "505028c1-b12d-41c2-9f00-a13cd01ab7c8"
      },
      "execution_count": null,
      "outputs": [
        {
          "output_type": "stream",
          "name": "stdout",
          "text": [
            "[1] \"One of these statements is true\"\n"
          ]
        }
      ]
    },
    {
      "cell_type": "markdown",
      "source": [
        "#While Loop\n",
        "Loops can keep executing code as long as the condition is being reached. You can use the 'while' command to execute a statement as long as the conditions are TRUE."
      ],
      "metadata": {
        "id": "nkA7T8BJsG8N"
      }
    },
    {
      "cell_type": "code",
      "source": [
        "a <- 0\n",
        "\n",
        "while(a < 10){\n",
        "  print(a)\n",
        "  a <- a + 1\n",
        "}"
      ],
      "metadata": {
        "colab": {
          "base_uri": "https://localhost:8080/"
        },
        "id": "a3_La4-nsaUd",
        "outputId": "a321da5a-25be-4aa2-ba16-fe016244c7c9"
      },
      "execution_count": null,
      "outputs": [
        {
          "output_type": "stream",
          "name": "stdout",
          "text": [
            "[1] 0\n",
            "[1] 1\n",
            "[1] 2\n",
            "[1] 3\n",
            "[1] 4\n",
            "[1] 5\n",
            "[1] 6\n",
            "[1] 7\n",
            "[1] 8\n",
            "[1] 9\n"
          ]
        }
      ]
    },
    {
      "cell_type": "markdown",
      "source": [
        "#Break Statement\n",
        "The 'break' statement can stop the loop even if the while condition is true."
      ],
      "metadata": {
        "id": "6mcaAnMcskLP"
      }
    },
    {
      "cell_type": "code",
      "source": [
        "x <- 0\n",
        "while(x < 10){\n",
        "  print(x)\n",
        "  x <- x + 1\n",
        "  if(x == 7){\n",
        "    break\n",
        "  }\n",
        "}"
      ],
      "metadata": {
        "colab": {
          "base_uri": "https://localhost:8080/"
        },
        "id": "xBye4RSUs3YX",
        "outputId": "6206b5ff-881f-4e5e-9c2a-10bd7e40dba3"
      },
      "execution_count": null,
      "outputs": [
        {
          "output_type": "stream",
          "name": "stdout",
          "text": [
            "[1] 0\n",
            "[1] 1\n",
            "[1] 2\n",
            "[1] 3\n",
            "[1] 4\n",
            "[1] 5\n",
            "[1] 6\n"
          ]
        }
      ]
    },
    {
      "cell_type": "markdown",
      "source": [
        "#For Loops\n",
        "a 'for' loop can be used to iterate over a sequence."
      ],
      "metadata": {
        "id": "db-ZpLkmtyVw"
      }
    },
    {
      "cell_type": "code",
      "source": [
        "#x starts at 10 and goes until 10\n",
        "for(x in 1:10){\n",
        "  print(x)\n",
        "}"
      ],
      "metadata": {
        "colab": {
          "base_uri": "https://localhost:8080/"
        },
        "id": "OJfKPf_3t5XH",
        "outputId": "0829c192-5a75-46cf-ba3d-9c1b145117c4"
      },
      "execution_count": null,
      "outputs": [
        {
          "output_type": "stream",
          "name": "stdout",
          "text": [
            "[1] 1\n",
            "[1] 2\n",
            "[1] 3\n",
            "[1] 4\n",
            "[1] 5\n",
            "[1] 6\n",
            "[1] 7\n",
            "[1] 8\n",
            "[1] 9\n",
            "[1] 10\n"
          ]
        }
      ]
    },
    {
      "cell_type": "markdown",
      "source": [
        "#Breaks in For Loops\n",
        "The break statement can stop the loop before it goes through everything."
      ],
      "metadata": {
        "id": "F_4IseccuX_Z"
      }
    },
    {
      "cell_type": "code",
      "source": [
        "for(x in 1:10){\n",
        "  print(x)\n",
        "  if(x == 8){\n",
        "    break\n",
        "  }\n",
        "}"
      ],
      "metadata": {
        "colab": {
          "base_uri": "https://localhost:8080/"
        },
        "id": "-cuYm-hpugI2",
        "outputId": "77e98c34-0874-44cd-fd26-d68825dbab44"
      },
      "execution_count": null,
      "outputs": [
        {
          "output_type": "stream",
          "name": "stdout",
          "text": [
            "[1] 1\n",
            "[1] 2\n",
            "[1] 3\n",
            "[1] 4\n",
            "[1] 5\n",
            "[1] 6\n",
            "[1] 7\n",
            "[1] 8\n"
          ]
        }
      ]
    },
    {
      "cell_type": "markdown",
      "source": [
        "#Next Statement\n",
        "The 'next' statement can skip an iterations without stopping the loop"
      ],
      "metadata": {
        "id": "9shhFsVdu-Gb"
      }
    },
    {
      "cell_type": "code",
      "source": [
        "#Have it skip a specified number\n",
        "for(x in 1:10){\n",
        "  if(x == 8){\n",
        "    next\n",
        "  }\n",
        "  print(x)\n",
        "}"
      ],
      "metadata": {
        "colab": {
          "base_uri": "https://localhost:8080/"
        },
        "id": "AKTCTdceuwdF",
        "outputId": "316e2442-d5be-4efb-9b1a-1441abfca960"
      },
      "execution_count": null,
      "outputs": [
        {
          "output_type": "stream",
          "name": "stdout",
          "text": [
            "[1] 1\n",
            "[1] 2\n",
            "[1] 3\n",
            "[1] 4\n",
            "[1] 5\n",
            "[1] 6\n",
            "[1] 7\n",
            "[1] 9\n",
            "[1] 10\n"
          ]
        }
      ]
    },
    {
      "cell_type": "code",
      "source": [
        "#Combo a for loop with an if else statement\n",
        "\n",
        "for(x in 1:10){\n",
        "  if(x == 5){\n",
        "    print(paste(\"The current number is \", x, \". Number Five!\"))\n",
        "  } else{\n",
        "    print(paste(\"The current number is\", x, \".\"))\n",
        "  }\n",
        "}"
      ],
      "metadata": {
        "colab": {
          "base_uri": "https://localhost:8080/"
        },
        "id": "iU7suJnEvN1g",
        "outputId": "e2b09848-3fc3-4b63-a86a-aebb887ceeff"
      },
      "execution_count": null,
      "outputs": [
        {
          "output_type": "stream",
          "name": "stdout",
          "text": [
            "[1] \"The current number is 1 .\"\n",
            "[1] \"The current number is 2 .\"\n",
            "[1] \"The current number is 3 .\"\n",
            "[1] \"The current number is 4 .\"\n",
            "[1] \"The current number is  5 . Number Five!\"\n",
            "[1] \"The current number is 6 .\"\n",
            "[1] \"The current number is 7 .\"\n",
            "[1] \"The current number is 8 .\"\n",
            "[1] \"The current number is 9 .\"\n",
            "[1] \"The current number is 10 .\"\n"
          ]
        }
      ]
    },
    {
      "cell_type": "markdown",
      "source": [
        "#Nested Loop\n",
        "A loop inside of a loop is called a nested loop."
      ],
      "metadata": {
        "id": "IVpH5DP9wMeX"
      }
    },
    {
      "cell_type": "code",
      "source": [
        "for(x in 1:10){\n",
        "  print(x)\n",
        "  if(x == 10){\n",
        "    for(y in 11:20){\n",
        "      print(y)\n",
        "    if(y == 20){\n",
        "      break\n",
        "    }\n",
        "\n",
        "  }\n",
        "\n",
        "  }\n",
        "}"
      ],
      "metadata": {
        "colab": {
          "base_uri": "https://localhost:8080/"
        },
        "id": "LmcP4Uf4wTuQ",
        "outputId": "b16165d1-373a-4792-aeaf-fcdd6c232c50"
      },
      "execution_count": null,
      "outputs": [
        {
          "output_type": "stream",
          "name": "stdout",
          "text": [
            "[1] 1\n",
            "[1] 2\n",
            "[1] 3\n",
            "[1] 4\n",
            "[1] 5\n",
            "[1] 6\n",
            "[1] 7\n",
            "[1] 8\n",
            "[1] 9\n",
            "[1] 10\n",
            "[1] 11\n",
            "[1] 12\n",
            "[1] 13\n",
            "[1] 14\n",
            "[1] 15\n",
            "[1] 16\n",
            "[1] 17\n",
            "[1] 18\n",
            "[1] 19\n",
            "[1] 20\n"
          ]
        }
      ]
    },
    {
      "cell_type": "markdown",
      "source": [
        "#Functions\n",
        "A function is a block of code that runs when it is called. You pass data into a function and that functions returns data. The function() keyword is used to create one"
      ],
      "metadata": {
        "id": "364MIi8e30sm"
      }
    },
    {
      "cell_type": "code",
      "source": [
        "first_function <- function() {\n",
        "  print(\"Hello World\")\n",
        "}"
      ],
      "metadata": {
        "id": "xSFQ_8FE4VCn"
      },
      "execution_count": null,
      "outputs": []
    },
    {
      "cell_type": "code",
      "source": [
        "#Call the function\n",
        "first_function()"
      ],
      "metadata": {
        "colab": {
          "base_uri": "https://localhost:8080/"
        },
        "id": "kkLy7uQ14fyk",
        "outputId": "5a40bd2c-83fa-4751-8d39-f6a60bf25a70"
      },
      "execution_count": null,
      "outputs": [
        {
          "output_type": "stream",
          "name": "stdout",
          "text": [
            "[1] \"Hello World\"\n"
          ]
        }
      ]
    },
    {
      "cell_type": "markdown",
      "source": [
        "Information can be passed into the functions as arguments.  Arguments are specifided after the function name, within the parentheses. You can separate arguments with a comma.\n",
        "\n"
      ],
      "metadata": {
        "id": "Vis_U0RX4zFt"
      }
    },
    {
      "cell_type": "code",
      "source": [
        "my_function <- function(first_name){\n",
        "  paste(first_name, \"Enoshima\")\n",
        "}\n",
        "\n",
        "my_function(\"Junko\")\n",
        "my_function(\"Bill Nye\")"
      ],
      "metadata": {
        "colab": {
          "base_uri": "https://localhost:8080/",
          "height": 52
        },
        "id": "qrNtjHdV5JYK",
        "outputId": "31ed36af-b6d3-4db2-e756-33b100545165"
      },
      "execution_count": null,
      "outputs": [
        {
          "output_type": "display_data",
          "data": {
            "text/html": [
              "'Junko Enoshima'"
            ],
            "text/markdown": "'Junko Enoshima'",
            "text/latex": "'Junko Enoshima'",
            "text/plain": [
              "[1] \"Junko Enoshima\""
            ]
          },
          "metadata": {}
        },
        {
          "output_type": "display_data",
          "data": {
            "text/html": [
              "'Bill Nye Enoshima'"
            ],
            "text/markdown": "'Bill Nye Enoshima'",
            "text/latex": "'Bill Nye Enoshima'",
            "text/plain": [
              "[1] \"Bill Nye Enoshima\""
            ]
          },
          "metadata": {}
        }
      ]
    },
    {
      "cell_type": "code",
      "source": [
        "my_function <- function(first_name, last_name){\n",
        "  paste(first_name, last_name)\n",
        "}\n",
        "my_function(\"Junko\", \"Enoshima\")"
      ],
      "metadata": {
        "colab": {
          "base_uri": "https://localhost:8080/",
          "height": 34
        },
        "id": "3H8ZuSUc59PH",
        "outputId": "bd99c08c-2333-47a1-be7f-ab55af56376d"
      },
      "execution_count": null,
      "outputs": [
        {
          "output_type": "display_data",
          "data": {
            "text/html": [
              "'Junko Enoshima'"
            ],
            "text/markdown": "'Junko Enoshima'",
            "text/latex": "'Junko Enoshima'",
            "text/plain": [
              "[1] \"Junko Enoshima\""
            ]
          },
          "metadata": {}
        }
      ]
    },
    {
      "cell_type": "markdown",
      "source": [
        "#Return Value\n",
        "You can use the return() function to return a result from a function."
      ],
      "metadata": {
        "id": "vUNgmBEN6Ytp"
      }
    },
    {
      "cell_type": "code",
      "source": [
        "my_function <- function(x) {\n",
        "  return( 5 * x)\n",
        "}\n",
        "print(my_function(13))\n",
        "print(my_function(5))"
      ],
      "metadata": {
        "colab": {
          "base_uri": "https://localhost:8080/"
        },
        "id": "JxVP-OTD6gaz",
        "outputId": "7321d8b9-2e4f-49e3-f1e8-214a95c93c46"
      },
      "execution_count": null,
      "outputs": [
        {
          "output_type": "stream",
          "name": "stdout",
          "text": [
            "[1] 65\n",
            "[1] 25\n"
          ]
        }
      ]
    },
    {
      "cell_type": "markdown",
      "source": [
        "#Nested Functions\n",
        "You can call a function within another function or you can write a function within a function."
      ],
      "metadata": {
        "id": "qtG6yjn47WBD"
      }
    },
    {
      "cell_type": "code",
      "source": [
        "my_function <- function(x){\n",
        "  y <- 10 + x\n",
        "  return (y)\n",
        "}\n",
        "my_function(my_function(3))"
      ],
      "metadata": {
        "colab": {
          "base_uri": "https://localhost:8080/",
          "height": 34
        },
        "id": "5g8Cmeh18HzW",
        "outputId": "aad7d7ec-a414-4a7b-d3dd-10618eac24b9"
      },
      "execution_count": null,
      "outputs": [
        {
          "output_type": "display_data",
          "data": {
            "text/html": [
              "23"
            ],
            "text/markdown": "23",
            "text/latex": "23",
            "text/plain": [
              "[1] 23"
            ]
          },
          "metadata": {}
        }
      ]
    },
    {
      "cell_type": "markdown",
      "source": [
        "First it does 10 + 3 then that 13 is put into the function making it 10 + 13, making it 23."
      ],
      "metadata": {
        "id": "olLn5Kbz8vbL"
      }
    },
    {
      "cell_type": "code",
      "source": [
        "outer_function <- function(x){\n",
        "  inner_function <- function(y){\n",
        "    a <- x + y\n",
        "    return (a)\n",
        "  }\n",
        "  return (inner_function)\n",
        "}\n",
        "output <- outer_function(5) #First function is 5\n",
        "output(2) #Second function is 2"
      ],
      "metadata": {
        "colab": {
          "base_uri": "https://localhost:8080/",
          "height": 34
        },
        "id": "IcVZkITSPLym",
        "outputId": "9c27478c-e435-457d-892a-239e1cf4cdac"
      },
      "execution_count": 4,
      "outputs": [
        {
          "output_type": "display_data",
          "data": {
            "text/html": [
              "7"
            ],
            "text/markdown": "7",
            "text/latex": "7",
            "text/plain": [
              "[1] 7"
            ]
          },
          "metadata": {}
        }
      ]
    },
    {
      "cell_type": "markdown",
      "source": [
        "#Function Recursion\n",
        "Function Recursion is when a function can call itself. You can loop through data by using recursion. One way to do this is by having a variable 'k' that subtracts by 1 every time the recursion occurs until it reaches 0 which is when it will stop."
      ],
      "metadata": {
        "id": "gnuIx8tRQAwf"
      }
    },
    {
      "cell_type": "code",
      "source": [
        "recursion_function <- function(k){\n",
        "  if(k > 0){\n",
        "    result <- k + recursion_function(k - 1)\n",
        "    print(result)\n",
        "  } else {\n",
        "    result = 0\n",
        "    return(result)\n",
        "\n",
        "  }\n",
        "}\n",
        "recursion_function(5)"
      ],
      "metadata": {
        "colab": {
          "base_uri": "https://localhost:8080/"
        },
        "id": "oZMywZFhQaU1",
        "outputId": "7c511872-f45e-4c4e-cd28-1247eaa28000"
      },
      "execution_count": 19,
      "outputs": [
        {
          "output_type": "stream",
          "name": "stdout",
          "text": [
            "[1] 1\n",
            "[1] 3\n"
          ]
        }
      ]
    },
    {
      "cell_type": "markdown",
      "source": [
        "#Global Variables\n",
        "Variables that are created outside of a function are known as global variables. They can be used inside and outside of functions."
      ],
      "metadata": {
        "id": "niY-YzfHSIUA"
      }
    },
    {
      "cell_type": "code",
      "source": [
        "text <- \"Ultimate\"\n",
        "my_function <- function() {\n",
        "  paste(\"This is the\", text)\n",
        "}\n",
        "my_function()"
      ],
      "metadata": {
        "colab": {
          "base_uri": "https://localhost:8080/",
          "height": 34
        },
        "id": "_iikSl2USn5O",
        "outputId": "c3892c67-c7e1-42ca-b88a-6744fa17e555"
      },
      "execution_count": 21,
      "outputs": [
        {
          "output_type": "display_data",
          "data": {
            "text/html": [
              "'This is the Ultimate'"
            ],
            "text/markdown": "'This is the Ultimate'",
            "text/latex": "'This is the Ultimate'",
            "text/plain": [
              "[1] \"This is the Ultimate\""
            ]
          },
          "metadata": {}
        }
      ]
    },
    {
      "cell_type": "markdown",
      "source": [
        "#Global Assignment Operator\n",
        "When you create a variable inside of a function that variable is local. You can turn it into a global assignment operator using the '<<-' sign. You can even use it to change the value of a global variable inside of a function."
      ],
      "metadata": {
        "id": "otDz_7uOTDxy"
      }
    },
    {
      "cell_type": "code",
      "source": [
        "my_function <- function() {\n",
        "local_variable <<- \"This is the ultimate\"\n",
        "print(local_variable)\n",
        "}\n",
        "my_function()\n",
        "print(local_variable)"
      ],
      "metadata": {
        "colab": {
          "base_uri": "https://localhost:8080/"
        },
        "id": "Ch2nP5KfTTtK",
        "outputId": "b054a6e6-cdf8-4be3-d766-38b723dec102"
      },
      "execution_count": 22,
      "outputs": [
        {
          "output_type": "stream",
          "name": "stdout",
          "text": [
            "[1] \"This is the ultimate\"\n",
            "[1] \"This is the ultimate\"\n"
          ]
        }
      ]
    }
  ]
}